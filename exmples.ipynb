{
 "cells": [
  {
   "cell_type": "code",
   "execution_count": 1,
   "id": "d56c2a13",
   "metadata": {},
   "outputs": [
    {
     "name": "stdout",
     "output_type": "stream",
     "text": [
      "[11  3  8]\n"
     ]
    }
   ],
   "source": [
    "import numpy as np\n",
    "ss=np.array([11,3,8])\n",
    "print(ss)\n"
   ]
  },
  {
   "cell_type": "code",
   "execution_count": 2,
   "id": "e4684192",
   "metadata": {},
   "outputs": [
    {
     "name": "stdout",
     "output_type": "stream",
     "text": [
      "[[11  4  5]\n",
      " [ 5 66  3]]\n"
     ]
    }
   ],
   "source": [
    "s=np.array([(11,4,5),(5,66,3)])\n",
    "print(s)"
   ]
  },
  {
   "cell_type": "code",
   "execution_count": 3,
   "id": "6ceea3a9",
   "metadata": {},
   "outputs": [
    {
     "name": "stdout",
     "output_type": "stream",
     "text": [
      "2\n"
     ]
    }
   ],
   "source": [
    "print(s.ndim)"
   ]
  },
  {
   "cell_type": "code",
   "execution_count": 4,
   "id": "d535add8",
   "metadata": {},
   "outputs": [
    {
     "name": "stdout",
     "output_type": "stream",
     "text": [
      "4\n"
     ]
    }
   ],
   "source": [
    "print(s.itemsize)"
   ]
  },
  {
   "cell_type": "code",
   "execution_count": 5,
   "id": "5d90c011",
   "metadata": {},
   "outputs": [
    {
     "name": "stdout",
     "output_type": "stream",
     "text": [
      "int32\n"
     ]
    }
   ],
   "source": [
    "print(s.dtype)"
   ]
  },
  {
   "cell_type": "code",
   "execution_count": 6,
   "id": "d6a4316b",
   "metadata": {},
   "outputs": [
    {
     "name": "stdout",
     "output_type": "stream",
     "text": [
      "6\n"
     ]
    }
   ],
   "source": [
    "print(s.size)"
   ]
  },
  {
   "cell_type": "code",
   "execution_count": 7,
   "id": "fa9ce7fd",
   "metadata": {},
   "outputs": [
    {
     "name": "stdout",
     "output_type": "stream",
     "text": [
      "[[1 2]\n",
      " [3 4]\n",
      " [5 6]\n",
      " [7 8]]\n"
     ]
    }
   ],
   "source": [
    "ar=np.array([(1,2,3,4),(5,6,7,8)])\n",
    "ar=ar.reshape(4,2)\n",
    "print(ar)"
   ]
  },
  {
   "cell_type": "code",
   "execution_count": 8,
   "id": "724d992d",
   "metadata": {},
   "outputs": [
    {
     "name": "stdout",
     "output_type": "stream",
     "text": [
      "[1 2 3 4]\n",
      "[3 5]\n"
     ]
    }
   ],
   "source": [
    "a=np.array([(1,2,3,4),(3,4,5,6)])\n",
    "print(a[0, :])\n",
    "print(a[0:,2])"
   ]
  },
  {
   "cell_type": "code",
   "execution_count": 9,
   "id": "e492fc9b",
   "metadata": {},
   "outputs": [
    {
     "name": "stdout",
     "output_type": "stream",
     "text": [
      "[1.         1.28571429 1.57142857 1.85714286 2.14285714 2.42857143\n",
      " 2.71428571 3.         3.28571429 3.57142857 3.85714286 4.14285714\n",
      " 4.42857143 4.71428571 5.        ]\n"
     ]
    }
   ],
   "source": [
    "ls1=np.linspace(1,5,15)\n",
    "print(ls1)"
   ]
  },
  {
   "cell_type": "code",
   "execution_count": 10,
   "id": "2a6e2072",
   "metadata": {},
   "outputs": [
    {
     "name": "stdout",
     "output_type": "stream",
     "text": [
      "[[1.         4.69041576 2.64575131 2.82842712]\n",
      " [1.73205081 2.         2.23606798 2.44948974]]\n"
     ]
    }
   ],
   "source": [
    "az=np.array([(1,22,7,8),(3,4,5,6)])\n",
    "print(np.sqrt(az))"
   ]
  },
  {
   "cell_type": "code",
   "execution_count": 11,
   "id": "965ac5a7",
   "metadata": {},
   "outputs": [
    {
     "name": "stdout",
     "output_type": "stream",
     "text": [
      "[[ 2  4  6  8]\n",
      " [ 6  8 10 12]]\n"
     ]
    }
   ],
   "source": [
    "ad=np.array([(1,2,3,4),(3,4,5,6)])\n",
    "ad1=np.array([(1,2,3,4),(3,4,5,6)])\n",
    "print(ad+ad1)"
   ]
  },
  {
   "cell_type": "code",
   "execution_count": 12,
   "id": "44436572",
   "metadata": {},
   "outputs": [
    {
     "name": "stdout",
     "output_type": "stream",
     "text": [
      "[[0 0 0 0]\n",
      " [0 0 0 0]]\n"
     ]
    }
   ],
   "source": [
    "print(ad-ad1)"
   ]
  },
  {
   "cell_type": "code",
   "execution_count": 13,
   "id": "c24cd773",
   "metadata": {},
   "outputs": [
    {
     "name": "stdout",
     "output_type": "stream",
     "text": [
      "[[ 1  4  9 16]\n",
      " [ 9 16 25 36]]\n"
     ]
    }
   ],
   "source": [
    "print(ad*ad1)"
   ]
  },
  {
   "cell_type": "code",
   "execution_count": 14,
   "id": "b7316e7f",
   "metadata": {},
   "outputs": [
    {
     "name": "stdout",
     "output_type": "stream",
     "text": [
      "[[1. 1. 1. 1.]\n",
      " [1. 1. 1. 1.]]\n"
     ]
    }
   ],
   "source": [
    "print(ad/ad1)"
   ]
  },
  {
   "cell_type": "code",
   "execution_count": 15,
   "id": "06719de1",
   "metadata": {},
   "outputs": [
    {
     "name": "stdout",
     "output_type": "stream",
     "text": [
      "[[1 2 3 4]\n",
      " [3 4 5 6]\n",
      " [1 2 3 4]\n",
      " [3 4 5 6]]\n"
     ]
    }
   ],
   "source": [
    "print(np.vstack((ad,ad1)))"
   ]
  },
  {
   "cell_type": "code",
   "execution_count": 16,
   "id": "1bd0ff4c",
   "metadata": {},
   "outputs": [
    {
     "name": "stdout",
     "output_type": "stream",
     "text": [
      "[[1 2 3 4 1 2 3 4]\n",
      " [3 4 5 6 3 4 5 6]]\n"
     ]
    }
   ],
   "source": [
    "print(np.hstack((ad,ad1)))"
   ]
  },
  {
   "cell_type": "code",
   "execution_count": 17,
   "id": "560c3b5f",
   "metadata": {},
   "outputs": [
    {
     "name": "stdout",
     "output_type": "stream",
     "text": [
      "[[0. 0. 0. 0.]\n",
      " [0. 0. 0. 0.]\n",
      " [0. 0. 0. 0.]]\n"
     ]
    }
   ],
   "source": [
    "c=np.zeros((3,4))\n",
    "print(c)"
   ]
  },
  {
   "cell_type": "code",
   "execution_count": 18,
   "id": "54dbe3e6",
   "metadata": {},
   "outputs": [
    {
     "name": "stdout",
     "output_type": "stream",
     "text": [
      "[[1.+0.j 1.+0.j 1.+0.j]\n",
      " [1.+0.j 1.+0.j 1.+0.j]\n",
      " [1.+0.j 1.+0.j 1.+0.j]]\n"
     ]
    }
   ],
   "source": [
    "d=np.full((3,3),1,dtype='complex')\n",
    "print(d)"
   ]
  },
  {
   "cell_type": "code",
   "execution_count": 19,
   "id": "5c727cf9",
   "metadata": {},
   "outputs": [
    {
     "name": "stdout",
     "output_type": "stream",
     "text": [
      "[[0.27710264 0.71595635]\n",
      " [0.87261857 0.4107143 ]\n",
      " [0.98181638 0.35441286]\n",
      " [0.56585981 0.82245257]]\n"
     ]
    }
   ],
   "source": [
    "e=np.random.random((4,2))\n",
    "print(e)"
   ]
  },
  {
   "cell_type": "code",
   "execution_count": 20,
   "id": "b6782cf3",
   "metadata": {},
   "outputs": [],
   "source": [
    "s=np.arange(0,50,10)"
   ]
  },
  {
   "cell_type": "code",
   "execution_count": 21,
   "id": "2157a4d9",
   "metadata": {},
   "outputs": [
    {
     "name": "stdout",
     "output_type": "stream",
     "text": [
      "[ 0 10 20 30 40]\n"
     ]
    }
   ],
   "source": [
    "print(s)"
   ]
  },
  {
   "cell_type": "code",
   "execution_count": 22,
   "id": "0a6a9f6d",
   "metadata": {},
   "outputs": [],
   "source": [
    "flatten=ad.flatten()"
   ]
  },
  {
   "cell_type": "code",
   "execution_count": 23,
   "id": "9288d500",
   "metadata": {},
   "outputs": [
    {
     "name": "stdout",
     "output_type": "stream",
     "text": [
      "[1 2 3 4 3 4 5 6]\n"
     ]
    }
   ],
   "source": [
    "print(flatten)"
   ]
  },
  {
   "cell_type": "markdown",
   "id": "d6e802e1",
   "metadata": {},
   "source": [
    "# pandas\n"
   ]
  },
  {
   "cell_type": "code",
   "execution_count": 24,
   "id": "52362bac",
   "metadata": {},
   "outputs": [],
   "source": [
    "import pandas as pd\n",
    "import numpy as np\n"
   ]
  },
  {
   "cell_type": "code",
   "execution_count": 25,
   "id": "956243ba",
   "metadata": {},
   "outputs": [
    {
     "data": {
      "text/plain": [
       "0    2.0\n",
       "1    3.0\n",
       "2    4.0\n",
       "3    5.0\n",
       "4    6.0\n",
       "5    7.0\n",
       "6    NaN\n",
       "7    9.0\n",
       "8    6.0\n",
       "dtype: float64"
      ]
     },
     "execution_count": 25,
     "metadata": {},
     "output_type": "execute_result"
    }
   ],
   "source": [
    "m=pd.Series([2,3,4,5,6,7,np.nan,9,6])\n",
    "m"
   ]
  },
  {
   "cell_type": "code",
   "execution_count": 26,
   "id": "0e15d25c",
   "metadata": {},
   "outputs": [],
   "source": [
    "s=pd.Series([1,2,3,4,5,6,np.nan,8,9,10])"
   ]
  },
  {
   "cell_type": "code",
   "execution_count": 27,
   "id": "e1b7453c",
   "metadata": {},
   "outputs": [
    {
     "data": {
      "text/plain": [
       "0     1.0\n",
       "1     2.0\n",
       "2     3.0\n",
       "3     4.0\n",
       "4     5.0\n",
       "5     6.0\n",
       "6     NaN\n",
       "7     8.0\n",
       "8     9.0\n",
       "9    10.0\n",
       "dtype: float64"
      ]
     },
     "execution_count": 27,
     "metadata": {},
     "output_type": "execute_result"
    }
   ],
   "source": [
    "s"
   ]
  },
  {
   "cell_type": "code",
   "execution_count": 28,
   "id": "67a7cb05",
   "metadata": {},
   "outputs": [],
   "source": [
    "dd=pd.date_range('20220729',periods=11)"
   ]
  },
  {
   "cell_type": "code",
   "execution_count": 29,
   "id": "ae90e0f3",
   "metadata": {},
   "outputs": [
    {
     "data": {
      "text/plain": [
       "DatetimeIndex(['2022-07-29', '2022-07-30', '2022-07-31', '2022-08-01',\n",
       "               '2022-08-02', '2022-08-03', '2022-08-04', '2022-08-05',\n",
       "               '2022-08-06', '2022-08-07', '2022-08-08'],\n",
       "              dtype='datetime64[ns]', freq='D')"
      ]
     },
     "execution_count": 29,
     "metadata": {},
     "output_type": "execute_result"
    }
   ],
   "source": [
    "dd"
   ]
  },
  {
   "cell_type": "code",
   "execution_count": 30,
   "id": "7fb01fa8",
   "metadata": {},
   "outputs": [],
   "source": [
    "df=pd.DataFrame(np.random.randn(11,4),index=dd,columns=['a','b','c','d'])"
   ]
  },
  {
   "cell_type": "code",
   "execution_count": 31,
   "id": "3b497db6",
   "metadata": {},
   "outputs": [
    {
     "data": {
      "text/html": [
       "<div>\n",
       "<style scoped>\n",
       "    .dataframe tbody tr th:only-of-type {\n",
       "        vertical-align: middle;\n",
       "    }\n",
       "\n",
       "    .dataframe tbody tr th {\n",
       "        vertical-align: top;\n",
       "    }\n",
       "\n",
       "    .dataframe thead th {\n",
       "        text-align: right;\n",
       "    }\n",
       "</style>\n",
       "<table border=\"1\" class=\"dataframe\">\n",
       "  <thead>\n",
       "    <tr style=\"text-align: right;\">\n",
       "      <th></th>\n",
       "      <th>a</th>\n",
       "      <th>b</th>\n",
       "      <th>c</th>\n",
       "      <th>d</th>\n",
       "    </tr>\n",
       "  </thead>\n",
       "  <tbody>\n",
       "    <tr>\n",
       "      <th>2022-07-29</th>\n",
       "      <td>-0.303906</td>\n",
       "      <td>0.623395</td>\n",
       "      <td>-1.721284</td>\n",
       "      <td>-0.410127</td>\n",
       "    </tr>\n",
       "    <tr>\n",
       "      <th>2022-07-30</th>\n",
       "      <td>1.514594</td>\n",
       "      <td>0.788200</td>\n",
       "      <td>-0.280448</td>\n",
       "      <td>1.103265</td>\n",
       "    </tr>\n",
       "    <tr>\n",
       "      <th>2022-07-31</th>\n",
       "      <td>0.776446</td>\n",
       "      <td>0.539641</td>\n",
       "      <td>0.454580</td>\n",
       "      <td>0.145046</td>\n",
       "    </tr>\n",
       "    <tr>\n",
       "      <th>2022-08-01</th>\n",
       "      <td>-0.029790</td>\n",
       "      <td>-0.454201</td>\n",
       "      <td>-0.976376</td>\n",
       "      <td>0.845638</td>\n",
       "    </tr>\n",
       "    <tr>\n",
       "      <th>2022-08-02</th>\n",
       "      <td>-0.048172</td>\n",
       "      <td>0.673289</td>\n",
       "      <td>-0.757747</td>\n",
       "      <td>-0.127853</td>\n",
       "    </tr>\n",
       "    <tr>\n",
       "      <th>2022-08-03</th>\n",
       "      <td>-2.045337</td>\n",
       "      <td>-0.274734</td>\n",
       "      <td>-0.630461</td>\n",
       "      <td>1.517140</td>\n",
       "    </tr>\n",
       "    <tr>\n",
       "      <th>2022-08-04</th>\n",
       "      <td>1.370399</td>\n",
       "      <td>0.053237</td>\n",
       "      <td>1.103222</td>\n",
       "      <td>-0.175332</td>\n",
       "    </tr>\n",
       "    <tr>\n",
       "      <th>2022-08-05</th>\n",
       "      <td>0.718519</td>\n",
       "      <td>0.084447</td>\n",
       "      <td>-0.338849</td>\n",
       "      <td>-0.436841</td>\n",
       "    </tr>\n",
       "    <tr>\n",
       "      <th>2022-08-06</th>\n",
       "      <td>-0.332367</td>\n",
       "      <td>0.270342</td>\n",
       "      <td>-0.350372</td>\n",
       "      <td>0.731370</td>\n",
       "    </tr>\n",
       "    <tr>\n",
       "      <th>2022-08-07</th>\n",
       "      <td>0.589942</td>\n",
       "      <td>0.288992</td>\n",
       "      <td>1.670710</td>\n",
       "      <td>0.240577</td>\n",
       "    </tr>\n",
       "    <tr>\n",
       "      <th>2022-08-08</th>\n",
       "      <td>-0.344840</td>\n",
       "      <td>0.443438</td>\n",
       "      <td>-0.780292</td>\n",
       "      <td>2.748729</td>\n",
       "    </tr>\n",
       "  </tbody>\n",
       "</table>\n",
       "</div>"
      ],
      "text/plain": [
       "                   a         b         c         d\n",
       "2022-07-29 -0.303906  0.623395 -1.721284 -0.410127\n",
       "2022-07-30  1.514594  0.788200 -0.280448  1.103265\n",
       "2022-07-31  0.776446  0.539641  0.454580  0.145046\n",
       "2022-08-01 -0.029790 -0.454201 -0.976376  0.845638\n",
       "2022-08-02 -0.048172  0.673289 -0.757747 -0.127853\n",
       "2022-08-03 -2.045337 -0.274734 -0.630461  1.517140\n",
       "2022-08-04  1.370399  0.053237  1.103222 -0.175332\n",
       "2022-08-05  0.718519  0.084447 -0.338849 -0.436841\n",
       "2022-08-06 -0.332367  0.270342 -0.350372  0.731370\n",
       "2022-08-07  0.589942  0.288992  1.670710  0.240577\n",
       "2022-08-08 -0.344840  0.443438 -0.780292  2.748729"
      ]
     },
     "execution_count": 31,
     "metadata": {},
     "output_type": "execute_result"
    }
   ],
   "source": [
    "df"
   ]
  },
  {
   "cell_type": "code",
   "execution_count": 32,
   "id": "f342fdf8",
   "metadata": {},
   "outputs": [
    {
     "data": {
      "text/html": [
       "<div>\n",
       "<style scoped>\n",
       "    .dataframe tbody tr th:only-of-type {\n",
       "        vertical-align: middle;\n",
       "    }\n",
       "\n",
       "    .dataframe tbody tr th {\n",
       "        vertical-align: top;\n",
       "    }\n",
       "\n",
       "    .dataframe thead th {\n",
       "        text-align: right;\n",
       "    }\n",
       "</style>\n",
       "<table border=\"1\" class=\"dataframe\">\n",
       "  <thead>\n",
       "    <tr style=\"text-align: right;\">\n",
       "      <th></th>\n",
       "      <th>ab</th>\n",
       "      <th>c</th>\n",
       "      <th>d</th>\n",
       "      <th>e</th>\n",
       "      <th>f</th>\n",
       "    </tr>\n",
       "  </thead>\n",
       "  <tbody>\n",
       "    <tr>\n",
       "      <th>0</th>\n",
       "      <td>2022-07-29</td>\n",
       "      <td>1.0</td>\n",
       "      <td>5</td>\n",
       "      <td>true</td>\n",
       "      <td>nottttt</td>\n",
       "    </tr>\n",
       "    <tr>\n",
       "      <th>1</th>\n",
       "      <td>2022-07-30</td>\n",
       "      <td>1.0</td>\n",
       "      <td>5</td>\n",
       "      <td>false</td>\n",
       "      <td>nottttt</td>\n",
       "    </tr>\n",
       "    <tr>\n",
       "      <th>2</th>\n",
       "      <td>2022-07-31</td>\n",
       "      <td>1.0</td>\n",
       "      <td>5</td>\n",
       "      <td>true</td>\n",
       "      <td>nottttt</td>\n",
       "    </tr>\n",
       "    <tr>\n",
       "      <th>3</th>\n",
       "      <td>2022-08-01</td>\n",
       "      <td>1.0</td>\n",
       "      <td>5</td>\n",
       "      <td>false</td>\n",
       "      <td>nottttt</td>\n",
       "    </tr>\n",
       "    <tr>\n",
       "      <th>4</th>\n",
       "      <td>2022-08-02</td>\n",
       "      <td>1.0</td>\n",
       "      <td>5</td>\n",
       "      <td>true</td>\n",
       "      <td>nottttt</td>\n",
       "    </tr>\n",
       "    <tr>\n",
       "      <th>5</th>\n",
       "      <td>2022-08-03</td>\n",
       "      <td>1.0</td>\n",
       "      <td>5</td>\n",
       "      <td>false</td>\n",
       "      <td>nottttt</td>\n",
       "    </tr>\n",
       "    <tr>\n",
       "      <th>6</th>\n",
       "      <td>2022-08-04</td>\n",
       "      <td>1.0</td>\n",
       "      <td>5</td>\n",
       "      <td>true</td>\n",
       "      <td>nottttt</td>\n",
       "    </tr>\n",
       "    <tr>\n",
       "      <th>7</th>\n",
       "      <td>2022-08-05</td>\n",
       "      <td>1.0</td>\n",
       "      <td>5</td>\n",
       "      <td>false</td>\n",
       "      <td>nottttt</td>\n",
       "    </tr>\n",
       "    <tr>\n",
       "      <th>8</th>\n",
       "      <td>2022-08-06</td>\n",
       "      <td>1.0</td>\n",
       "      <td>5</td>\n",
       "      <td>true</td>\n",
       "      <td>nottttt</td>\n",
       "    </tr>\n",
       "    <tr>\n",
       "      <th>9</th>\n",
       "      <td>2022-08-07</td>\n",
       "      <td>1.0</td>\n",
       "      <td>5</td>\n",
       "      <td>false</td>\n",
       "      <td>nottttt</td>\n",
       "    </tr>\n",
       "  </tbody>\n",
       "</table>\n",
       "</div>"
      ],
      "text/plain": [
       "          ab    c  d      e        f\n",
       "0 2022-07-29  1.0  5   true  nottttt\n",
       "1 2022-07-30  1.0  5  false  nottttt\n",
       "2 2022-07-31  1.0  5   true  nottttt\n",
       "3 2022-08-01  1.0  5  false  nottttt\n",
       "4 2022-08-02  1.0  5   true  nottttt\n",
       "5 2022-08-03  1.0  5  false  nottttt\n",
       "6 2022-08-04  1.0  5   true  nottttt\n",
       "7 2022-08-05  1.0  5  false  nottttt\n",
       "8 2022-08-06  1.0  5   true  nottttt\n",
       "9 2022-08-07  1.0  5  false  nottttt"
      ]
     },
     "execution_count": 32,
     "metadata": {},
     "output_type": "execute_result"
    }
   ],
   "source": [
    "dd1=pd.DataFrame({'a'\n",
    "                 'b':pd.date_range('20220729',periods=10),\n",
    "                 'c':pd.Series(1,index=list(range(10)),dtype='float32'),\n",
    "                 'd':np.array([5]*10,dtype='int32'),\n",
    "                 'e':pd.Categorical(['true','false','true','false','true','false','true','false','true','false']),\n",
    "                 'f':'nottttt'})\n",
    "\n",
    "dd1"
   ]
  },
  {
   "cell_type": "code",
   "execution_count": 33,
   "id": "20ba1a8a",
   "metadata": {},
   "outputs": [
    {
     "data": {
      "text/plain": [
       "ab    datetime64[ns]\n",
       "c            float32\n",
       "d              int32\n",
       "e           category\n",
       "f             object\n",
       "dtype: object"
      ]
     },
     "execution_count": 33,
     "metadata": {},
     "output_type": "execute_result"
    }
   ],
   "source": [
    "dd1.dtypes"
   ]
  },
  {
   "cell_type": "code",
   "execution_count": 34,
   "id": "c4d5dfec",
   "metadata": {},
   "outputs": [
    {
     "data": {
      "text/html": [
       "<div>\n",
       "<style scoped>\n",
       "    .dataframe tbody tr th:only-of-type {\n",
       "        vertical-align: middle;\n",
       "    }\n",
       "\n",
       "    .dataframe tbody tr th {\n",
       "        vertical-align: top;\n",
       "    }\n",
       "\n",
       "    .dataframe thead th {\n",
       "        text-align: right;\n",
       "    }\n",
       "</style>\n",
       "<table border=\"1\" class=\"dataframe\">\n",
       "  <thead>\n",
       "    <tr style=\"text-align: right;\">\n",
       "      <th></th>\n",
       "      <th>ab</th>\n",
       "      <th>c</th>\n",
       "      <th>d</th>\n",
       "      <th>e</th>\n",
       "      <th>f</th>\n",
       "    </tr>\n",
       "  </thead>\n",
       "  <tbody>\n",
       "    <tr>\n",
       "      <th>0</th>\n",
       "      <td>2022-07-29</td>\n",
       "      <td>1.0</td>\n",
       "      <td>5</td>\n",
       "      <td>true</td>\n",
       "      <td>nottttt</td>\n",
       "    </tr>\n",
       "    <tr>\n",
       "      <th>1</th>\n",
       "      <td>2022-07-30</td>\n",
       "      <td>1.0</td>\n",
       "      <td>5</td>\n",
       "      <td>false</td>\n",
       "      <td>nottttt</td>\n",
       "    </tr>\n",
       "    <tr>\n",
       "      <th>2</th>\n",
       "      <td>2022-07-31</td>\n",
       "      <td>1.0</td>\n",
       "      <td>5</td>\n",
       "      <td>true</td>\n",
       "      <td>nottttt</td>\n",
       "    </tr>\n",
       "    <tr>\n",
       "      <th>3</th>\n",
       "      <td>2022-08-01</td>\n",
       "      <td>1.0</td>\n",
       "      <td>5</td>\n",
       "      <td>false</td>\n",
       "      <td>nottttt</td>\n",
       "    </tr>\n",
       "    <tr>\n",
       "      <th>4</th>\n",
       "      <td>2022-08-02</td>\n",
       "      <td>1.0</td>\n",
       "      <td>5</td>\n",
       "      <td>true</td>\n",
       "      <td>nottttt</td>\n",
       "    </tr>\n",
       "  </tbody>\n",
       "</table>\n",
       "</div>"
      ],
      "text/plain": [
       "          ab    c  d      e        f\n",
       "0 2022-07-29  1.0  5   true  nottttt\n",
       "1 2022-07-30  1.0  5  false  nottttt\n",
       "2 2022-07-31  1.0  5   true  nottttt\n",
       "3 2022-08-01  1.0  5  false  nottttt\n",
       "4 2022-08-02  1.0  5   true  nottttt"
      ]
     },
     "execution_count": 34,
     "metadata": {},
     "output_type": "execute_result"
    }
   ],
   "source": [
    "dd1.head()\n",
    "\n",
    "\n",
    "#upper 5 values can see"
   ]
  },
  {
   "cell_type": "code",
   "execution_count": 35,
   "id": "493d5889",
   "metadata": {},
   "outputs": [
    {
     "data": {
      "text/html": [
       "<div>\n",
       "<style scoped>\n",
       "    .dataframe tbody tr th:only-of-type {\n",
       "        vertical-align: middle;\n",
       "    }\n",
       "\n",
       "    .dataframe tbody tr th {\n",
       "        vertical-align: top;\n",
       "    }\n",
       "\n",
       "    .dataframe thead th {\n",
       "        text-align: right;\n",
       "    }\n",
       "</style>\n",
       "<table border=\"1\" class=\"dataframe\">\n",
       "  <thead>\n",
       "    <tr style=\"text-align: right;\">\n",
       "      <th></th>\n",
       "      <th>ab</th>\n",
       "      <th>c</th>\n",
       "      <th>d</th>\n",
       "      <th>e</th>\n",
       "      <th>f</th>\n",
       "    </tr>\n",
       "  </thead>\n",
       "  <tbody>\n",
       "    <tr>\n",
       "      <th>5</th>\n",
       "      <td>2022-08-03</td>\n",
       "      <td>1.0</td>\n",
       "      <td>5</td>\n",
       "      <td>false</td>\n",
       "      <td>nottttt</td>\n",
       "    </tr>\n",
       "    <tr>\n",
       "      <th>6</th>\n",
       "      <td>2022-08-04</td>\n",
       "      <td>1.0</td>\n",
       "      <td>5</td>\n",
       "      <td>true</td>\n",
       "      <td>nottttt</td>\n",
       "    </tr>\n",
       "    <tr>\n",
       "      <th>7</th>\n",
       "      <td>2022-08-05</td>\n",
       "      <td>1.0</td>\n",
       "      <td>5</td>\n",
       "      <td>false</td>\n",
       "      <td>nottttt</td>\n",
       "    </tr>\n",
       "    <tr>\n",
       "      <th>8</th>\n",
       "      <td>2022-08-06</td>\n",
       "      <td>1.0</td>\n",
       "      <td>5</td>\n",
       "      <td>true</td>\n",
       "      <td>nottttt</td>\n",
       "    </tr>\n",
       "    <tr>\n",
       "      <th>9</th>\n",
       "      <td>2022-08-07</td>\n",
       "      <td>1.0</td>\n",
       "      <td>5</td>\n",
       "      <td>false</td>\n",
       "      <td>nottttt</td>\n",
       "    </tr>\n",
       "  </tbody>\n",
       "</table>\n",
       "</div>"
      ],
      "text/plain": [
       "          ab    c  d      e        f\n",
       "5 2022-08-03  1.0  5  false  nottttt\n",
       "6 2022-08-04  1.0  5   true  nottttt\n",
       "7 2022-08-05  1.0  5  false  nottttt\n",
       "8 2022-08-06  1.0  5   true  nottttt\n",
       "9 2022-08-07  1.0  5  false  nottttt"
      ]
     },
     "execution_count": 35,
     "metadata": {},
     "output_type": "execute_result"
    }
   ],
   "source": [
    "dd1.tail()\n",
    "\n",
    "#lower 5 values can seee"
   ]
  },
  {
   "cell_type": "code",
   "execution_count": 36,
   "id": "ed0d87b2",
   "metadata": {},
   "outputs": [
    {
     "data": {
      "text/plain": [
       "Int64Index([0, 1, 2, 3, 4, 5, 6, 7, 8, 9], dtype='int64')"
      ]
     },
     "execution_count": 36,
     "metadata": {},
     "output_type": "execute_result"
    }
   ],
   "source": [
    "dd1.index"
   ]
  },
  {
   "cell_type": "code",
   "execution_count": 37,
   "id": "24f9b057",
   "metadata": {},
   "outputs": [
    {
     "data": {
      "text/plain": [
       "array([[Timestamp('2022-07-29 00:00:00'), 1.0, 5, 'true', 'nottttt'],\n",
       "       [Timestamp('2022-07-30 00:00:00'), 1.0, 5, 'false', 'nottttt'],\n",
       "       [Timestamp('2022-07-31 00:00:00'), 1.0, 5, 'true', 'nottttt'],\n",
       "       [Timestamp('2022-08-01 00:00:00'), 1.0, 5, 'false', 'nottttt'],\n",
       "       [Timestamp('2022-08-02 00:00:00'), 1.0, 5, 'true', 'nottttt'],\n",
       "       [Timestamp('2022-08-03 00:00:00'), 1.0, 5, 'false', 'nottttt'],\n",
       "       [Timestamp('2022-08-04 00:00:00'), 1.0, 5, 'true', 'nottttt'],\n",
       "       [Timestamp('2022-08-05 00:00:00'), 1.0, 5, 'false', 'nottttt'],\n",
       "       [Timestamp('2022-08-06 00:00:00'), 1.0, 5, 'true', 'nottttt'],\n",
       "       [Timestamp('2022-08-07 00:00:00'), 1.0, 5, 'false', 'nottttt']],\n",
       "      dtype=object)"
      ]
     },
     "execution_count": 37,
     "metadata": {},
     "output_type": "execute_result"
    }
   ],
   "source": [
    "dd1.to_numpy()"
   ]
  },
  {
   "cell_type": "code",
   "execution_count": 38,
   "id": "540fc6b3",
   "metadata": {},
   "outputs": [
    {
     "data": {
      "text/html": [
       "<div>\n",
       "<style scoped>\n",
       "    .dataframe tbody tr th:only-of-type {\n",
       "        vertical-align: middle;\n",
       "    }\n",
       "\n",
       "    .dataframe tbody tr th {\n",
       "        vertical-align: top;\n",
       "    }\n",
       "\n",
       "    .dataframe thead th {\n",
       "        text-align: right;\n",
       "    }\n",
       "</style>\n",
       "<table border=\"1\" class=\"dataframe\">\n",
       "  <thead>\n",
       "    <tr style=\"text-align: right;\">\n",
       "      <th></th>\n",
       "      <th>c</th>\n",
       "      <th>d</th>\n",
       "    </tr>\n",
       "  </thead>\n",
       "  <tbody>\n",
       "    <tr>\n",
       "      <th>count</th>\n",
       "      <td>10.0</td>\n",
       "      <td>10.0</td>\n",
       "    </tr>\n",
       "    <tr>\n",
       "      <th>mean</th>\n",
       "      <td>1.0</td>\n",
       "      <td>5.0</td>\n",
       "    </tr>\n",
       "    <tr>\n",
       "      <th>std</th>\n",
       "      <td>0.0</td>\n",
       "      <td>0.0</td>\n",
       "    </tr>\n",
       "    <tr>\n",
       "      <th>min</th>\n",
       "      <td>1.0</td>\n",
       "      <td>5.0</td>\n",
       "    </tr>\n",
       "    <tr>\n",
       "      <th>25%</th>\n",
       "      <td>1.0</td>\n",
       "      <td>5.0</td>\n",
       "    </tr>\n",
       "    <tr>\n",
       "      <th>50%</th>\n",
       "      <td>1.0</td>\n",
       "      <td>5.0</td>\n",
       "    </tr>\n",
       "    <tr>\n",
       "      <th>75%</th>\n",
       "      <td>1.0</td>\n",
       "      <td>5.0</td>\n",
       "    </tr>\n",
       "    <tr>\n",
       "      <th>max</th>\n",
       "      <td>1.0</td>\n",
       "      <td>5.0</td>\n",
       "    </tr>\n",
       "  </tbody>\n",
       "</table>\n",
       "</div>"
      ],
      "text/plain": [
       "          c     d\n",
       "count  10.0  10.0\n",
       "mean    1.0   5.0\n",
       "std     0.0   0.0\n",
       "min     1.0   5.0\n",
       "25%     1.0   5.0\n",
       "50%     1.0   5.0\n",
       "75%     1.0   5.0\n",
       "max     1.0   5.0"
      ]
     },
     "execution_count": 38,
     "metadata": {},
     "output_type": "execute_result"
    }
   ],
   "source": [
    "dd1.describe()"
   ]
  },
  {
   "cell_type": "code",
   "execution_count": 39,
   "id": "d59ef148",
   "metadata": {},
   "outputs": [
    {
     "data": {
      "text/html": [
       "<div>\n",
       "<style scoped>\n",
       "    .dataframe tbody tr th:only-of-type {\n",
       "        vertical-align: middle;\n",
       "    }\n",
       "\n",
       "    .dataframe tbody tr th {\n",
       "        vertical-align: top;\n",
       "    }\n",
       "\n",
       "    .dataframe thead th {\n",
       "        text-align: right;\n",
       "    }\n",
       "</style>\n",
       "<table border=\"1\" class=\"dataframe\">\n",
       "  <thead>\n",
       "    <tr style=\"text-align: right;\">\n",
       "      <th></th>\n",
       "      <th>f</th>\n",
       "      <th>e</th>\n",
       "      <th>d</th>\n",
       "      <th>c</th>\n",
       "      <th>ab</th>\n",
       "    </tr>\n",
       "  </thead>\n",
       "  <tbody>\n",
       "    <tr>\n",
       "      <th>0</th>\n",
       "      <td>nottttt</td>\n",
       "      <td>true</td>\n",
       "      <td>5</td>\n",
       "      <td>1.0</td>\n",
       "      <td>2022-07-29</td>\n",
       "    </tr>\n",
       "    <tr>\n",
       "      <th>1</th>\n",
       "      <td>nottttt</td>\n",
       "      <td>false</td>\n",
       "      <td>5</td>\n",
       "      <td>1.0</td>\n",
       "      <td>2022-07-30</td>\n",
       "    </tr>\n",
       "    <tr>\n",
       "      <th>2</th>\n",
       "      <td>nottttt</td>\n",
       "      <td>true</td>\n",
       "      <td>5</td>\n",
       "      <td>1.0</td>\n",
       "      <td>2022-07-31</td>\n",
       "    </tr>\n",
       "    <tr>\n",
       "      <th>3</th>\n",
       "      <td>nottttt</td>\n",
       "      <td>false</td>\n",
       "      <td>5</td>\n",
       "      <td>1.0</td>\n",
       "      <td>2022-08-01</td>\n",
       "    </tr>\n",
       "    <tr>\n",
       "      <th>4</th>\n",
       "      <td>nottttt</td>\n",
       "      <td>true</td>\n",
       "      <td>5</td>\n",
       "      <td>1.0</td>\n",
       "      <td>2022-08-02</td>\n",
       "    </tr>\n",
       "    <tr>\n",
       "      <th>5</th>\n",
       "      <td>nottttt</td>\n",
       "      <td>false</td>\n",
       "      <td>5</td>\n",
       "      <td>1.0</td>\n",
       "      <td>2022-08-03</td>\n",
       "    </tr>\n",
       "    <tr>\n",
       "      <th>6</th>\n",
       "      <td>nottttt</td>\n",
       "      <td>true</td>\n",
       "      <td>5</td>\n",
       "      <td>1.0</td>\n",
       "      <td>2022-08-04</td>\n",
       "    </tr>\n",
       "    <tr>\n",
       "      <th>7</th>\n",
       "      <td>nottttt</td>\n",
       "      <td>false</td>\n",
       "      <td>5</td>\n",
       "      <td>1.0</td>\n",
       "      <td>2022-08-05</td>\n",
       "    </tr>\n",
       "    <tr>\n",
       "      <th>8</th>\n",
       "      <td>nottttt</td>\n",
       "      <td>true</td>\n",
       "      <td>5</td>\n",
       "      <td>1.0</td>\n",
       "      <td>2022-08-06</td>\n",
       "    </tr>\n",
       "    <tr>\n",
       "      <th>9</th>\n",
       "      <td>nottttt</td>\n",
       "      <td>false</td>\n",
       "      <td>5</td>\n",
       "      <td>1.0</td>\n",
       "      <td>2022-08-07</td>\n",
       "    </tr>\n",
       "  </tbody>\n",
       "</table>\n",
       "</div>"
      ],
      "text/plain": [
       "         f      e  d    c         ab\n",
       "0  nottttt   true  5  1.0 2022-07-29\n",
       "1  nottttt  false  5  1.0 2022-07-30\n",
       "2  nottttt   true  5  1.0 2022-07-31\n",
       "3  nottttt  false  5  1.0 2022-08-01\n",
       "4  nottttt   true  5  1.0 2022-08-02\n",
       "5  nottttt  false  5  1.0 2022-08-03\n",
       "6  nottttt   true  5  1.0 2022-08-04\n",
       "7  nottttt  false  5  1.0 2022-08-05\n",
       "8  nottttt   true  5  1.0 2022-08-06\n",
       "9  nottttt  false  5  1.0 2022-08-07"
      ]
     },
     "execution_count": 39,
     "metadata": {},
     "output_type": "execute_result"
    }
   ],
   "source": [
    "dd1.sort_index(axis=1,ascending=False)"
   ]
  },
  {
   "cell_type": "code",
   "execution_count": 40,
   "id": "23b8b00f",
   "metadata": {},
   "outputs": [
    {
     "data": {
      "text/html": [
       "<div>\n",
       "<style scoped>\n",
       "    .dataframe tbody tr th:only-of-type {\n",
       "        vertical-align: middle;\n",
       "    }\n",
       "\n",
       "    .dataframe tbody tr th {\n",
       "        vertical-align: top;\n",
       "    }\n",
       "\n",
       "    .dataframe thead th {\n",
       "        text-align: right;\n",
       "    }\n",
       "</style>\n",
       "<table border=\"1\" class=\"dataframe\">\n",
       "  <thead>\n",
       "    <tr style=\"text-align: right;\">\n",
       "      <th></th>\n",
       "      <th>a</th>\n",
       "      <th>b</th>\n",
       "      <th>c</th>\n",
       "      <th>d</th>\n",
       "    </tr>\n",
       "  </thead>\n",
       "  <tbody>\n",
       "    <tr>\n",
       "      <th>2022-07-29</th>\n",
       "      <td>-0.303906</td>\n",
       "      <td>0.623395</td>\n",
       "      <td>-1.721284</td>\n",
       "      <td>-0.410127</td>\n",
       "    </tr>\n",
       "    <tr>\n",
       "      <th>2022-08-01</th>\n",
       "      <td>-0.029790</td>\n",
       "      <td>-0.454201</td>\n",
       "      <td>-0.976376</td>\n",
       "      <td>0.845638</td>\n",
       "    </tr>\n",
       "    <tr>\n",
       "      <th>2022-08-08</th>\n",
       "      <td>-0.344840</td>\n",
       "      <td>0.443438</td>\n",
       "      <td>-0.780292</td>\n",
       "      <td>2.748729</td>\n",
       "    </tr>\n",
       "    <tr>\n",
       "      <th>2022-08-02</th>\n",
       "      <td>-0.048172</td>\n",
       "      <td>0.673289</td>\n",
       "      <td>-0.757747</td>\n",
       "      <td>-0.127853</td>\n",
       "    </tr>\n",
       "    <tr>\n",
       "      <th>2022-08-03</th>\n",
       "      <td>-2.045337</td>\n",
       "      <td>-0.274734</td>\n",
       "      <td>-0.630461</td>\n",
       "      <td>1.517140</td>\n",
       "    </tr>\n",
       "    <tr>\n",
       "      <th>2022-08-06</th>\n",
       "      <td>-0.332367</td>\n",
       "      <td>0.270342</td>\n",
       "      <td>-0.350372</td>\n",
       "      <td>0.731370</td>\n",
       "    </tr>\n",
       "    <tr>\n",
       "      <th>2022-08-05</th>\n",
       "      <td>0.718519</td>\n",
       "      <td>0.084447</td>\n",
       "      <td>-0.338849</td>\n",
       "      <td>-0.436841</td>\n",
       "    </tr>\n",
       "    <tr>\n",
       "      <th>2022-07-30</th>\n",
       "      <td>1.514594</td>\n",
       "      <td>0.788200</td>\n",
       "      <td>-0.280448</td>\n",
       "      <td>1.103265</td>\n",
       "    </tr>\n",
       "    <tr>\n",
       "      <th>2022-07-31</th>\n",
       "      <td>0.776446</td>\n",
       "      <td>0.539641</td>\n",
       "      <td>0.454580</td>\n",
       "      <td>0.145046</td>\n",
       "    </tr>\n",
       "    <tr>\n",
       "      <th>2022-08-04</th>\n",
       "      <td>1.370399</td>\n",
       "      <td>0.053237</td>\n",
       "      <td>1.103222</td>\n",
       "      <td>-0.175332</td>\n",
       "    </tr>\n",
       "    <tr>\n",
       "      <th>2022-08-07</th>\n",
       "      <td>0.589942</td>\n",
       "      <td>0.288992</td>\n",
       "      <td>1.670710</td>\n",
       "      <td>0.240577</td>\n",
       "    </tr>\n",
       "  </tbody>\n",
       "</table>\n",
       "</div>"
      ],
      "text/plain": [
       "                   a         b         c         d\n",
       "2022-07-29 -0.303906  0.623395 -1.721284 -0.410127\n",
       "2022-08-01 -0.029790 -0.454201 -0.976376  0.845638\n",
       "2022-08-08 -0.344840  0.443438 -0.780292  2.748729\n",
       "2022-08-02 -0.048172  0.673289 -0.757747 -0.127853\n",
       "2022-08-03 -2.045337 -0.274734 -0.630461  1.517140\n",
       "2022-08-06 -0.332367  0.270342 -0.350372  0.731370\n",
       "2022-08-05  0.718519  0.084447 -0.338849 -0.436841\n",
       "2022-07-30  1.514594  0.788200 -0.280448  1.103265\n",
       "2022-07-31  0.776446  0.539641  0.454580  0.145046\n",
       "2022-08-04  1.370399  0.053237  1.103222 -0.175332\n",
       "2022-08-07  0.589942  0.288992  1.670710  0.240577"
      ]
     },
     "execution_count": 40,
     "metadata": {},
     "output_type": "execute_result"
    }
   ],
   "source": [
    "df.sort_values(by='c')"
   ]
  },
  {
   "cell_type": "code",
   "execution_count": 41,
   "id": "0bb8780b",
   "metadata": {},
   "outputs": [
    {
     "data": {
      "text/plain": [
       "2022-07-29   -1.721284\n",
       "2022-07-30   -0.280448\n",
       "2022-07-31    0.454580\n",
       "2022-08-01   -0.976376\n",
       "2022-08-02   -0.757747\n",
       "2022-08-03   -0.630461\n",
       "2022-08-04    1.103222\n",
       "2022-08-05   -0.338849\n",
       "2022-08-06   -0.350372\n",
       "2022-08-07    1.670710\n",
       "2022-08-08   -0.780292\n",
       "Freq: D, Name: c, dtype: float64"
      ]
     },
     "execution_count": 41,
     "metadata": {},
     "output_type": "execute_result"
    }
   ],
   "source": [
    "df['c']"
   ]
  },
  {
   "cell_type": "code",
   "execution_count": 42,
   "id": "4c07742e",
   "metadata": {},
   "outputs": [
    {
     "data": {
      "text/html": [
       "<div>\n",
       "<style scoped>\n",
       "    .dataframe tbody tr th:only-of-type {\n",
       "        vertical-align: middle;\n",
       "    }\n",
       "\n",
       "    .dataframe tbody tr th {\n",
       "        vertical-align: top;\n",
       "    }\n",
       "\n",
       "    .dataframe thead th {\n",
       "        text-align: right;\n",
       "    }\n",
       "</style>\n",
       "<table border=\"1\" class=\"dataframe\">\n",
       "  <thead>\n",
       "    <tr style=\"text-align: right;\">\n",
       "      <th></th>\n",
       "      <th>a</th>\n",
       "      <th>b</th>\n",
       "      <th>c</th>\n",
       "      <th>d</th>\n",
       "    </tr>\n",
       "  </thead>\n",
       "  <tbody>\n",
       "    <tr>\n",
       "      <th>2022-07-29</th>\n",
       "      <td>-0.303906</td>\n",
       "      <td>0.623395</td>\n",
       "      <td>-1.721284</td>\n",
       "      <td>-0.410127</td>\n",
       "    </tr>\n",
       "    <tr>\n",
       "      <th>2022-07-30</th>\n",
       "      <td>1.514594</td>\n",
       "      <td>0.788200</td>\n",
       "      <td>-0.280448</td>\n",
       "      <td>1.103265</td>\n",
       "    </tr>\n",
       "    <tr>\n",
       "      <th>2022-07-31</th>\n",
       "      <td>0.776446</td>\n",
       "      <td>0.539641</td>\n",
       "      <td>0.454580</td>\n",
       "      <td>0.145046</td>\n",
       "    </tr>\n",
       "  </tbody>\n",
       "</table>\n",
       "</div>"
      ],
      "text/plain": [
       "                   a         b         c         d\n",
       "2022-07-29 -0.303906  0.623395 -1.721284 -0.410127\n",
       "2022-07-30  1.514594  0.788200 -0.280448  1.103265\n",
       "2022-07-31  0.776446  0.539641  0.454580  0.145046"
      ]
     },
     "execution_count": 42,
     "metadata": {},
     "output_type": "execute_result"
    }
   ],
   "source": [
    "df[0:3]\n",
    "#pic the first 3 coloms"
   ]
  },
  {
   "cell_type": "code",
   "execution_count": 43,
   "id": "36cafe59",
   "metadata": {},
   "outputs": [
    {
     "data": {
      "text/html": [
       "<div>\n",
       "<style scoped>\n",
       "    .dataframe tbody tr th:only-of-type {\n",
       "        vertical-align: middle;\n",
       "    }\n",
       "\n",
       "    .dataframe tbody tr th {\n",
       "        vertical-align: top;\n",
       "    }\n",
       "\n",
       "    .dataframe thead th {\n",
       "        text-align: right;\n",
       "    }\n",
       "</style>\n",
       "<table border=\"1\" class=\"dataframe\">\n",
       "  <thead>\n",
       "    <tr style=\"text-align: right;\">\n",
       "      <th></th>\n",
       "      <th>a</th>\n",
       "      <th>c</th>\n",
       "    </tr>\n",
       "  </thead>\n",
       "  <tbody>\n",
       "    <tr>\n",
       "      <th>2022-07-29</th>\n",
       "      <td>-0.303906</td>\n",
       "      <td>-1.721284</td>\n",
       "    </tr>\n",
       "    <tr>\n",
       "      <th>2022-07-30</th>\n",
       "      <td>1.514594</td>\n",
       "      <td>-0.280448</td>\n",
       "    </tr>\n",
       "    <tr>\n",
       "      <th>2022-07-31</th>\n",
       "      <td>0.776446</td>\n",
       "      <td>0.454580</td>\n",
       "    </tr>\n",
       "    <tr>\n",
       "      <th>2022-08-01</th>\n",
       "      <td>-0.029790</td>\n",
       "      <td>-0.976376</td>\n",
       "    </tr>\n",
       "    <tr>\n",
       "      <th>2022-08-02</th>\n",
       "      <td>-0.048172</td>\n",
       "      <td>-0.757747</td>\n",
       "    </tr>\n",
       "    <tr>\n",
       "      <th>2022-08-03</th>\n",
       "      <td>-2.045337</td>\n",
       "      <td>-0.630461</td>\n",
       "    </tr>\n",
       "    <tr>\n",
       "      <th>2022-08-04</th>\n",
       "      <td>1.370399</td>\n",
       "      <td>1.103222</td>\n",
       "    </tr>\n",
       "    <tr>\n",
       "      <th>2022-08-05</th>\n",
       "      <td>0.718519</td>\n",
       "      <td>-0.338849</td>\n",
       "    </tr>\n",
       "    <tr>\n",
       "      <th>2022-08-06</th>\n",
       "      <td>-0.332367</td>\n",
       "      <td>-0.350372</td>\n",
       "    </tr>\n",
       "    <tr>\n",
       "      <th>2022-08-07</th>\n",
       "      <td>0.589942</td>\n",
       "      <td>1.670710</td>\n",
       "    </tr>\n",
       "    <tr>\n",
       "      <th>2022-08-08</th>\n",
       "      <td>-0.344840</td>\n",
       "      <td>-0.780292</td>\n",
       "    </tr>\n",
       "  </tbody>\n",
       "</table>\n",
       "</div>"
      ],
      "text/plain": [
       "                   a         c\n",
       "2022-07-29 -0.303906 -1.721284\n",
       "2022-07-30  1.514594 -0.280448\n",
       "2022-07-31  0.776446  0.454580\n",
       "2022-08-01 -0.029790 -0.976376\n",
       "2022-08-02 -0.048172 -0.757747\n",
       "2022-08-03 -2.045337 -0.630461\n",
       "2022-08-04  1.370399  1.103222\n",
       "2022-08-05  0.718519 -0.338849\n",
       "2022-08-06 -0.332367 -0.350372\n",
       "2022-08-07  0.589942  1.670710\n",
       "2022-08-08 -0.344840 -0.780292"
      ]
     },
     "execution_count": 43,
     "metadata": {},
     "output_type": "execute_result"
    }
   ],
   "source": [
    "df.loc[:,['a','c']]"
   ]
  },
  {
   "cell_type": "code",
   "execution_count": 44,
   "id": "f3a34c55",
   "metadata": {},
   "outputs": [
    {
     "data": {
      "text/plain": [
       "d   -0.410127\n",
       "c   -1.721284\n",
       "Name: 2022-07-29 00:00:00, dtype: float64"
      ]
     },
     "execution_count": 44,
     "metadata": {},
     "output_type": "execute_result"
    }
   ],
   "source": [
    "df.loc['20220729',['d','c']]"
   ]
  },
  {
   "cell_type": "code",
   "execution_count": 45,
   "id": "a4ede077",
   "metadata": {},
   "outputs": [
    {
     "data": {
      "text/plain": [
       "a   -0.029790\n",
       "b   -0.454201\n",
       "c   -0.976376\n",
       "d    0.845638\n",
       "Name: 2022-08-01 00:00:00, dtype: float64"
      ]
     },
     "execution_count": 45,
     "metadata": {},
     "output_type": "execute_result"
    }
   ],
   "source": [
    "df.iloc[3]"
   ]
  },
  {
   "cell_type": "code",
   "execution_count": 46,
   "id": "af394985",
   "metadata": {},
   "outputs": [
    {
     "data": {
      "text/html": [
       "<div>\n",
       "<style scoped>\n",
       "    .dataframe tbody tr th:only-of-type {\n",
       "        vertical-align: middle;\n",
       "    }\n",
       "\n",
       "    .dataframe tbody tr th {\n",
       "        vertical-align: top;\n",
       "    }\n",
       "\n",
       "    .dataframe thead th {\n",
       "        text-align: right;\n",
       "    }\n",
       "</style>\n",
       "<table border=\"1\" class=\"dataframe\">\n",
       "  <thead>\n",
       "    <tr style=\"text-align: right;\">\n",
       "      <th></th>\n",
       "      <th>a</th>\n",
       "      <th>b</th>\n",
       "      <th>c</th>\n",
       "      <th>d</th>\n",
       "    </tr>\n",
       "  </thead>\n",
       "  <tbody>\n",
       "    <tr>\n",
       "      <th>2022-08-01</th>\n",
       "      <td>-0.029790</td>\n",
       "      <td>-0.454201</td>\n",
       "      <td>-0.976376</td>\n",
       "      <td>0.845638</td>\n",
       "    </tr>\n",
       "    <tr>\n",
       "      <th>2022-08-02</th>\n",
       "      <td>-0.048172</td>\n",
       "      <td>0.673289</td>\n",
       "      <td>-0.757747</td>\n",
       "      <td>-0.127853</td>\n",
       "    </tr>\n",
       "  </tbody>\n",
       "</table>\n",
       "</div>"
      ],
      "text/plain": [
       "                   a         b         c         d\n",
       "2022-08-01 -0.029790 -0.454201 -0.976376  0.845638\n",
       "2022-08-02 -0.048172  0.673289 -0.757747 -0.127853"
      ]
     },
     "execution_count": 46,
     "metadata": {},
     "output_type": "execute_result"
    }
   ],
   "source": [
    "df.iloc[3:5]"
   ]
  },
  {
   "cell_type": "code",
   "execution_count": 47,
   "id": "c37cd6af",
   "metadata": {},
   "outputs": [
    {
     "data": {
      "text/html": [
       "<div>\n",
       "<style scoped>\n",
       "    .dataframe tbody tr th:only-of-type {\n",
       "        vertical-align: middle;\n",
       "    }\n",
       "\n",
       "    .dataframe tbody tr th {\n",
       "        vertical-align: top;\n",
       "    }\n",
       "\n",
       "    .dataframe thead th {\n",
       "        text-align: right;\n",
       "    }\n",
       "</style>\n",
       "<table border=\"1\" class=\"dataframe\">\n",
       "  <thead>\n",
       "    <tr style=\"text-align: right;\">\n",
       "      <th></th>\n",
       "      <th>a</th>\n",
       "      <th>b</th>\n",
       "      <th>c</th>\n",
       "      <th>d</th>\n",
       "    </tr>\n",
       "  </thead>\n",
       "  <tbody>\n",
       "    <tr>\n",
       "      <th>2022-07-30</th>\n",
       "      <td>1.514594</td>\n",
       "      <td>0.788200</td>\n",
       "      <td>-0.280448</td>\n",
       "      <td>1.103265</td>\n",
       "    </tr>\n",
       "    <tr>\n",
       "      <th>2022-07-31</th>\n",
       "      <td>0.776446</td>\n",
       "      <td>0.539641</td>\n",
       "      <td>0.454580</td>\n",
       "      <td>0.145046</td>\n",
       "    </tr>\n",
       "    <tr>\n",
       "      <th>2022-08-04</th>\n",
       "      <td>1.370399</td>\n",
       "      <td>0.053237</td>\n",
       "      <td>1.103222</td>\n",
       "      <td>-0.175332</td>\n",
       "    </tr>\n",
       "    <tr>\n",
       "      <th>2022-08-05</th>\n",
       "      <td>0.718519</td>\n",
       "      <td>0.084447</td>\n",
       "      <td>-0.338849</td>\n",
       "      <td>-0.436841</td>\n",
       "    </tr>\n",
       "    <tr>\n",
       "      <th>2022-08-07</th>\n",
       "      <td>0.589942</td>\n",
       "      <td>0.288992</td>\n",
       "      <td>1.670710</td>\n",
       "      <td>0.240577</td>\n",
       "    </tr>\n",
       "  </tbody>\n",
       "</table>\n",
       "</div>"
      ],
      "text/plain": [
       "                   a         b         c         d\n",
       "2022-07-30  1.514594  0.788200 -0.280448  1.103265\n",
       "2022-07-31  0.776446  0.539641  0.454580  0.145046\n",
       "2022-08-04  1.370399  0.053237  1.103222 -0.175332\n",
       "2022-08-05  0.718519  0.084447 -0.338849 -0.436841\n",
       "2022-08-07  0.589942  0.288992  1.670710  0.240577"
      ]
     },
     "execution_count": 47,
     "metadata": {},
     "output_type": "execute_result"
    }
   ],
   "source": [
    "df[df['a']>0]"
   ]
  },
  {
   "cell_type": "code",
   "execution_count": 48,
   "id": "54b9a753",
   "metadata": {},
   "outputs": [],
   "source": [
    "df2=df.reindex(index=d[0:4],columns=list(df.columns)+['e'])\n"
   ]
  },
  {
   "cell_type": "code",
   "execution_count": 49,
   "id": "289aa836",
   "metadata": {},
   "outputs": [
    {
     "data": {
      "text/html": [
       "<div>\n",
       "<style scoped>\n",
       "    .dataframe tbody tr th:only-of-type {\n",
       "        vertical-align: middle;\n",
       "    }\n",
       "\n",
       "    .dataframe tbody tr th {\n",
       "        vertical-align: top;\n",
       "    }\n",
       "\n",
       "    .dataframe thead th {\n",
       "        text-align: right;\n",
       "    }\n",
       "</style>\n",
       "<table border=\"1\" class=\"dataframe\">\n",
       "  <thead>\n",
       "    <tr style=\"text-align: right;\">\n",
       "      <th></th>\n",
       "      <th>a</th>\n",
       "      <th>b</th>\n",
       "      <th>c</th>\n",
       "      <th>d</th>\n",
       "      <th>e</th>\n",
       "    </tr>\n",
       "  </thead>\n",
       "  <tbody>\n",
       "    <tr>\n",
       "      <th>((1+0j), (1+0j), (1+0j))</th>\n",
       "      <td>NaN</td>\n",
       "      <td>NaN</td>\n",
       "      <td>NaN</td>\n",
       "      <td>NaN</td>\n",
       "      <td>NaN</td>\n",
       "    </tr>\n",
       "    <tr>\n",
       "      <th>((1+0j), (1+0j), (1+0j))</th>\n",
       "      <td>NaN</td>\n",
       "      <td>NaN</td>\n",
       "      <td>NaN</td>\n",
       "      <td>NaN</td>\n",
       "      <td>NaN</td>\n",
       "    </tr>\n",
       "    <tr>\n",
       "      <th>((1+0j), (1+0j), (1+0j))</th>\n",
       "      <td>NaN</td>\n",
       "      <td>NaN</td>\n",
       "      <td>NaN</td>\n",
       "      <td>NaN</td>\n",
       "      <td>NaN</td>\n",
       "    </tr>\n",
       "  </tbody>\n",
       "</table>\n",
       "</div>"
      ],
      "text/plain": [
       "                           a   b   c   d   e\n",
       "((1+0j), (1+0j), (1+0j)) NaN NaN NaN NaN NaN\n",
       "((1+0j), (1+0j), (1+0j)) NaN NaN NaN NaN NaN\n",
       "((1+0j), (1+0j), (1+0j)) NaN NaN NaN NaN NaN"
      ]
     },
     "execution_count": 49,
     "metadata": {},
     "output_type": "execute_result"
    }
   ],
   "source": [
    "df2"
   ]
  },
  {
   "cell_type": "code",
   "execution_count": 50,
   "id": "2385c6aa",
   "metadata": {},
   "outputs": [
    {
     "data": {
      "text/html": [
       "<div>\n",
       "<style scoped>\n",
       "    .dataframe tbody tr th:only-of-type {\n",
       "        vertical-align: middle;\n",
       "    }\n",
       "\n",
       "    .dataframe tbody tr th {\n",
       "        vertical-align: top;\n",
       "    }\n",
       "\n",
       "    .dataframe thead th {\n",
       "        text-align: right;\n",
       "    }\n",
       "</style>\n",
       "<table border=\"1\" class=\"dataframe\">\n",
       "  <thead>\n",
       "    <tr style=\"text-align: right;\">\n",
       "      <th></th>\n",
       "      <th>a</th>\n",
       "      <th>b</th>\n",
       "      <th>c</th>\n",
       "      <th>d</th>\n",
       "      <th>e</th>\n",
       "    </tr>\n",
       "  </thead>\n",
       "  <tbody>\n",
       "    <tr>\n",
       "      <th>((1+0j), (1+0j), (1+0j))</th>\n",
       "      <td>NaN</td>\n",
       "      <td>NaN</td>\n",
       "      <td>NaN</td>\n",
       "      <td>NaN</td>\n",
       "      <td>NaN</td>\n",
       "    </tr>\n",
       "    <tr>\n",
       "      <th>((1+0j), (1+0j), (1+0j))</th>\n",
       "      <td>NaN</td>\n",
       "      <td>NaN</td>\n",
       "      <td>NaN</td>\n",
       "      <td>NaN</td>\n",
       "      <td>NaN</td>\n",
       "    </tr>\n",
       "    <tr>\n",
       "      <th>((1+0j), (1+0j), (1+0j))</th>\n",
       "      <td>NaN</td>\n",
       "      <td>NaN</td>\n",
       "      <td>NaN</td>\n",
       "      <td>NaN</td>\n",
       "      <td>NaN</td>\n",
       "    </tr>\n",
       "  </tbody>\n",
       "</table>\n",
       "</div>"
      ],
      "text/plain": [
       "                           a   b   c   d   e\n",
       "((1+0j), (1+0j), (1+0j)) NaN NaN NaN NaN NaN\n",
       "((1+0j), (1+0j), (1+0j)) NaN NaN NaN NaN NaN\n",
       "((1+0j), (1+0j), (1+0j)) NaN NaN NaN NaN NaN"
      ]
     },
     "execution_count": 50,
     "metadata": {},
     "output_type": "execute_result"
    }
   ],
   "source": [
    "df2"
   ]
  },
  {
   "cell_type": "code",
   "execution_count": 51,
   "id": "f7d1a5a9",
   "metadata": {},
   "outputs": [
    {
     "data": {
      "text/html": [
       "<div>\n",
       "<style scoped>\n",
       "    .dataframe tbody tr th:only-of-type {\n",
       "        vertical-align: middle;\n",
       "    }\n",
       "\n",
       "    .dataframe tbody tr th {\n",
       "        vertical-align: top;\n",
       "    }\n",
       "\n",
       "    .dataframe thead th {\n",
       "        text-align: right;\n",
       "    }\n",
       "</style>\n",
       "<table border=\"1\" class=\"dataframe\">\n",
       "  <thead>\n",
       "    <tr style=\"text-align: right;\">\n",
       "      <th></th>\n",
       "      <th>a</th>\n",
       "      <th>b</th>\n",
       "      <th>c</th>\n",
       "      <th>d</th>\n",
       "      <th>e</th>\n",
       "    </tr>\n",
       "  </thead>\n",
       "  <tbody>\n",
       "    <tr>\n",
       "      <th>((1+0j), (1+0j), (1+0j))</th>\n",
       "      <td>2.0</td>\n",
       "      <td>2.0</td>\n",
       "      <td>2.0</td>\n",
       "      <td>2.0</td>\n",
       "      <td>2.0</td>\n",
       "    </tr>\n",
       "    <tr>\n",
       "      <th>((1+0j), (1+0j), (1+0j))</th>\n",
       "      <td>2.0</td>\n",
       "      <td>2.0</td>\n",
       "      <td>2.0</td>\n",
       "      <td>2.0</td>\n",
       "      <td>2.0</td>\n",
       "    </tr>\n",
       "    <tr>\n",
       "      <th>((1+0j), (1+0j), (1+0j))</th>\n",
       "      <td>2.0</td>\n",
       "      <td>2.0</td>\n",
       "      <td>2.0</td>\n",
       "      <td>2.0</td>\n",
       "      <td>2.0</td>\n",
       "    </tr>\n",
       "  </tbody>\n",
       "</table>\n",
       "</div>"
      ],
      "text/plain": [
       "                            a    b    c    d    e\n",
       "((1+0j), (1+0j), (1+0j))  2.0  2.0  2.0  2.0  2.0\n",
       "((1+0j), (1+0j), (1+0j))  2.0  2.0  2.0  2.0  2.0\n",
       "((1+0j), (1+0j), (1+0j))  2.0  2.0  2.0  2.0  2.0"
      ]
     },
     "execution_count": 51,
     "metadata": {},
     "output_type": "execute_result"
    }
   ],
   "source": [
    "df2.fillna(value=2)"
   ]
  },
  {
   "cell_type": "code",
   "execution_count": 52,
   "id": "b30dc632",
   "metadata": {},
   "outputs": [
    {
     "data": {
      "text/plain": [
       "0     1.0\n",
       "1     2.0\n",
       "2     3.0\n",
       "3     4.0\n",
       "4     5.0\n",
       "5     6.0\n",
       "6     NaN\n",
       "7     8.0\n",
       "8     9.0\n",
       "9    10.0\n",
       "dtype: float64"
      ]
     },
     "execution_count": 52,
     "metadata": {},
     "output_type": "execute_result"
    }
   ],
   "source": [
    "\n",
    "\n",
    "\n",
    "s"
   ]
  },
  {
   "cell_type": "code",
   "execution_count": 53,
   "id": "2f5b7f08",
   "metadata": {},
   "outputs": [
    {
     "data": {
      "text/html": [
       "<div>\n",
       "<style scoped>\n",
       "    .dataframe tbody tr th:only-of-type {\n",
       "        vertical-align: middle;\n",
       "    }\n",
       "\n",
       "    .dataframe tbody tr th {\n",
       "        vertical-align: top;\n",
       "    }\n",
       "\n",
       "    .dataframe thead th {\n",
       "        text-align: right;\n",
       "    }\n",
       "</style>\n",
       "<table border=\"1\" class=\"dataframe\">\n",
       "  <thead>\n",
       "    <tr style=\"text-align: right;\">\n",
       "      <th></th>\n",
       "      <th>a</th>\n",
       "      <th>b</th>\n",
       "      <th>c</th>\n",
       "      <th>d</th>\n",
       "    </tr>\n",
       "  </thead>\n",
       "  <tbody>\n",
       "    <tr>\n",
       "      <th>2022-07-29</th>\n",
       "      <td>-0.303906</td>\n",
       "      <td>0.623395</td>\n",
       "      <td>-1.721284</td>\n",
       "      <td>-0.410127</td>\n",
       "    </tr>\n",
       "    <tr>\n",
       "      <th>2022-07-30</th>\n",
       "      <td>1.210688</td>\n",
       "      <td>1.411595</td>\n",
       "      <td>-2.001732</td>\n",
       "      <td>0.693138</td>\n",
       "    </tr>\n",
       "    <tr>\n",
       "      <th>2022-07-31</th>\n",
       "      <td>1.987134</td>\n",
       "      <td>1.951236</td>\n",
       "      <td>-1.547152</td>\n",
       "      <td>0.838184</td>\n",
       "    </tr>\n",
       "    <tr>\n",
       "      <th>2022-08-01</th>\n",
       "      <td>1.957344</td>\n",
       "      <td>1.497035</td>\n",
       "      <td>-2.523528</td>\n",
       "      <td>1.683822</td>\n",
       "    </tr>\n",
       "    <tr>\n",
       "      <th>2022-08-02</th>\n",
       "      <td>1.909172</td>\n",
       "      <td>2.170324</td>\n",
       "      <td>-3.281276</td>\n",
       "      <td>1.555969</td>\n",
       "    </tr>\n",
       "    <tr>\n",
       "      <th>2022-08-03</th>\n",
       "      <td>-0.136166</td>\n",
       "      <td>1.895589</td>\n",
       "      <td>-3.911737</td>\n",
       "      <td>3.073109</td>\n",
       "    </tr>\n",
       "    <tr>\n",
       "      <th>2022-08-04</th>\n",
       "      <td>1.234234</td>\n",
       "      <td>1.948826</td>\n",
       "      <td>-2.808515</td>\n",
       "      <td>2.897777</td>\n",
       "    </tr>\n",
       "    <tr>\n",
       "      <th>2022-08-05</th>\n",
       "      <td>1.952753</td>\n",
       "      <td>2.033273</td>\n",
       "      <td>-3.147364</td>\n",
       "      <td>2.460936</td>\n",
       "    </tr>\n",
       "    <tr>\n",
       "      <th>2022-08-06</th>\n",
       "      <td>1.620386</td>\n",
       "      <td>2.303616</td>\n",
       "      <td>-3.497736</td>\n",
       "      <td>3.192306</td>\n",
       "    </tr>\n",
       "    <tr>\n",
       "      <th>2022-08-07</th>\n",
       "      <td>2.210329</td>\n",
       "      <td>2.592608</td>\n",
       "      <td>-1.827027</td>\n",
       "      <td>3.432883</td>\n",
       "    </tr>\n",
       "    <tr>\n",
       "      <th>2022-08-08</th>\n",
       "      <td>1.865489</td>\n",
       "      <td>3.036046</td>\n",
       "      <td>-2.607319</td>\n",
       "      <td>6.181612</td>\n",
       "    </tr>\n",
       "  </tbody>\n",
       "</table>\n",
       "</div>"
      ],
      "text/plain": [
       "                   a         b         c         d\n",
       "2022-07-29 -0.303906  0.623395 -1.721284 -0.410127\n",
       "2022-07-30  1.210688  1.411595 -2.001732  0.693138\n",
       "2022-07-31  1.987134  1.951236 -1.547152  0.838184\n",
       "2022-08-01  1.957344  1.497035 -2.523528  1.683822\n",
       "2022-08-02  1.909172  2.170324 -3.281276  1.555969\n",
       "2022-08-03 -0.136166  1.895589 -3.911737  3.073109\n",
       "2022-08-04  1.234234  1.948826 -2.808515  2.897777\n",
       "2022-08-05  1.952753  2.033273 -3.147364  2.460936\n",
       "2022-08-06  1.620386  2.303616 -3.497736  3.192306\n",
       "2022-08-07  2.210329  2.592608 -1.827027  3.432883\n",
       "2022-08-08  1.865489  3.036046 -2.607319  6.181612"
      ]
     },
     "execution_count": 53,
     "metadata": {},
     "output_type": "execute_result"
    }
   ],
   "source": [
    "df.apply(np.cumsum)"
   ]
  },
  {
   "cell_type": "code",
   "execution_count": 54,
   "id": "8dabb9a7",
   "metadata": {},
   "outputs": [
    {
     "data": {
      "text/plain": [
       "a   -2.045337\n",
       "b   -0.454201\n",
       "c   -1.721284\n",
       "d   -0.436841\n",
       "dtype: float64"
      ]
     },
     "execution_count": 54,
     "metadata": {},
     "output_type": "execute_result"
    }
   ],
   "source": [
    "df.apply(lambda x: x.min())"
   ]
  },
  {
   "cell_type": "code",
   "execution_count": 55,
   "id": "448205e7",
   "metadata": {},
   "outputs": [],
   "source": [
    "dk=pd.DataFrame(np.random.randn(10,4))"
   ]
  },
  {
   "cell_type": "code",
   "execution_count": 56,
   "id": "f2791e75",
   "metadata": {},
   "outputs": [
    {
     "data": {
      "text/html": [
       "<div>\n",
       "<style scoped>\n",
       "    .dataframe tbody tr th:only-of-type {\n",
       "        vertical-align: middle;\n",
       "    }\n",
       "\n",
       "    .dataframe tbody tr th {\n",
       "        vertical-align: top;\n",
       "    }\n",
       "\n",
       "    .dataframe thead th {\n",
       "        text-align: right;\n",
       "    }\n",
       "</style>\n",
       "<table border=\"1\" class=\"dataframe\">\n",
       "  <thead>\n",
       "    <tr style=\"text-align: right;\">\n",
       "      <th></th>\n",
       "      <th>0</th>\n",
       "      <th>1</th>\n",
       "      <th>2</th>\n",
       "      <th>3</th>\n",
       "    </tr>\n",
       "  </thead>\n",
       "  <tbody>\n",
       "    <tr>\n",
       "      <th>0</th>\n",
       "      <td>0.223318</td>\n",
       "      <td>-0.978100</td>\n",
       "      <td>-0.287642</td>\n",
       "      <td>-1.237568</td>\n",
       "    </tr>\n",
       "    <tr>\n",
       "      <th>1</th>\n",
       "      <td>0.706462</td>\n",
       "      <td>-0.212231</td>\n",
       "      <td>-0.785159</td>\n",
       "      <td>-0.811657</td>\n",
       "    </tr>\n",
       "    <tr>\n",
       "      <th>2</th>\n",
       "      <td>0.501254</td>\n",
       "      <td>-0.501127</td>\n",
       "      <td>0.912042</td>\n",
       "      <td>-0.176508</td>\n",
       "    </tr>\n",
       "    <tr>\n",
       "      <th>3</th>\n",
       "      <td>-1.814286</td>\n",
       "      <td>0.614624</td>\n",
       "      <td>0.852595</td>\n",
       "      <td>-0.742780</td>\n",
       "    </tr>\n",
       "    <tr>\n",
       "      <th>4</th>\n",
       "      <td>0.321430</td>\n",
       "      <td>-1.037891</td>\n",
       "      <td>0.017789</td>\n",
       "      <td>-0.430701</td>\n",
       "    </tr>\n",
       "    <tr>\n",
       "      <th>5</th>\n",
       "      <td>-0.634689</td>\n",
       "      <td>2.413071</td>\n",
       "      <td>-0.535830</td>\n",
       "      <td>-0.340689</td>\n",
       "    </tr>\n",
       "    <tr>\n",
       "      <th>6</th>\n",
       "      <td>-0.070875</td>\n",
       "      <td>0.316446</td>\n",
       "      <td>-0.764818</td>\n",
       "      <td>0.111305</td>\n",
       "    </tr>\n",
       "    <tr>\n",
       "      <th>7</th>\n",
       "      <td>0.178851</td>\n",
       "      <td>-0.464898</td>\n",
       "      <td>2.469598</td>\n",
       "      <td>0.664659</td>\n",
       "    </tr>\n",
       "    <tr>\n",
       "      <th>8</th>\n",
       "      <td>-0.024257</td>\n",
       "      <td>0.236805</td>\n",
       "      <td>-0.006868</td>\n",
       "      <td>-0.887229</td>\n",
       "    </tr>\n",
       "    <tr>\n",
       "      <th>9</th>\n",
       "      <td>3.163843</td>\n",
       "      <td>0.575668</td>\n",
       "      <td>0.142987</td>\n",
       "      <td>-0.742187</td>\n",
       "    </tr>\n",
       "  </tbody>\n",
       "</table>\n",
       "</div>"
      ],
      "text/plain": [
       "          0         1         2         3\n",
       "0  0.223318 -0.978100 -0.287642 -1.237568\n",
       "1  0.706462 -0.212231 -0.785159 -0.811657\n",
       "2  0.501254 -0.501127  0.912042 -0.176508\n",
       "3 -1.814286  0.614624  0.852595 -0.742780\n",
       "4  0.321430 -1.037891  0.017789 -0.430701\n",
       "5 -0.634689  2.413071 -0.535830 -0.340689\n",
       "6 -0.070875  0.316446 -0.764818  0.111305\n",
       "7  0.178851 -0.464898  2.469598  0.664659\n",
       "8 -0.024257  0.236805 -0.006868 -0.887229\n",
       "9  3.163843  0.575668  0.142987 -0.742187"
      ]
     },
     "execution_count": 56,
     "metadata": {},
     "output_type": "execute_result"
    }
   ],
   "source": [
    "dk"
   ]
  },
  {
   "cell_type": "code",
   "execution_count": 57,
   "id": "b69061a3",
   "metadata": {},
   "outputs": [],
   "source": [
    "d=[df[:3],df[3:7],df[7:]]"
   ]
  },
  {
   "cell_type": "code",
   "execution_count": 58,
   "id": "43e62243",
   "metadata": {},
   "outputs": [
    {
     "data": {
      "text/plain": [
       "[                   a         b         c         d\n",
       " 2022-07-29 -0.303906  0.623395 -1.721284 -0.410127\n",
       " 2022-07-30  1.514594  0.788200 -0.280448  1.103265\n",
       " 2022-07-31  0.776446  0.539641  0.454580  0.145046,\n",
       "                    a         b         c         d\n",
       " 2022-08-01 -0.029790 -0.454201 -0.976376  0.845638\n",
       " 2022-08-02 -0.048172  0.673289 -0.757747 -0.127853\n",
       " 2022-08-03 -2.045337 -0.274734 -0.630461  1.517140\n",
       " 2022-08-04  1.370399  0.053237  1.103222 -0.175332,\n",
       "                    a         b         c         d\n",
       " 2022-08-05  0.718519  0.084447 -0.338849 -0.436841\n",
       " 2022-08-06 -0.332367  0.270342 -0.350372  0.731370\n",
       " 2022-08-07  0.589942  0.288992  1.670710  0.240577\n",
       " 2022-08-08 -0.344840  0.443438 -0.780292  2.748729]"
      ]
     },
     "execution_count": 58,
     "metadata": {},
     "output_type": "execute_result"
    }
   ],
   "source": [
    "d"
   ]
  },
  {
   "cell_type": "code",
   "execution_count": 59,
   "id": "741d3bae",
   "metadata": {},
   "outputs": [
    {
     "data": {
      "text/html": [
       "<div>\n",
       "<style scoped>\n",
       "    .dataframe tbody tr th:only-of-type {\n",
       "        vertical-align: middle;\n",
       "    }\n",
       "\n",
       "    .dataframe tbody tr th {\n",
       "        vertical-align: top;\n",
       "    }\n",
       "\n",
       "    .dataframe thead th {\n",
       "        text-align: right;\n",
       "    }\n",
       "</style>\n",
       "<table border=\"1\" class=\"dataframe\">\n",
       "  <thead>\n",
       "    <tr style=\"text-align: right;\">\n",
       "      <th></th>\n",
       "      <th>a</th>\n",
       "      <th>b</th>\n",
       "      <th>c</th>\n",
       "      <th>d</th>\n",
       "    </tr>\n",
       "  </thead>\n",
       "  <tbody>\n",
       "    <tr>\n",
       "      <th>2022-07-29</th>\n",
       "      <td>-0.303906</td>\n",
       "      <td>0.623395</td>\n",
       "      <td>-1.721284</td>\n",
       "      <td>-0.410127</td>\n",
       "    </tr>\n",
       "    <tr>\n",
       "      <th>2022-07-30</th>\n",
       "      <td>1.514594</td>\n",
       "      <td>0.788200</td>\n",
       "      <td>-0.280448</td>\n",
       "      <td>1.103265</td>\n",
       "    </tr>\n",
       "    <tr>\n",
       "      <th>2022-07-31</th>\n",
       "      <td>0.776446</td>\n",
       "      <td>0.539641</td>\n",
       "      <td>0.454580</td>\n",
       "      <td>0.145046</td>\n",
       "    </tr>\n",
       "    <tr>\n",
       "      <th>2022-08-01</th>\n",
       "      <td>-0.029790</td>\n",
       "      <td>-0.454201</td>\n",
       "      <td>-0.976376</td>\n",
       "      <td>0.845638</td>\n",
       "    </tr>\n",
       "    <tr>\n",
       "      <th>2022-08-02</th>\n",
       "      <td>-0.048172</td>\n",
       "      <td>0.673289</td>\n",
       "      <td>-0.757747</td>\n",
       "      <td>-0.127853</td>\n",
       "    </tr>\n",
       "    <tr>\n",
       "      <th>2022-08-03</th>\n",
       "      <td>-2.045337</td>\n",
       "      <td>-0.274734</td>\n",
       "      <td>-0.630461</td>\n",
       "      <td>1.517140</td>\n",
       "    </tr>\n",
       "    <tr>\n",
       "      <th>2022-08-04</th>\n",
       "      <td>1.370399</td>\n",
       "      <td>0.053237</td>\n",
       "      <td>1.103222</td>\n",
       "      <td>-0.175332</td>\n",
       "    </tr>\n",
       "    <tr>\n",
       "      <th>2022-08-05</th>\n",
       "      <td>0.718519</td>\n",
       "      <td>0.084447</td>\n",
       "      <td>-0.338849</td>\n",
       "      <td>-0.436841</td>\n",
       "    </tr>\n",
       "    <tr>\n",
       "      <th>2022-08-06</th>\n",
       "      <td>-0.332367</td>\n",
       "      <td>0.270342</td>\n",
       "      <td>-0.350372</td>\n",
       "      <td>0.731370</td>\n",
       "    </tr>\n",
       "    <tr>\n",
       "      <th>2022-08-07</th>\n",
       "      <td>0.589942</td>\n",
       "      <td>0.288992</td>\n",
       "      <td>1.670710</td>\n",
       "      <td>0.240577</td>\n",
       "    </tr>\n",
       "    <tr>\n",
       "      <th>2022-08-08</th>\n",
       "      <td>-0.344840</td>\n",
       "      <td>0.443438</td>\n",
       "      <td>-0.780292</td>\n",
       "      <td>2.748729</td>\n",
       "    </tr>\n",
       "  </tbody>\n",
       "</table>\n",
       "</div>"
      ],
      "text/plain": [
       "                   a         b         c         d\n",
       "2022-07-29 -0.303906  0.623395 -1.721284 -0.410127\n",
       "2022-07-30  1.514594  0.788200 -0.280448  1.103265\n",
       "2022-07-31  0.776446  0.539641  0.454580  0.145046\n",
       "2022-08-01 -0.029790 -0.454201 -0.976376  0.845638\n",
       "2022-08-02 -0.048172  0.673289 -0.757747 -0.127853\n",
       "2022-08-03 -2.045337 -0.274734 -0.630461  1.517140\n",
       "2022-08-04  1.370399  0.053237  1.103222 -0.175332\n",
       "2022-08-05  0.718519  0.084447 -0.338849 -0.436841\n",
       "2022-08-06 -0.332367  0.270342 -0.350372  0.731370\n",
       "2022-08-07  0.589942  0.288992  1.670710  0.240577\n",
       "2022-08-08 -0.344840  0.443438 -0.780292  2.748729"
      ]
     },
     "execution_count": 59,
     "metadata": {},
     "output_type": "execute_result"
    }
   ],
   "source": [
    "pd.concat(d)"
   ]
  },
  {
   "cell_type": "code",
   "execution_count": 60,
   "id": "c234567c",
   "metadata": {},
   "outputs": [],
   "source": [
    "l=pd.DataFrame({'a':[1,2],'b':[3,4]})"
   ]
  },
  {
   "cell_type": "code",
   "execution_count": 61,
   "id": "38edc2a4",
   "metadata": {},
   "outputs": [],
   "source": [
    "r=pd.DataFrame({'b':[2,3],'d':[3,5]})"
   ]
  },
  {
   "cell_type": "code",
   "execution_count": 62,
   "id": "8174b28b",
   "metadata": {},
   "outputs": [
    {
     "data": {
      "text/html": [
       "<div>\n",
       "<style scoped>\n",
       "    .dataframe tbody tr th:only-of-type {\n",
       "        vertical-align: middle;\n",
       "    }\n",
       "\n",
       "    .dataframe tbody tr th {\n",
       "        vertical-align: top;\n",
       "    }\n",
       "\n",
       "    .dataframe thead th {\n",
       "        text-align: right;\n",
       "    }\n",
       "</style>\n",
       "<table border=\"1\" class=\"dataframe\">\n",
       "  <thead>\n",
       "    <tr style=\"text-align: right;\">\n",
       "      <th></th>\n",
       "      <th>a</th>\n",
       "      <th>b</th>\n",
       "    </tr>\n",
       "  </thead>\n",
       "  <tbody>\n",
       "    <tr>\n",
       "      <th>0</th>\n",
       "      <td>1</td>\n",
       "      <td>3</td>\n",
       "    </tr>\n",
       "    <tr>\n",
       "      <th>1</th>\n",
       "      <td>2</td>\n",
       "      <td>4</td>\n",
       "    </tr>\n",
       "  </tbody>\n",
       "</table>\n",
       "</div>"
      ],
      "text/plain": [
       "   a  b\n",
       "0  1  3\n",
       "1  2  4"
      ]
     },
     "execution_count": 62,
     "metadata": {},
     "output_type": "execute_result"
    }
   ],
   "source": [
    "l"
   ]
  },
  {
   "cell_type": "code",
   "execution_count": 63,
   "id": "869831fa",
   "metadata": {},
   "outputs": [
    {
     "data": {
      "text/html": [
       "<div>\n",
       "<style scoped>\n",
       "    .dataframe tbody tr th:only-of-type {\n",
       "        vertical-align: middle;\n",
       "    }\n",
       "\n",
       "    .dataframe tbody tr th {\n",
       "        vertical-align: top;\n",
       "    }\n",
       "\n",
       "    .dataframe thead th {\n",
       "        text-align: right;\n",
       "    }\n",
       "</style>\n",
       "<table border=\"1\" class=\"dataframe\">\n",
       "  <thead>\n",
       "    <tr style=\"text-align: right;\">\n",
       "      <th></th>\n",
       "      <th>b</th>\n",
       "      <th>d</th>\n",
       "    </tr>\n",
       "  </thead>\n",
       "  <tbody>\n",
       "    <tr>\n",
       "      <th>0</th>\n",
       "      <td>2</td>\n",
       "      <td>3</td>\n",
       "    </tr>\n",
       "    <tr>\n",
       "      <th>1</th>\n",
       "      <td>3</td>\n",
       "      <td>5</td>\n",
       "    </tr>\n",
       "  </tbody>\n",
       "</table>\n",
       "</div>"
      ],
      "text/plain": [
       "   b  d\n",
       "0  2  3\n",
       "1  3  5"
      ]
     },
     "execution_count": 63,
     "metadata": {},
     "output_type": "execute_result"
    }
   ],
   "source": [
    "r"
   ]
  },
  {
   "cell_type": "code",
   "execution_count": 64,
   "id": "18326c59",
   "metadata": {},
   "outputs": [
    {
     "data": {
      "text/html": [
       "<div>\n",
       "<style scoped>\n",
       "    .dataframe tbody tr th:only-of-type {\n",
       "        vertical-align: middle;\n",
       "    }\n",
       "\n",
       "    .dataframe tbody tr th {\n",
       "        vertical-align: top;\n",
       "    }\n",
       "\n",
       "    .dataframe thead th {\n",
       "        text-align: right;\n",
       "    }\n",
       "</style>\n",
       "<table border=\"1\" class=\"dataframe\">\n",
       "  <thead>\n",
       "    <tr style=\"text-align: right;\">\n",
       "      <th></th>\n",
       "      <th>a</th>\n",
       "      <th>b</th>\n",
       "      <th>d</th>\n",
       "    </tr>\n",
       "  </thead>\n",
       "  <tbody>\n",
       "    <tr>\n",
       "      <th>0</th>\n",
       "      <td>1</td>\n",
       "      <td>3</td>\n",
       "      <td>5</td>\n",
       "    </tr>\n",
       "  </tbody>\n",
       "</table>\n",
       "</div>"
      ],
      "text/plain": [
       "   a  b  d\n",
       "0  1  3  5"
      ]
     },
     "execution_count": 64,
     "metadata": {},
     "output_type": "execute_result"
    }
   ],
   "source": [
    "pd.merge(l,r,on='b')"
   ]
  },
  {
   "cell_type": "code",
   "execution_count": 65,
   "id": "174cc9a1",
   "metadata": {},
   "outputs": [
    {
     "data": {
      "text/html": [
       "<div>\n",
       "<style scoped>\n",
       "    .dataframe tbody tr th:only-of-type {\n",
       "        vertical-align: middle;\n",
       "    }\n",
       "\n",
       "    .dataframe tbody tr th {\n",
       "        vertical-align: top;\n",
       "    }\n",
       "\n",
       "    .dataframe thead th {\n",
       "        text-align: right;\n",
       "    }\n",
       "</style>\n",
       "<table border=\"1\" class=\"dataframe\">\n",
       "  <thead>\n",
       "    <tr style=\"text-align: right;\">\n",
       "      <th></th>\n",
       "      <th>a</th>\n",
       "      <th>b</th>\n",
       "      <th>c</th>\n",
       "      <th>d</th>\n",
       "    </tr>\n",
       "  </thead>\n",
       "  <tbody>\n",
       "    <tr>\n",
       "      <th>2022-07-29</th>\n",
       "      <td>-0.303906</td>\n",
       "      <td>0.623395</td>\n",
       "      <td>-1.721284</td>\n",
       "      <td>-0.410127</td>\n",
       "    </tr>\n",
       "    <tr>\n",
       "      <th>2022-07-30</th>\n",
       "      <td>1.514594</td>\n",
       "      <td>0.788200</td>\n",
       "      <td>-0.280448</td>\n",
       "      <td>1.103265</td>\n",
       "    </tr>\n",
       "    <tr>\n",
       "      <th>2022-07-31</th>\n",
       "      <td>0.776446</td>\n",
       "      <td>0.539641</td>\n",
       "      <td>0.454580</td>\n",
       "      <td>0.145046</td>\n",
       "    </tr>\n",
       "    <tr>\n",
       "      <th>2022-08-01</th>\n",
       "      <td>-0.029790</td>\n",
       "      <td>-0.454201</td>\n",
       "      <td>-0.976376</td>\n",
       "      <td>0.845638</td>\n",
       "    </tr>\n",
       "    <tr>\n",
       "      <th>2022-08-02</th>\n",
       "      <td>-0.048172</td>\n",
       "      <td>0.673289</td>\n",
       "      <td>-0.757747</td>\n",
       "      <td>-0.127853</td>\n",
       "    </tr>\n",
       "    <tr>\n",
       "      <th>2022-08-03</th>\n",
       "      <td>-2.045337</td>\n",
       "      <td>-0.274734</td>\n",
       "      <td>-0.630461</td>\n",
       "      <td>1.517140</td>\n",
       "    </tr>\n",
       "    <tr>\n",
       "      <th>2022-08-04</th>\n",
       "      <td>1.370399</td>\n",
       "      <td>0.053237</td>\n",
       "      <td>1.103222</td>\n",
       "      <td>-0.175332</td>\n",
       "    </tr>\n",
       "    <tr>\n",
       "      <th>2022-08-05</th>\n",
       "      <td>0.718519</td>\n",
       "      <td>0.084447</td>\n",
       "      <td>-0.338849</td>\n",
       "      <td>-0.436841</td>\n",
       "    </tr>\n",
       "    <tr>\n",
       "      <th>2022-08-06</th>\n",
       "      <td>-0.332367</td>\n",
       "      <td>0.270342</td>\n",
       "      <td>-0.350372</td>\n",
       "      <td>0.731370</td>\n",
       "    </tr>\n",
       "    <tr>\n",
       "      <th>2022-08-07</th>\n",
       "      <td>0.589942</td>\n",
       "      <td>0.288992</td>\n",
       "      <td>1.670710</td>\n",
       "      <td>0.240577</td>\n",
       "    </tr>\n",
       "    <tr>\n",
       "      <th>2022-08-08</th>\n",
       "      <td>-0.344840</td>\n",
       "      <td>0.443438</td>\n",
       "      <td>-0.780292</td>\n",
       "      <td>2.748729</td>\n",
       "    </tr>\n",
       "  </tbody>\n",
       "</table>\n",
       "</div>"
      ],
      "text/plain": [
       "                   a         b         c         d\n",
       "2022-07-29 -0.303906  0.623395 -1.721284 -0.410127\n",
       "2022-07-30  1.514594  0.788200 -0.280448  1.103265\n",
       "2022-07-31  0.776446  0.539641  0.454580  0.145046\n",
       "2022-08-01 -0.029790 -0.454201 -0.976376  0.845638\n",
       "2022-08-02 -0.048172  0.673289 -0.757747 -0.127853\n",
       "2022-08-03 -2.045337 -0.274734 -0.630461  1.517140\n",
       "2022-08-04  1.370399  0.053237  1.103222 -0.175332\n",
       "2022-08-05  0.718519  0.084447 -0.338849 -0.436841\n",
       "2022-08-06 -0.332367  0.270342 -0.350372  0.731370\n",
       "2022-08-07  0.589942  0.288992  1.670710  0.240577\n",
       "2022-08-08 -0.344840  0.443438 -0.780292  2.748729"
      ]
     },
     "execution_count": 65,
     "metadata": {},
     "output_type": "execute_result"
    }
   ],
   "source": [
    "df"
   ]
  },
  {
   "cell_type": "code",
   "execution_count": 66,
   "id": "3f50aec0",
   "metadata": {},
   "outputs": [
    {
     "data": {
      "text/html": [
       "<div>\n",
       "<style scoped>\n",
       "    .dataframe tbody tr th:only-of-type {\n",
       "        vertical-align: middle;\n",
       "    }\n",
       "\n",
       "    .dataframe tbody tr th {\n",
       "        vertical-align: top;\n",
       "    }\n",
       "\n",
       "    .dataframe thead th {\n",
       "        text-align: right;\n",
       "    }\n",
       "</style>\n",
       "<table border=\"1\" class=\"dataframe\">\n",
       "  <thead>\n",
       "    <tr style=\"text-align: right;\">\n",
       "      <th></th>\n",
       "      <th></th>\n",
       "      <th>c</th>\n",
       "      <th>d</th>\n",
       "    </tr>\n",
       "    <tr>\n",
       "      <th>a</th>\n",
       "      <th>b</th>\n",
       "      <th></th>\n",
       "      <th></th>\n",
       "    </tr>\n",
       "  </thead>\n",
       "  <tbody>\n",
       "    <tr>\n",
       "      <th>-2.045337</th>\n",
       "      <th>-0.274734</th>\n",
       "      <td>-0.630461</td>\n",
       "      <td>1.517140</td>\n",
       "    </tr>\n",
       "    <tr>\n",
       "      <th>-0.344840</th>\n",
       "      <th>0.443438</th>\n",
       "      <td>-0.780292</td>\n",
       "      <td>2.748729</td>\n",
       "    </tr>\n",
       "    <tr>\n",
       "      <th>-0.332367</th>\n",
       "      <th>0.270342</th>\n",
       "      <td>-0.350372</td>\n",
       "      <td>0.731370</td>\n",
       "    </tr>\n",
       "    <tr>\n",
       "      <th>-0.303906</th>\n",
       "      <th>0.623395</th>\n",
       "      <td>-1.721284</td>\n",
       "      <td>-0.410127</td>\n",
       "    </tr>\n",
       "    <tr>\n",
       "      <th>-0.048172</th>\n",
       "      <th>0.673289</th>\n",
       "      <td>-0.757747</td>\n",
       "      <td>-0.127853</td>\n",
       "    </tr>\n",
       "    <tr>\n",
       "      <th>-0.029790</th>\n",
       "      <th>-0.454201</th>\n",
       "      <td>-0.976376</td>\n",
       "      <td>0.845638</td>\n",
       "    </tr>\n",
       "    <tr>\n",
       "      <th>0.589942</th>\n",
       "      <th>0.288992</th>\n",
       "      <td>1.670710</td>\n",
       "      <td>0.240577</td>\n",
       "    </tr>\n",
       "    <tr>\n",
       "      <th>0.718519</th>\n",
       "      <th>0.084447</th>\n",
       "      <td>-0.338849</td>\n",
       "      <td>-0.436841</td>\n",
       "    </tr>\n",
       "    <tr>\n",
       "      <th>0.776446</th>\n",
       "      <th>0.539641</th>\n",
       "      <td>0.454580</td>\n",
       "      <td>0.145046</td>\n",
       "    </tr>\n",
       "    <tr>\n",
       "      <th>1.370399</th>\n",
       "      <th>0.053237</th>\n",
       "      <td>1.103222</td>\n",
       "      <td>-0.175332</td>\n",
       "    </tr>\n",
       "    <tr>\n",
       "      <th>1.514594</th>\n",
       "      <th>0.788200</th>\n",
       "      <td>-0.280448</td>\n",
       "      <td>1.103265</td>\n",
       "    </tr>\n",
       "  </tbody>\n",
       "</table>\n",
       "</div>"
      ],
      "text/plain": [
       "                            c         d\n",
       "a         b                            \n",
       "-2.045337 -0.274734 -0.630461  1.517140\n",
       "-0.344840  0.443438 -0.780292  2.748729\n",
       "-0.332367  0.270342 -0.350372  0.731370\n",
       "-0.303906  0.623395 -1.721284 -0.410127\n",
       "-0.048172  0.673289 -0.757747 -0.127853\n",
       "-0.029790 -0.454201 -0.976376  0.845638\n",
       " 0.589942  0.288992  1.670710  0.240577\n",
       " 0.718519  0.084447 -0.338849 -0.436841\n",
       " 0.776446  0.539641  0.454580  0.145046\n",
       " 1.370399  0.053237  1.103222 -0.175332\n",
       " 1.514594  0.788200 -0.280448  1.103265"
      ]
     },
     "execution_count": 66,
     "metadata": {},
     "output_type": "execute_result"
    }
   ],
   "source": [
    "df.groupby(['a','b']).sum()"
   ]
  },
  {
   "cell_type": "code",
   "execution_count": 67,
   "id": "da87aed4",
   "metadata": {},
   "outputs": [],
   "source": [
    "tu=list(zip(*[[1,2,3,4,5,6,7,8],[8,7,6,5,4,3,2,1]]))\n",
    "index=pd.MultiIndex.from_tuples(tu,names=['first','Second'])\n",
    "f=pd.DataFrame(np.random.randn(8,4),index=index,columns=['A','B','c','d'])\n",
    "\n"
   ]
  },
  {
   "cell_type": "code",
   "execution_count": 68,
   "id": "63dd9037",
   "metadata": {},
   "outputs": [
    {
     "data": {
      "text/html": [
       "<div>\n",
       "<style scoped>\n",
       "    .dataframe tbody tr th:only-of-type {\n",
       "        vertical-align: middle;\n",
       "    }\n",
       "\n",
       "    .dataframe tbody tr th {\n",
       "        vertical-align: top;\n",
       "    }\n",
       "\n",
       "    .dataframe thead th {\n",
       "        text-align: right;\n",
       "    }\n",
       "</style>\n",
       "<table border=\"1\" class=\"dataframe\">\n",
       "  <thead>\n",
       "    <tr style=\"text-align: right;\">\n",
       "      <th></th>\n",
       "      <th></th>\n",
       "      <th>A</th>\n",
       "      <th>B</th>\n",
       "      <th>c</th>\n",
       "      <th>d</th>\n",
       "    </tr>\n",
       "    <tr>\n",
       "      <th>first</th>\n",
       "      <th>Second</th>\n",
       "      <th></th>\n",
       "      <th></th>\n",
       "      <th></th>\n",
       "      <th></th>\n",
       "    </tr>\n",
       "  </thead>\n",
       "  <tbody>\n",
       "    <tr>\n",
       "      <th>1</th>\n",
       "      <th>8</th>\n",
       "      <td>0.716744</td>\n",
       "      <td>1.307791</td>\n",
       "      <td>-1.036447</td>\n",
       "      <td>1.022413</td>\n",
       "    </tr>\n",
       "    <tr>\n",
       "      <th>2</th>\n",
       "      <th>7</th>\n",
       "      <td>0.378428</td>\n",
       "      <td>-0.113967</td>\n",
       "      <td>-0.679795</td>\n",
       "      <td>1.359958</td>\n",
       "    </tr>\n",
       "    <tr>\n",
       "      <th>3</th>\n",
       "      <th>6</th>\n",
       "      <td>-0.604408</td>\n",
       "      <td>-0.453530</td>\n",
       "      <td>-0.993310</td>\n",
       "      <td>-0.744061</td>\n",
       "    </tr>\n",
       "    <tr>\n",
       "      <th>4</th>\n",
       "      <th>5</th>\n",
       "      <td>-1.061994</td>\n",
       "      <td>-0.948825</td>\n",
       "      <td>0.173144</td>\n",
       "      <td>-1.763525</td>\n",
       "    </tr>\n",
       "    <tr>\n",
       "      <th>5</th>\n",
       "      <th>4</th>\n",
       "      <td>2.580060</td>\n",
       "      <td>-0.215529</td>\n",
       "      <td>1.021734</td>\n",
       "      <td>1.361128</td>\n",
       "    </tr>\n",
       "    <tr>\n",
       "      <th>6</th>\n",
       "      <th>3</th>\n",
       "      <td>-0.677462</td>\n",
       "      <td>-0.116540</td>\n",
       "      <td>0.671707</td>\n",
       "      <td>0.587065</td>\n",
       "    </tr>\n",
       "    <tr>\n",
       "      <th>7</th>\n",
       "      <th>2</th>\n",
       "      <td>-0.798112</td>\n",
       "      <td>0.198363</td>\n",
       "      <td>-0.950621</td>\n",
       "      <td>-1.535746</td>\n",
       "    </tr>\n",
       "    <tr>\n",
       "      <th>8</th>\n",
       "      <th>1</th>\n",
       "      <td>1.060408</td>\n",
       "      <td>0.269577</td>\n",
       "      <td>2.508279</td>\n",
       "      <td>0.113915</td>\n",
       "    </tr>\n",
       "  </tbody>\n",
       "</table>\n",
       "</div>"
      ],
      "text/plain": [
       "                     A         B         c         d\n",
       "first Second                                        \n",
       "1     8       0.716744  1.307791 -1.036447  1.022413\n",
       "2     7       0.378428 -0.113967 -0.679795  1.359958\n",
       "3     6      -0.604408 -0.453530 -0.993310 -0.744061\n",
       "4     5      -1.061994 -0.948825  0.173144 -1.763525\n",
       "5     4       2.580060 -0.215529  1.021734  1.361128\n",
       "6     3      -0.677462 -0.116540  0.671707  0.587065\n",
       "7     2      -0.798112  0.198363 -0.950621 -1.535746\n",
       "8     1       1.060408  0.269577  2.508279  0.113915"
      ]
     },
     "execution_count": 68,
     "metadata": {},
     "output_type": "execute_result"
    }
   ],
   "source": [
    "f"
   ]
  },
  {
   "cell_type": "code",
   "execution_count": 69,
   "id": "231a14b3",
   "metadata": {},
   "outputs": [
    {
     "data": {
      "text/plain": [
       "first  Second   \n",
       "1      8       A    0.716744\n",
       "               B    1.307791\n",
       "               c   -1.036447\n",
       "               d    1.022413\n",
       "2      7       A    0.378428\n",
       "               B   -0.113967\n",
       "               c   -0.679795\n",
       "               d    1.359958\n",
       "3      6       A   -0.604408\n",
       "               B   -0.453530\n",
       "               c   -0.993310\n",
       "               d   -0.744061\n",
       "4      5       A   -1.061994\n",
       "               B   -0.948825\n",
       "               c    0.173144\n",
       "               d   -1.763525\n",
       "5      4       A    2.580060\n",
       "               B   -0.215529\n",
       "               c    1.021734\n",
       "               d    1.361128\n",
       "6      3       A   -0.677462\n",
       "               B   -0.116540\n",
       "               c    0.671707\n",
       "               d    0.587065\n",
       "7      2       A   -0.798112\n",
       "               B    0.198363\n",
       "               c   -0.950621\n",
       "               d   -1.535746\n",
       "8      1       A    1.060408\n",
       "               B    0.269577\n",
       "               c    2.508279\n",
       "               d    0.113915\n",
       "dtype: float64"
      ]
     },
     "execution_count": 69,
     "metadata": {},
     "output_type": "execute_result"
    }
   ],
   "source": [
    "f.stack()"
   ]
  },
  {
   "cell_type": "code",
   "execution_count": 70,
   "id": "4af648c5",
   "metadata": {},
   "outputs": [
    {
     "data": {
      "text/html": [
       "<div>\n",
       "<style scoped>\n",
       "    .dataframe tbody tr th:only-of-type {\n",
       "        vertical-align: middle;\n",
       "    }\n",
       "\n",
       "    .dataframe tbody tr th {\n",
       "        vertical-align: top;\n",
       "    }\n",
       "\n",
       "    .dataframe thead tr th {\n",
       "        text-align: left;\n",
       "    }\n",
       "\n",
       "    .dataframe thead tr:last-of-type th {\n",
       "        text-align: right;\n",
       "    }\n",
       "</style>\n",
       "<table border=\"1\" class=\"dataframe\">\n",
       "  <thead>\n",
       "    <tr>\n",
       "      <th></th>\n",
       "      <th colspan=\"8\" halign=\"left\">A</th>\n",
       "      <th colspan=\"2\" halign=\"left\">B</th>\n",
       "      <th>...</th>\n",
       "      <th colspan=\"2\" halign=\"left\">c</th>\n",
       "      <th colspan=\"8\" halign=\"left\">d</th>\n",
       "    </tr>\n",
       "    <tr>\n",
       "      <th>Second</th>\n",
       "      <th>1</th>\n",
       "      <th>2</th>\n",
       "      <th>3</th>\n",
       "      <th>4</th>\n",
       "      <th>5</th>\n",
       "      <th>6</th>\n",
       "      <th>7</th>\n",
       "      <th>8</th>\n",
       "      <th>1</th>\n",
       "      <th>2</th>\n",
       "      <th>...</th>\n",
       "      <th>7</th>\n",
       "      <th>8</th>\n",
       "      <th>1</th>\n",
       "      <th>2</th>\n",
       "      <th>3</th>\n",
       "      <th>4</th>\n",
       "      <th>5</th>\n",
       "      <th>6</th>\n",
       "      <th>7</th>\n",
       "      <th>8</th>\n",
       "    </tr>\n",
       "    <tr>\n",
       "      <th>first</th>\n",
       "      <th></th>\n",
       "      <th></th>\n",
       "      <th></th>\n",
       "      <th></th>\n",
       "      <th></th>\n",
       "      <th></th>\n",
       "      <th></th>\n",
       "      <th></th>\n",
       "      <th></th>\n",
       "      <th></th>\n",
       "      <th></th>\n",
       "      <th></th>\n",
       "      <th></th>\n",
       "      <th></th>\n",
       "      <th></th>\n",
       "      <th></th>\n",
       "      <th></th>\n",
       "      <th></th>\n",
       "      <th></th>\n",
       "      <th></th>\n",
       "      <th></th>\n",
       "    </tr>\n",
       "  </thead>\n",
       "  <tbody>\n",
       "    <tr>\n",
       "      <th>1</th>\n",
       "      <td>NaN</td>\n",
       "      <td>NaN</td>\n",
       "      <td>NaN</td>\n",
       "      <td>NaN</td>\n",
       "      <td>NaN</td>\n",
       "      <td>NaN</td>\n",
       "      <td>NaN</td>\n",
       "      <td>0.716744</td>\n",
       "      <td>NaN</td>\n",
       "      <td>NaN</td>\n",
       "      <td>...</td>\n",
       "      <td>NaN</td>\n",
       "      <td>-1.036447</td>\n",
       "      <td>NaN</td>\n",
       "      <td>NaN</td>\n",
       "      <td>NaN</td>\n",
       "      <td>NaN</td>\n",
       "      <td>NaN</td>\n",
       "      <td>NaN</td>\n",
       "      <td>NaN</td>\n",
       "      <td>1.022413</td>\n",
       "    </tr>\n",
       "    <tr>\n",
       "      <th>2</th>\n",
       "      <td>NaN</td>\n",
       "      <td>NaN</td>\n",
       "      <td>NaN</td>\n",
       "      <td>NaN</td>\n",
       "      <td>NaN</td>\n",
       "      <td>NaN</td>\n",
       "      <td>0.378428</td>\n",
       "      <td>NaN</td>\n",
       "      <td>NaN</td>\n",
       "      <td>NaN</td>\n",
       "      <td>...</td>\n",
       "      <td>-0.679795</td>\n",
       "      <td>NaN</td>\n",
       "      <td>NaN</td>\n",
       "      <td>NaN</td>\n",
       "      <td>NaN</td>\n",
       "      <td>NaN</td>\n",
       "      <td>NaN</td>\n",
       "      <td>NaN</td>\n",
       "      <td>1.359958</td>\n",
       "      <td>NaN</td>\n",
       "    </tr>\n",
       "    <tr>\n",
       "      <th>3</th>\n",
       "      <td>NaN</td>\n",
       "      <td>NaN</td>\n",
       "      <td>NaN</td>\n",
       "      <td>NaN</td>\n",
       "      <td>NaN</td>\n",
       "      <td>-0.604408</td>\n",
       "      <td>NaN</td>\n",
       "      <td>NaN</td>\n",
       "      <td>NaN</td>\n",
       "      <td>NaN</td>\n",
       "      <td>...</td>\n",
       "      <td>NaN</td>\n",
       "      <td>NaN</td>\n",
       "      <td>NaN</td>\n",
       "      <td>NaN</td>\n",
       "      <td>NaN</td>\n",
       "      <td>NaN</td>\n",
       "      <td>NaN</td>\n",
       "      <td>-0.744061</td>\n",
       "      <td>NaN</td>\n",
       "      <td>NaN</td>\n",
       "    </tr>\n",
       "    <tr>\n",
       "      <th>4</th>\n",
       "      <td>NaN</td>\n",
       "      <td>NaN</td>\n",
       "      <td>NaN</td>\n",
       "      <td>NaN</td>\n",
       "      <td>-1.061994</td>\n",
       "      <td>NaN</td>\n",
       "      <td>NaN</td>\n",
       "      <td>NaN</td>\n",
       "      <td>NaN</td>\n",
       "      <td>NaN</td>\n",
       "      <td>...</td>\n",
       "      <td>NaN</td>\n",
       "      <td>NaN</td>\n",
       "      <td>NaN</td>\n",
       "      <td>NaN</td>\n",
       "      <td>NaN</td>\n",
       "      <td>NaN</td>\n",
       "      <td>-1.763525</td>\n",
       "      <td>NaN</td>\n",
       "      <td>NaN</td>\n",
       "      <td>NaN</td>\n",
       "    </tr>\n",
       "    <tr>\n",
       "      <th>5</th>\n",
       "      <td>NaN</td>\n",
       "      <td>NaN</td>\n",
       "      <td>NaN</td>\n",
       "      <td>2.58006</td>\n",
       "      <td>NaN</td>\n",
       "      <td>NaN</td>\n",
       "      <td>NaN</td>\n",
       "      <td>NaN</td>\n",
       "      <td>NaN</td>\n",
       "      <td>NaN</td>\n",
       "      <td>...</td>\n",
       "      <td>NaN</td>\n",
       "      <td>NaN</td>\n",
       "      <td>NaN</td>\n",
       "      <td>NaN</td>\n",
       "      <td>NaN</td>\n",
       "      <td>1.361128</td>\n",
       "      <td>NaN</td>\n",
       "      <td>NaN</td>\n",
       "      <td>NaN</td>\n",
       "      <td>NaN</td>\n",
       "    </tr>\n",
       "    <tr>\n",
       "      <th>6</th>\n",
       "      <td>NaN</td>\n",
       "      <td>NaN</td>\n",
       "      <td>-0.677462</td>\n",
       "      <td>NaN</td>\n",
       "      <td>NaN</td>\n",
       "      <td>NaN</td>\n",
       "      <td>NaN</td>\n",
       "      <td>NaN</td>\n",
       "      <td>NaN</td>\n",
       "      <td>NaN</td>\n",
       "      <td>...</td>\n",
       "      <td>NaN</td>\n",
       "      <td>NaN</td>\n",
       "      <td>NaN</td>\n",
       "      <td>NaN</td>\n",
       "      <td>0.587065</td>\n",
       "      <td>NaN</td>\n",
       "      <td>NaN</td>\n",
       "      <td>NaN</td>\n",
       "      <td>NaN</td>\n",
       "      <td>NaN</td>\n",
       "    </tr>\n",
       "    <tr>\n",
       "      <th>7</th>\n",
       "      <td>NaN</td>\n",
       "      <td>-0.798112</td>\n",
       "      <td>NaN</td>\n",
       "      <td>NaN</td>\n",
       "      <td>NaN</td>\n",
       "      <td>NaN</td>\n",
       "      <td>NaN</td>\n",
       "      <td>NaN</td>\n",
       "      <td>NaN</td>\n",
       "      <td>0.198363</td>\n",
       "      <td>...</td>\n",
       "      <td>NaN</td>\n",
       "      <td>NaN</td>\n",
       "      <td>NaN</td>\n",
       "      <td>-1.535746</td>\n",
       "      <td>NaN</td>\n",
       "      <td>NaN</td>\n",
       "      <td>NaN</td>\n",
       "      <td>NaN</td>\n",
       "      <td>NaN</td>\n",
       "      <td>NaN</td>\n",
       "    </tr>\n",
       "    <tr>\n",
       "      <th>8</th>\n",
       "      <td>1.060408</td>\n",
       "      <td>NaN</td>\n",
       "      <td>NaN</td>\n",
       "      <td>NaN</td>\n",
       "      <td>NaN</td>\n",
       "      <td>NaN</td>\n",
       "      <td>NaN</td>\n",
       "      <td>NaN</td>\n",
       "      <td>0.269577</td>\n",
       "      <td>NaN</td>\n",
       "      <td>...</td>\n",
       "      <td>NaN</td>\n",
       "      <td>NaN</td>\n",
       "      <td>0.113915</td>\n",
       "      <td>NaN</td>\n",
       "      <td>NaN</td>\n",
       "      <td>NaN</td>\n",
       "      <td>NaN</td>\n",
       "      <td>NaN</td>\n",
       "      <td>NaN</td>\n",
       "      <td>NaN</td>\n",
       "    </tr>\n",
       "  </tbody>\n",
       "</table>\n",
       "<p>8 rows × 32 columns</p>\n",
       "</div>"
      ],
      "text/plain": [
       "               A                                                             \\\n",
       "Second         1         2         3        4         5         6         7   \n",
       "first                                                                         \n",
       "1            NaN       NaN       NaN      NaN       NaN       NaN       NaN   \n",
       "2            NaN       NaN       NaN      NaN       NaN       NaN  0.378428   \n",
       "3            NaN       NaN       NaN      NaN       NaN -0.604408       NaN   \n",
       "4            NaN       NaN       NaN      NaN -1.061994       NaN       NaN   \n",
       "5            NaN       NaN       NaN  2.58006       NaN       NaN       NaN   \n",
       "6            NaN       NaN -0.677462      NaN       NaN       NaN       NaN   \n",
       "7            NaN -0.798112       NaN      NaN       NaN       NaN       NaN   \n",
       "8       1.060408       NaN       NaN      NaN       NaN       NaN       NaN   \n",
       "\n",
       "                         B            ...         c                   d  \\\n",
       "Second         8         1         2  ...         7         8         1   \n",
       "first                                 ...                                 \n",
       "1       0.716744       NaN       NaN  ...       NaN -1.036447       NaN   \n",
       "2            NaN       NaN       NaN  ... -0.679795       NaN       NaN   \n",
       "3            NaN       NaN       NaN  ...       NaN       NaN       NaN   \n",
       "4            NaN       NaN       NaN  ...       NaN       NaN       NaN   \n",
       "5            NaN       NaN       NaN  ...       NaN       NaN       NaN   \n",
       "6            NaN       NaN       NaN  ...       NaN       NaN       NaN   \n",
       "7            NaN       NaN  0.198363  ...       NaN       NaN       NaN   \n",
       "8            NaN  0.269577       NaN  ...       NaN       NaN  0.113915   \n",
       "\n",
       "                                                                              \n",
       "Second         2         3         4         5         6         7         8  \n",
       "first                                                                         \n",
       "1            NaN       NaN       NaN       NaN       NaN       NaN  1.022413  \n",
       "2            NaN       NaN       NaN       NaN       NaN  1.359958       NaN  \n",
       "3            NaN       NaN       NaN       NaN -0.744061       NaN       NaN  \n",
       "4            NaN       NaN       NaN -1.763525       NaN       NaN       NaN  \n",
       "5            NaN       NaN  1.361128       NaN       NaN       NaN       NaN  \n",
       "6            NaN  0.587065       NaN       NaN       NaN       NaN       NaN  \n",
       "7      -1.535746       NaN       NaN       NaN       NaN       NaN       NaN  \n",
       "8            NaN       NaN       NaN       NaN       NaN       NaN       NaN  \n",
       "\n",
       "[8 rows x 32 columns]"
      ]
     },
     "execution_count": 70,
     "metadata": {},
     "output_type": "execute_result"
    }
   ],
   "source": [
    "f.unstack()"
   ]
  },
  {
   "cell_type": "code",
   "execution_count": 71,
   "id": "103f7304",
   "metadata": {},
   "outputs": [
    {
     "data": {
      "text/plain": [
       "DatetimeIndex(['2022-07-29 01:40:00', '2022-07-29 01:40:01',\n",
       "               '2022-07-29 01:40:02', '2022-07-29 01:40:03',\n",
       "               '2022-07-29 01:40:04'],\n",
       "              dtype='datetime64[ns]', freq='S')"
      ]
     },
     "execution_count": 71,
     "metadata": {},
     "output_type": "execute_result"
    }
   ],
   "source": [
    "date=pd.date_range('29/07/2022, 01:40',periods=5,freq='S')\n",
    "date\n"
   ]
  },
  {
   "cell_type": "code",
   "execution_count": 72,
   "id": "627fde4d",
   "metadata": {},
   "outputs": [],
   "source": [
    "ts=pd.Series(np.random.randint(len(date)),date)"
   ]
  },
  {
   "cell_type": "code",
   "execution_count": 73,
   "id": "cc8e12cd",
   "metadata": {},
   "outputs": [
    {
     "data": {
      "text/plain": [
       "2022-07-29 01:40:00    2\n",
       "2022-07-29 01:40:01    2\n",
       "2022-07-29 01:40:02    2\n",
       "2022-07-29 01:40:03    2\n",
       "2022-07-29 01:40:04    2\n",
       "Freq: S, dtype: int64"
      ]
     },
     "execution_count": 73,
     "metadata": {},
     "output_type": "execute_result"
    }
   ],
   "source": [
    "ts"
   ]
  },
  {
   "cell_type": "code",
   "execution_count": 74,
   "id": "b35fc1e1",
   "metadata": {},
   "outputs": [
    {
     "data": {
      "text/plain": [
       "2022-07-29 01:40:00+00:00    2\n",
       "2022-07-29 01:40:01+00:00    2\n",
       "2022-07-29 01:40:02+00:00    2\n",
       "2022-07-29 01:40:03+00:00    2\n",
       "2022-07-29 01:40:04+00:00    2\n",
       "Freq: S, dtype: int64"
      ]
     },
     "execution_count": 74,
     "metadata": {},
     "output_type": "execute_result"
    }
   ],
   "source": [
    "ts=ts.tz_localize('UTC')\n",
    "ts"
   ]
  },
  {
   "cell_type": "code",
   "execution_count": 75,
   "id": "6afe3daa",
   "metadata": {},
   "outputs": [
    {
     "name": "stderr",
     "output_type": "stream",
     "text": [
      "C:\\Users\\afsal\\anaconda3\\lib\\site-packages\\IPython\\core\\interactiveshell.py:3369: UserWarning: Parsing '29/07/2021' in DD/MM/YYYY format. Provide format or specify infer_datetime_format=True for consistent parsing.\n",
      "  exec(code_obj, self.user_global_ns, self.user_ns)\n"
     ]
    },
    {
     "data": {
      "text/plain": [
       "DatetimeIndex(['2021-07-31', '2021-08-31', '2021-09-30', '2021-10-31',\n",
       "               '2021-11-30'],\n",
       "              dtype='datetime64[ns]', freq='M')"
      ]
     },
     "execution_count": 75,
     "metadata": {},
     "output_type": "execute_result"
    }
   ],
   "source": [
    "dates=pd.date_range('29/07/2021',periods=5,freq='M')\n",
    "dates"
   ]
  },
  {
   "cell_type": "code",
   "execution_count": 76,
   "id": "fe5bc47c",
   "metadata": {},
   "outputs": [
    {
     "data": {
      "text/plain": [
       "2021-07-31    4\n",
       "2021-08-31    4\n",
       "2021-09-30    4\n",
       "2021-10-31    4\n",
       "2021-11-30    4\n",
       "Freq: M, dtype: int64"
      ]
     },
     "execution_count": 76,
     "metadata": {},
     "output_type": "execute_result"
    }
   ],
   "source": [
    "ts=pd.Series(np.random.randint(len(dates)),dates)\n",
    "ts"
   ]
  },
  {
   "cell_type": "code",
   "execution_count": 77,
   "id": "fa0bdbb7",
   "metadata": {},
   "outputs": [],
   "source": [
    "df=pd.DataFrame({'id':[1,2,3,4,5,6],\n",
    "                \"grade\":['a','b','c','b','a','e']})\n"
   ]
  },
  {
   "cell_type": "code",
   "execution_count": 78,
   "id": "76fba42b",
   "metadata": {},
   "outputs": [
    {
     "data": {
      "text/plain": [
       "0    a\n",
       "1    b\n",
       "2    c\n",
       "3    b\n",
       "4    a\n",
       "5    e\n",
       "Name: Grade, dtype: category\n",
       "Categories (4, object): ['a', 'b', 'c', 'e']"
      ]
     },
     "execution_count": 78,
     "metadata": {},
     "output_type": "execute_result"
    }
   ],
   "source": [
    "df['Grade']=df['grade'].astype('category')\n",
    "df['Grade']\n"
   ]
  },
  {
   "cell_type": "code",
   "execution_count": 79,
   "id": "456aa62b",
   "metadata": {},
   "outputs": [
    {
     "data": {
      "text/html": [
       "<div>\n",
       "<style scoped>\n",
       "    .dataframe tbody tr th:only-of-type {\n",
       "        vertical-align: middle;\n",
       "    }\n",
       "\n",
       "    .dataframe tbody tr th {\n",
       "        vertical-align: top;\n",
       "    }\n",
       "\n",
       "    .dataframe thead th {\n",
       "        text-align: right;\n",
       "    }\n",
       "</style>\n",
       "<table border=\"1\" class=\"dataframe\">\n",
       "  <thead>\n",
       "    <tr style=\"text-align: right;\">\n",
       "      <th></th>\n",
       "      <th>id</th>\n",
       "      <th>grade</th>\n",
       "      <th>Grade</th>\n",
       "    </tr>\n",
       "  </thead>\n",
       "  <tbody>\n",
       "    <tr>\n",
       "      <th>0</th>\n",
       "      <td>1</td>\n",
       "      <td>a</td>\n",
       "      <td>a</td>\n",
       "    </tr>\n",
       "    <tr>\n",
       "      <th>1</th>\n",
       "      <td>2</td>\n",
       "      <td>b</td>\n",
       "      <td>b</td>\n",
       "    </tr>\n",
       "    <tr>\n",
       "      <th>2</th>\n",
       "      <td>3</td>\n",
       "      <td>c</td>\n",
       "      <td>c</td>\n",
       "    </tr>\n",
       "    <tr>\n",
       "      <th>3</th>\n",
       "      <td>4</td>\n",
       "      <td>b</td>\n",
       "      <td>b</td>\n",
       "    </tr>\n",
       "    <tr>\n",
       "      <th>4</th>\n",
       "      <td>5</td>\n",
       "      <td>a</td>\n",
       "      <td>a</td>\n",
       "    </tr>\n",
       "    <tr>\n",
       "      <th>5</th>\n",
       "      <td>6</td>\n",
       "      <td>e</td>\n",
       "      <td>e</td>\n",
       "    </tr>\n",
       "  </tbody>\n",
       "</table>\n",
       "</div>"
      ],
      "text/plain": [
       "   id grade Grade\n",
       "0   1     a     a\n",
       "1   2     b     b\n",
       "2   3     c     c\n",
       "3   4     b     b\n",
       "4   5     a     a\n",
       "5   6     e     e"
      ]
     },
     "execution_count": 79,
     "metadata": {},
     "output_type": "execute_result"
    }
   ],
   "source": [
    "df['Grade'].categories=['good','very bad','very good','exelent']\n",
    "df"
   ]
  },
  {
   "cell_type": "code",
   "execution_count": null,
   "id": "2aff9a35",
   "metadata": {},
   "outputs": [],
   "source": []
  },
  {
   "cell_type": "code",
   "execution_count": 80,
   "id": "c2a5e031",
   "metadata": {},
   "outputs": [
    {
     "data": {
      "text/html": [
       "<div>\n",
       "<style scoped>\n",
       "    .dataframe tbody tr th:only-of-type {\n",
       "        vertical-align: middle;\n",
       "    }\n",
       "\n",
       "    .dataframe tbody tr th {\n",
       "        vertical-align: top;\n",
       "    }\n",
       "\n",
       "    .dataframe thead th {\n",
       "        text-align: right;\n",
       "    }\n",
       "</style>\n",
       "<table border=\"1\" class=\"dataframe\">\n",
       "  <thead>\n",
       "    <tr style=\"text-align: right;\">\n",
       "      <th></th>\n",
       "      <th>id</th>\n",
       "      <th>grade</th>\n",
       "      <th>Grade</th>\n",
       "    </tr>\n",
       "  </thead>\n",
       "  <tbody>\n",
       "    <tr>\n",
       "      <th>0</th>\n",
       "      <td>1</td>\n",
       "      <td>a</td>\n",
       "      <td>a</td>\n",
       "    </tr>\n",
       "    <tr>\n",
       "      <th>1</th>\n",
       "      <td>2</td>\n",
       "      <td>b</td>\n",
       "      <td>b</td>\n",
       "    </tr>\n",
       "    <tr>\n",
       "      <th>2</th>\n",
       "      <td>3</td>\n",
       "      <td>c</td>\n",
       "      <td>c</td>\n",
       "    </tr>\n",
       "    <tr>\n",
       "      <th>3</th>\n",
       "      <td>4</td>\n",
       "      <td>b</td>\n",
       "      <td>b</td>\n",
       "    </tr>\n",
       "    <tr>\n",
       "      <th>4</th>\n",
       "      <td>5</td>\n",
       "      <td>a</td>\n",
       "      <td>a</td>\n",
       "    </tr>\n",
       "    <tr>\n",
       "      <th>5</th>\n",
       "      <td>6</td>\n",
       "      <td>e</td>\n",
       "      <td>e</td>\n",
       "    </tr>\n",
       "  </tbody>\n",
       "</table>\n",
       "</div>"
      ],
      "text/plain": [
       "   id grade Grade\n",
       "0   1     a     a\n",
       "1   2     b     b\n",
       "2   3     c     c\n",
       "3   4     b     b\n",
       "4   5     a     a\n",
       "5   6     e     e"
      ]
     },
     "execution_count": 80,
     "metadata": {},
     "output_type": "execute_result"
    }
   ],
   "source": [
    "df"
   ]
  },
  {
   "cell_type": "code",
   "execution_count": null,
   "id": "480ab130",
   "metadata": {},
   "outputs": [],
   "source": []
  },
  {
   "cell_type": "code",
   "execution_count": null,
   "id": "8c073c82",
   "metadata": {},
   "outputs": [],
   "source": []
  },
  {
   "cell_type": "code",
   "execution_count": null,
   "id": "73e4806e",
   "metadata": {},
   "outputs": [],
   "source": []
  }
 ],
 "metadata": {
  "kernelspec": {
   "display_name": "Python 3 (ipykernel)",
   "language": "python",
   "name": "python3"
  },
  "language_info": {
   "codemirror_mode": {
    "name": "ipython",
    "version": 3
   },
   "file_extension": ".py",
   "mimetype": "text/x-python",
   "name": "python",
   "nbconvert_exporter": "python",
   "pygments_lexer": "ipython3",
   "version": "3.9.12"
  }
 },
 "nbformat": 4,
 "nbformat_minor": 5
}
