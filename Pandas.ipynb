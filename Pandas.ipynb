{
 "cells": [
  {
   "cell_type": "code",
   "execution_count": 1,
   "id": "edad6cc7",
   "metadata": {},
   "outputs": [],
   "source": [
    "import pandas as pd\n",
    "import numpy as np\n"
   ]
  },
  {
   "cell_type": "code",
   "execution_count": 2,
   "id": "6ee33832",
   "metadata": {},
   "outputs": [
    {
     "data": {
      "text/plain": [
       "0     1.0\n",
       "1     2.0\n",
       "2     3.0\n",
       "3     4.0\n",
       "4     5.0\n",
       "5     6.0\n",
       "6     NaN\n",
       "7     8.0\n",
       "8     9.0\n",
       "9    10.0\n",
       "dtype: float64"
      ]
     },
     "execution_count": 2,
     "metadata": {},
     "output_type": "execute_result"
    }
   ],
   "source": [
    "s=pd.Series([1,2,3,4,5,6,np.nan,8,9,10])\n",
    "s"
   ]
  },
  {
   "cell_type": "code",
   "execution_count": 3,
   "id": "d165e365",
   "metadata": {},
   "outputs": [
    {
     "data": {
      "text/plain": [
       "DatetimeIndex(['2021-09-28', '2021-09-29', '2021-09-30', '2021-10-01',\n",
       "               '2021-10-02', '2021-10-03', '2021-10-04', '2021-10-05',\n",
       "               '2021-10-06', '2021-10-07'],\n",
       "              dtype='datetime64[ns]', freq='D')"
      ]
     },
     "execution_count": 3,
     "metadata": {},
     "output_type": "execute_result"
    }
   ],
   "source": [
    "d=pd.date_range('20210928',periods=10)\n",
    "d"
   ]
  },
  {
   "cell_type": "code",
   "execution_count": 4,
   "id": "5a75cf3a",
   "metadata": {
    "scrolled": true
   },
   "outputs": [
    {
     "data": {
      "text/html": [
       "<div>\n",
       "<style scoped>\n",
       "    .dataframe tbody tr th:only-of-type {\n",
       "        vertical-align: middle;\n",
       "    }\n",
       "\n",
       "    .dataframe tbody tr th {\n",
       "        vertical-align: top;\n",
       "    }\n",
       "\n",
       "    .dataframe thead th {\n",
       "        text-align: right;\n",
       "    }\n",
       "</style>\n",
       "<table border=\"1\" class=\"dataframe\">\n",
       "  <thead>\n",
       "    <tr style=\"text-align: right;\">\n",
       "      <th></th>\n",
       "      <th>A</th>\n",
       "      <th>B</th>\n",
       "      <th>C</th>\n",
       "      <th>D</th>\n",
       "    </tr>\n",
       "  </thead>\n",
       "  <tbody>\n",
       "    <tr>\n",
       "      <th>2021-09-28</th>\n",
       "      <td>-0.142189</td>\n",
       "      <td>-1.144978</td>\n",
       "      <td>-1.334426</td>\n",
       "      <td>0.605754</td>\n",
       "    </tr>\n",
       "    <tr>\n",
       "      <th>2021-09-29</th>\n",
       "      <td>1.511579</td>\n",
       "      <td>-1.243686</td>\n",
       "      <td>0.032998</td>\n",
       "      <td>0.138773</td>\n",
       "    </tr>\n",
       "    <tr>\n",
       "      <th>2021-09-30</th>\n",
       "      <td>-0.139589</td>\n",
       "      <td>0.199404</td>\n",
       "      <td>-0.468859</td>\n",
       "      <td>0.945935</td>\n",
       "    </tr>\n",
       "    <tr>\n",
       "      <th>2021-10-01</th>\n",
       "      <td>-0.970271</td>\n",
       "      <td>-1.065458</td>\n",
       "      <td>2.077879</td>\n",
       "      <td>-1.795373</td>\n",
       "    </tr>\n",
       "    <tr>\n",
       "      <th>2021-10-02</th>\n",
       "      <td>0.314512</td>\n",
       "      <td>0.762867</td>\n",
       "      <td>-1.032447</td>\n",
       "      <td>-1.179826</td>\n",
       "    </tr>\n",
       "    <tr>\n",
       "      <th>2021-10-03</th>\n",
       "      <td>0.655680</td>\n",
       "      <td>0.145244</td>\n",
       "      <td>1.195596</td>\n",
       "      <td>1.098136</td>\n",
       "    </tr>\n",
       "    <tr>\n",
       "      <th>2021-10-04</th>\n",
       "      <td>0.773623</td>\n",
       "      <td>-0.190251</td>\n",
       "      <td>-1.690923</td>\n",
       "      <td>-0.382938</td>\n",
       "    </tr>\n",
       "    <tr>\n",
       "      <th>2021-10-05</th>\n",
       "      <td>1.096197</td>\n",
       "      <td>-0.646810</td>\n",
       "      <td>-0.532290</td>\n",
       "      <td>-0.179429</td>\n",
       "    </tr>\n",
       "    <tr>\n",
       "      <th>2021-10-06</th>\n",
       "      <td>0.150487</td>\n",
       "      <td>1.442946</td>\n",
       "      <td>1.514626</td>\n",
       "      <td>-0.098387</td>\n",
       "    </tr>\n",
       "    <tr>\n",
       "      <th>2021-10-07</th>\n",
       "      <td>1.405334</td>\n",
       "      <td>-0.597030</td>\n",
       "      <td>-0.113561</td>\n",
       "      <td>2.191665</td>\n",
       "    </tr>\n",
       "  </tbody>\n",
       "</table>\n",
       "</div>"
      ],
      "text/plain": [
       "                   A         B         C         D\n",
       "2021-09-28 -0.142189 -1.144978 -1.334426  0.605754\n",
       "2021-09-29  1.511579 -1.243686  0.032998  0.138773\n",
       "2021-09-30 -0.139589  0.199404 -0.468859  0.945935\n",
       "2021-10-01 -0.970271 -1.065458  2.077879 -1.795373\n",
       "2021-10-02  0.314512  0.762867 -1.032447 -1.179826\n",
       "2021-10-03  0.655680  0.145244  1.195596  1.098136\n",
       "2021-10-04  0.773623 -0.190251 -1.690923 -0.382938\n",
       "2021-10-05  1.096197 -0.646810 -0.532290 -0.179429\n",
       "2021-10-06  0.150487  1.442946  1.514626 -0.098387\n",
       "2021-10-07  1.405334 -0.597030 -0.113561  2.191665"
      ]
     },
     "execution_count": 4,
     "metadata": {},
     "output_type": "execute_result"
    }
   ],
   "source": [
    "df=pd.DataFrame(np.random.randn(10,4), index=d, columns=['A','B','C','D'])\n",
    "df"
   ]
  },
  {
   "cell_type": "code",
   "execution_count": 5,
   "id": "25b14f0a",
   "metadata": {},
   "outputs": [
    {
     "data": {
      "text/html": [
       "<div>\n",
       "<style scoped>\n",
       "    .dataframe tbody tr th:only-of-type {\n",
       "        vertical-align: middle;\n",
       "    }\n",
       "\n",
       "    .dataframe tbody tr th {\n",
       "        vertical-align: top;\n",
       "    }\n",
       "\n",
       "    .dataframe thead th {\n",
       "        text-align: right;\n",
       "    }\n",
       "</style>\n",
       "<table border=\"1\" class=\"dataframe\">\n",
       "  <thead>\n",
       "    <tr style=\"text-align: right;\">\n",
       "      <th></th>\n",
       "      <th>A</th>\n",
       "      <th>B</th>\n",
       "      <th>C</th>\n",
       "      <th>D</th>\n",
       "      <th>E</th>\n",
       "      <th>F</th>\n",
       "    </tr>\n",
       "  </thead>\n",
       "  <tbody>\n",
       "    <tr>\n",
       "      <th>0</th>\n",
       "      <td>1</td>\n",
       "      <td>2021-09-28</td>\n",
       "      <td>1.0</td>\n",
       "      <td>5</td>\n",
       "      <td>true</td>\n",
       "      <td>pandas</td>\n",
       "    </tr>\n",
       "    <tr>\n",
       "      <th>1</th>\n",
       "      <td>2</td>\n",
       "      <td>2021-09-28</td>\n",
       "      <td>1.0</td>\n",
       "      <td>5</td>\n",
       "      <td>false</td>\n",
       "      <td>pandas</td>\n",
       "    </tr>\n",
       "    <tr>\n",
       "      <th>2</th>\n",
       "      <td>3</td>\n",
       "      <td>2021-09-28</td>\n",
       "      <td>1.0</td>\n",
       "      <td>5</td>\n",
       "      <td>true</td>\n",
       "      <td>pandas</td>\n",
       "    </tr>\n",
       "    <tr>\n",
       "      <th>3</th>\n",
       "      <td>4</td>\n",
       "      <td>2021-09-28</td>\n",
       "      <td>1.0</td>\n",
       "      <td>5</td>\n",
       "      <td>false</td>\n",
       "      <td>pandas</td>\n",
       "    </tr>\n",
       "  </tbody>\n",
       "</table>\n",
       "</div>"
      ],
      "text/plain": [
       "   A          B    C  D      E       F\n",
       "0  1 2021-09-28  1.0  5   true  pandas\n",
       "1  2 2021-09-28  1.0  5  false  pandas\n",
       "2  3 2021-09-28  1.0  5   true  pandas\n",
       "3  4 2021-09-28  1.0  5  false  pandas"
      ]
     },
     "execution_count": 5,
     "metadata": {},
     "output_type": "execute_result"
    }
   ],
   "source": [
    "df1=pd.DataFrame({'A':[1,2,3,4],\n",
    "                  'B':pd.Timestamp('20210928'),\n",
    "                  'C':pd.Series(1, index=list(range(4)),dtype='float32'),\n",
    "                  'D':np.array([5]*4,dtype='int32'),\n",
    "                  'E':pd.Categorical(['true','false','true','false']),\n",
    "                  'F':'pandas'})\n",
    "df1\n"
   ]
  },
  {
   "cell_type": "code",
   "execution_count": 6,
   "id": "5d5f6dd8",
   "metadata": {},
   "outputs": [
    {
     "data": {
      "text/plain": [
       "A             int64\n",
       "B    datetime64[ns]\n",
       "C           float32\n",
       "D             int32\n",
       "E          category\n",
       "F            object\n",
       "dtype: object"
      ]
     },
     "execution_count": 6,
     "metadata": {},
     "output_type": "execute_result"
    }
   ],
   "source": [
    "df1.dtypes"
   ]
  },
  {
   "cell_type": "code",
   "execution_count": 7,
   "id": "9cabc387",
   "metadata": {},
   "outputs": [
    {
     "data": {
      "text/plain": [
       "A    float64\n",
       "B    float64\n",
       "C    float64\n",
       "D    float64\n",
       "dtype: object"
      ]
     },
     "execution_count": 7,
     "metadata": {},
     "output_type": "execute_result"
    }
   ],
   "source": [
    "df.dtypes"
   ]
  },
  {
   "cell_type": "code",
   "execution_count": 8,
   "id": "7c7b188a",
   "metadata": {},
   "outputs": [
    {
     "data": {
      "text/html": [
       "<div>\n",
       "<style scoped>\n",
       "    .dataframe tbody tr th:only-of-type {\n",
       "        vertical-align: middle;\n",
       "    }\n",
       "\n",
       "    .dataframe tbody tr th {\n",
       "        vertical-align: top;\n",
       "    }\n",
       "\n",
       "    .dataframe thead th {\n",
       "        text-align: right;\n",
       "    }\n",
       "</style>\n",
       "<table border=\"1\" class=\"dataframe\">\n",
       "  <thead>\n",
       "    <tr style=\"text-align: right;\">\n",
       "      <th></th>\n",
       "      <th>A</th>\n",
       "      <th>B</th>\n",
       "      <th>C</th>\n",
       "      <th>D</th>\n",
       "    </tr>\n",
       "  </thead>\n",
       "  <tbody>\n",
       "    <tr>\n",
       "      <th>2021-09-28</th>\n",
       "      <td>-0.142189</td>\n",
       "      <td>-1.144978</td>\n",
       "      <td>-1.334426</td>\n",
       "      <td>0.605754</td>\n",
       "    </tr>\n",
       "    <tr>\n",
       "      <th>2021-09-29</th>\n",
       "      <td>1.511579</td>\n",
       "      <td>-1.243686</td>\n",
       "      <td>0.032998</td>\n",
       "      <td>0.138773</td>\n",
       "    </tr>\n",
       "    <tr>\n",
       "      <th>2021-09-30</th>\n",
       "      <td>-0.139589</td>\n",
       "      <td>0.199404</td>\n",
       "      <td>-0.468859</td>\n",
       "      <td>0.945935</td>\n",
       "    </tr>\n",
       "    <tr>\n",
       "      <th>2021-10-01</th>\n",
       "      <td>-0.970271</td>\n",
       "      <td>-1.065458</td>\n",
       "      <td>2.077879</td>\n",
       "      <td>-1.795373</td>\n",
       "    </tr>\n",
       "    <tr>\n",
       "      <th>2021-10-02</th>\n",
       "      <td>0.314512</td>\n",
       "      <td>0.762867</td>\n",
       "      <td>-1.032447</td>\n",
       "      <td>-1.179826</td>\n",
       "    </tr>\n",
       "  </tbody>\n",
       "</table>\n",
       "</div>"
      ],
      "text/plain": [
       "                   A         B         C         D\n",
       "2021-09-28 -0.142189 -1.144978 -1.334426  0.605754\n",
       "2021-09-29  1.511579 -1.243686  0.032998  0.138773\n",
       "2021-09-30 -0.139589  0.199404 -0.468859  0.945935\n",
       "2021-10-01 -0.970271 -1.065458  2.077879 -1.795373\n",
       "2021-10-02  0.314512  0.762867 -1.032447 -1.179826"
      ]
     },
     "execution_count": 8,
     "metadata": {},
     "output_type": "execute_result"
    }
   ],
   "source": [
    "df.head()\n",
    "#view the data it will gives the firtst 5 values"
   ]
  },
  {
   "cell_type": "code",
   "execution_count": 9,
   "id": "faaa5c50",
   "metadata": {},
   "outputs": [
    {
     "data": {
      "text/html": [
       "<div>\n",
       "<style scoped>\n",
       "    .dataframe tbody tr th:only-of-type {\n",
       "        vertical-align: middle;\n",
       "    }\n",
       "\n",
       "    .dataframe tbody tr th {\n",
       "        vertical-align: top;\n",
       "    }\n",
       "\n",
       "    .dataframe thead th {\n",
       "        text-align: right;\n",
       "    }\n",
       "</style>\n",
       "<table border=\"1\" class=\"dataframe\">\n",
       "  <thead>\n",
       "    <tr style=\"text-align: right;\">\n",
       "      <th></th>\n",
       "      <th>A</th>\n",
       "      <th>B</th>\n",
       "      <th>C</th>\n",
       "      <th>D</th>\n",
       "    </tr>\n",
       "  </thead>\n",
       "  <tbody>\n",
       "    <tr>\n",
       "      <th>2021-10-03</th>\n",
       "      <td>0.655680</td>\n",
       "      <td>0.145244</td>\n",
       "      <td>1.195596</td>\n",
       "      <td>1.098136</td>\n",
       "    </tr>\n",
       "    <tr>\n",
       "      <th>2021-10-04</th>\n",
       "      <td>0.773623</td>\n",
       "      <td>-0.190251</td>\n",
       "      <td>-1.690923</td>\n",
       "      <td>-0.382938</td>\n",
       "    </tr>\n",
       "    <tr>\n",
       "      <th>2021-10-05</th>\n",
       "      <td>1.096197</td>\n",
       "      <td>-0.646810</td>\n",
       "      <td>-0.532290</td>\n",
       "      <td>-0.179429</td>\n",
       "    </tr>\n",
       "    <tr>\n",
       "      <th>2021-10-06</th>\n",
       "      <td>0.150487</td>\n",
       "      <td>1.442946</td>\n",
       "      <td>1.514626</td>\n",
       "      <td>-0.098387</td>\n",
       "    </tr>\n",
       "    <tr>\n",
       "      <th>2021-10-07</th>\n",
       "      <td>1.405334</td>\n",
       "      <td>-0.597030</td>\n",
       "      <td>-0.113561</td>\n",
       "      <td>2.191665</td>\n",
       "    </tr>\n",
       "  </tbody>\n",
       "</table>\n",
       "</div>"
      ],
      "text/plain": [
       "                   A         B         C         D\n",
       "2021-10-03  0.655680  0.145244  1.195596  1.098136\n",
       "2021-10-04  0.773623 -0.190251 -1.690923 -0.382938\n",
       "2021-10-05  1.096197 -0.646810 -0.532290 -0.179429\n",
       "2021-10-06  0.150487  1.442946  1.514626 -0.098387\n",
       "2021-10-07  1.405334 -0.597030 -0.113561  2.191665"
      ]
     },
     "execution_count": 9,
     "metadata": {},
     "output_type": "execute_result"
    }
   ],
   "source": [
    "df.tail()"
   ]
  },
  {
   "cell_type": "code",
   "execution_count": 10,
   "id": "e4199156",
   "metadata": {},
   "outputs": [
    {
     "data": {
      "text/plain": [
       "DatetimeIndex(['2021-09-28', '2021-09-29', '2021-09-30', '2021-10-01',\n",
       "               '2021-10-02', '2021-10-03', '2021-10-04', '2021-10-05',\n",
       "               '2021-10-06', '2021-10-07'],\n",
       "              dtype='datetime64[ns]', freq='D')"
      ]
     },
     "execution_count": 10,
     "metadata": {},
     "output_type": "execute_result"
    }
   ],
   "source": [
    "df.index"
   ]
  },
  {
   "cell_type": "code",
   "execution_count": 11,
   "id": "36e9ff54",
   "metadata": {},
   "outputs": [
    {
     "data": {
      "text/plain": [
       "Index(['A', 'B', 'C', 'D'], dtype='object')"
      ]
     },
     "execution_count": 11,
     "metadata": {},
     "output_type": "execute_result"
    }
   ],
   "source": [
    "df.columns"
   ]
  },
  {
   "cell_type": "code",
   "execution_count": 12,
   "id": "496a67c4",
   "metadata": {},
   "outputs": [
    {
     "data": {
      "text/plain": [
       "array([[-0.14218936, -1.14497821, -1.33442632,  0.60575354],\n",
       "       [ 1.51157905, -1.24368634,  0.03299832,  0.1387732 ],\n",
       "       [-0.13958913,  0.19940374, -0.46885919,  0.94593531],\n",
       "       [-0.97027065, -1.06545781,  2.07787926, -1.79537252],\n",
       "       [ 0.3145119 ,  0.76286653, -1.03244695, -1.17982641],\n",
       "       [ 0.65568009,  0.1452444 ,  1.19559602,  1.09813565],\n",
       "       [ 0.77362269, -0.19025113, -1.69092276, -0.38293835],\n",
       "       [ 1.09619671, -0.64681029, -0.53229005, -0.17942946],\n",
       "       [ 0.15048673,  1.44294624,  1.51462603, -0.0983874 ],\n",
       "       [ 1.4053344 , -0.59703033, -0.11356055,  2.19166466]])"
      ]
     },
     "execution_count": 12,
     "metadata": {},
     "output_type": "execute_result"
    }
   ],
   "source": [
    "df.to_numpy()"
   ]
  },
  {
   "cell_type": "code",
   "execution_count": 13,
   "id": "fc4f1f57",
   "metadata": {},
   "outputs": [
    {
     "data": {
      "text/html": [
       "<div>\n",
       "<style scoped>\n",
       "    .dataframe tbody tr th:only-of-type {\n",
       "        vertical-align: middle;\n",
       "    }\n",
       "\n",
       "    .dataframe tbody tr th {\n",
       "        vertical-align: top;\n",
       "    }\n",
       "\n",
       "    .dataframe thead th {\n",
       "        text-align: right;\n",
       "    }\n",
       "</style>\n",
       "<table border=\"1\" class=\"dataframe\">\n",
       "  <thead>\n",
       "    <tr style=\"text-align: right;\">\n",
       "      <th></th>\n",
       "      <th>A</th>\n",
       "      <th>B</th>\n",
       "      <th>C</th>\n",
       "      <th>D</th>\n",
       "    </tr>\n",
       "  </thead>\n",
       "  <tbody>\n",
       "    <tr>\n",
       "      <th>count</th>\n",
       "      <td>10.000000</td>\n",
       "      <td>10.000000</td>\n",
       "      <td>10.000000</td>\n",
       "      <td>10.000000</td>\n",
       "    </tr>\n",
       "    <tr>\n",
       "      <th>mean</th>\n",
       "      <td>0.465536</td>\n",
       "      <td>-0.233775</td>\n",
       "      <td>-0.035141</td>\n",
       "      <td>0.134431</td>\n",
       "    </tr>\n",
       "    <tr>\n",
       "      <th>std</th>\n",
       "      <td>0.776412</td>\n",
       "      <td>0.880804</td>\n",
       "      <td>1.258384</td>\n",
       "      <td>1.150528</td>\n",
       "    </tr>\n",
       "    <tr>\n",
       "      <th>min</th>\n",
       "      <td>-0.970271</td>\n",
       "      <td>-1.243686</td>\n",
       "      <td>-1.690923</td>\n",
       "      <td>-1.795373</td>\n",
       "    </tr>\n",
       "    <tr>\n",
       "      <th>25%</th>\n",
       "      <td>-0.067070</td>\n",
       "      <td>-0.960796</td>\n",
       "      <td>-0.907408</td>\n",
       "      <td>-0.332061</td>\n",
       "    </tr>\n",
       "    <tr>\n",
       "      <th>50%</th>\n",
       "      <td>0.485096</td>\n",
       "      <td>-0.393641</td>\n",
       "      <td>-0.291210</td>\n",
       "      <td>0.020193</td>\n",
       "    </tr>\n",
       "    <tr>\n",
       "      <th>75%</th>\n",
       "      <td>1.015553</td>\n",
       "      <td>0.185864</td>\n",
       "      <td>0.904947</td>\n",
       "      <td>0.860890</td>\n",
       "    </tr>\n",
       "    <tr>\n",
       "      <th>max</th>\n",
       "      <td>1.511579</td>\n",
       "      <td>1.442946</td>\n",
       "      <td>2.077879</td>\n",
       "      <td>2.191665</td>\n",
       "    </tr>\n",
       "  </tbody>\n",
       "</table>\n",
       "</div>"
      ],
      "text/plain": [
       "               A          B          C          D\n",
       "count  10.000000  10.000000  10.000000  10.000000\n",
       "mean    0.465536  -0.233775  -0.035141   0.134431\n",
       "std     0.776412   0.880804   1.258384   1.150528\n",
       "min    -0.970271  -1.243686  -1.690923  -1.795373\n",
       "25%    -0.067070  -0.960796  -0.907408  -0.332061\n",
       "50%     0.485096  -0.393641  -0.291210   0.020193\n",
       "75%     1.015553   0.185864   0.904947   0.860890\n",
       "max     1.511579   1.442946   2.077879   2.191665"
      ]
     },
     "execution_count": 13,
     "metadata": {},
     "output_type": "execute_result"
    }
   ],
   "source": [
    "df.describe()"
   ]
  },
  {
   "cell_type": "code",
   "execution_count": 14,
   "id": "77ac75e5",
   "metadata": {},
   "outputs": [
    {
     "data": {
      "text/html": [
       "<div>\n",
       "<style scoped>\n",
       "    .dataframe tbody tr th:only-of-type {\n",
       "        vertical-align: middle;\n",
       "    }\n",
       "\n",
       "    .dataframe tbody tr th {\n",
       "        vertical-align: top;\n",
       "    }\n",
       "\n",
       "    .dataframe thead th {\n",
       "        text-align: right;\n",
       "    }\n",
       "</style>\n",
       "<table border=\"1\" class=\"dataframe\">\n",
       "  <thead>\n",
       "    <tr style=\"text-align: right;\">\n",
       "      <th></th>\n",
       "      <th>D</th>\n",
       "      <th>C</th>\n",
       "      <th>B</th>\n",
       "      <th>A</th>\n",
       "    </tr>\n",
       "  </thead>\n",
       "  <tbody>\n",
       "    <tr>\n",
       "      <th>2021-09-28</th>\n",
       "      <td>0.605754</td>\n",
       "      <td>-1.334426</td>\n",
       "      <td>-1.144978</td>\n",
       "      <td>-0.142189</td>\n",
       "    </tr>\n",
       "    <tr>\n",
       "      <th>2021-09-29</th>\n",
       "      <td>0.138773</td>\n",
       "      <td>0.032998</td>\n",
       "      <td>-1.243686</td>\n",
       "      <td>1.511579</td>\n",
       "    </tr>\n",
       "    <tr>\n",
       "      <th>2021-09-30</th>\n",
       "      <td>0.945935</td>\n",
       "      <td>-0.468859</td>\n",
       "      <td>0.199404</td>\n",
       "      <td>-0.139589</td>\n",
       "    </tr>\n",
       "    <tr>\n",
       "      <th>2021-10-01</th>\n",
       "      <td>-1.795373</td>\n",
       "      <td>2.077879</td>\n",
       "      <td>-1.065458</td>\n",
       "      <td>-0.970271</td>\n",
       "    </tr>\n",
       "    <tr>\n",
       "      <th>2021-10-02</th>\n",
       "      <td>-1.179826</td>\n",
       "      <td>-1.032447</td>\n",
       "      <td>0.762867</td>\n",
       "      <td>0.314512</td>\n",
       "    </tr>\n",
       "    <tr>\n",
       "      <th>2021-10-03</th>\n",
       "      <td>1.098136</td>\n",
       "      <td>1.195596</td>\n",
       "      <td>0.145244</td>\n",
       "      <td>0.655680</td>\n",
       "    </tr>\n",
       "    <tr>\n",
       "      <th>2021-10-04</th>\n",
       "      <td>-0.382938</td>\n",
       "      <td>-1.690923</td>\n",
       "      <td>-0.190251</td>\n",
       "      <td>0.773623</td>\n",
       "    </tr>\n",
       "    <tr>\n",
       "      <th>2021-10-05</th>\n",
       "      <td>-0.179429</td>\n",
       "      <td>-0.532290</td>\n",
       "      <td>-0.646810</td>\n",
       "      <td>1.096197</td>\n",
       "    </tr>\n",
       "    <tr>\n",
       "      <th>2021-10-06</th>\n",
       "      <td>-0.098387</td>\n",
       "      <td>1.514626</td>\n",
       "      <td>1.442946</td>\n",
       "      <td>0.150487</td>\n",
       "    </tr>\n",
       "    <tr>\n",
       "      <th>2021-10-07</th>\n",
       "      <td>2.191665</td>\n",
       "      <td>-0.113561</td>\n",
       "      <td>-0.597030</td>\n",
       "      <td>1.405334</td>\n",
       "    </tr>\n",
       "  </tbody>\n",
       "</table>\n",
       "</div>"
      ],
      "text/plain": [
       "                   D         C         B         A\n",
       "2021-09-28  0.605754 -1.334426 -1.144978 -0.142189\n",
       "2021-09-29  0.138773  0.032998 -1.243686  1.511579\n",
       "2021-09-30  0.945935 -0.468859  0.199404 -0.139589\n",
       "2021-10-01 -1.795373  2.077879 -1.065458 -0.970271\n",
       "2021-10-02 -1.179826 -1.032447  0.762867  0.314512\n",
       "2021-10-03  1.098136  1.195596  0.145244  0.655680\n",
       "2021-10-04 -0.382938 -1.690923 -0.190251  0.773623\n",
       "2021-10-05 -0.179429 -0.532290 -0.646810  1.096197\n",
       "2021-10-06 -0.098387  1.514626  1.442946  0.150487\n",
       "2021-10-07  2.191665 -0.113561 -0.597030  1.405334"
      ]
     },
     "execution_count": 14,
     "metadata": {},
     "output_type": "execute_result"
    }
   ],
   "source": [
    "df.sort_index(axis=1,ascending=False)"
   ]
  },
  {
   "cell_type": "code",
   "execution_count": 15,
   "id": "838b3245",
   "metadata": {},
   "outputs": [
    {
     "data": {
      "text/html": [
       "<div>\n",
       "<style scoped>\n",
       "    .dataframe tbody tr th:only-of-type {\n",
       "        vertical-align: middle;\n",
       "    }\n",
       "\n",
       "    .dataframe tbody tr th {\n",
       "        vertical-align: top;\n",
       "    }\n",
       "\n",
       "    .dataframe thead th {\n",
       "        text-align: right;\n",
       "    }\n",
       "</style>\n",
       "<table border=\"1\" class=\"dataframe\">\n",
       "  <thead>\n",
       "    <tr style=\"text-align: right;\">\n",
       "      <th></th>\n",
       "      <th>A</th>\n",
       "      <th>B</th>\n",
       "      <th>C</th>\n",
       "      <th>D</th>\n",
       "    </tr>\n",
       "  </thead>\n",
       "  <tbody>\n",
       "    <tr>\n",
       "      <th>2021-10-04</th>\n",
       "      <td>0.773623</td>\n",
       "      <td>-0.190251</td>\n",
       "      <td>-1.690923</td>\n",
       "      <td>-0.382938</td>\n",
       "    </tr>\n",
       "    <tr>\n",
       "      <th>2021-09-28</th>\n",
       "      <td>-0.142189</td>\n",
       "      <td>-1.144978</td>\n",
       "      <td>-1.334426</td>\n",
       "      <td>0.605754</td>\n",
       "    </tr>\n",
       "    <tr>\n",
       "      <th>2021-10-02</th>\n",
       "      <td>0.314512</td>\n",
       "      <td>0.762867</td>\n",
       "      <td>-1.032447</td>\n",
       "      <td>-1.179826</td>\n",
       "    </tr>\n",
       "    <tr>\n",
       "      <th>2021-10-05</th>\n",
       "      <td>1.096197</td>\n",
       "      <td>-0.646810</td>\n",
       "      <td>-0.532290</td>\n",
       "      <td>-0.179429</td>\n",
       "    </tr>\n",
       "    <tr>\n",
       "      <th>2021-09-30</th>\n",
       "      <td>-0.139589</td>\n",
       "      <td>0.199404</td>\n",
       "      <td>-0.468859</td>\n",
       "      <td>0.945935</td>\n",
       "    </tr>\n",
       "    <tr>\n",
       "      <th>2021-10-07</th>\n",
       "      <td>1.405334</td>\n",
       "      <td>-0.597030</td>\n",
       "      <td>-0.113561</td>\n",
       "      <td>2.191665</td>\n",
       "    </tr>\n",
       "    <tr>\n",
       "      <th>2021-09-29</th>\n",
       "      <td>1.511579</td>\n",
       "      <td>-1.243686</td>\n",
       "      <td>0.032998</td>\n",
       "      <td>0.138773</td>\n",
       "    </tr>\n",
       "    <tr>\n",
       "      <th>2021-10-03</th>\n",
       "      <td>0.655680</td>\n",
       "      <td>0.145244</td>\n",
       "      <td>1.195596</td>\n",
       "      <td>1.098136</td>\n",
       "    </tr>\n",
       "    <tr>\n",
       "      <th>2021-10-06</th>\n",
       "      <td>0.150487</td>\n",
       "      <td>1.442946</td>\n",
       "      <td>1.514626</td>\n",
       "      <td>-0.098387</td>\n",
       "    </tr>\n",
       "    <tr>\n",
       "      <th>2021-10-01</th>\n",
       "      <td>-0.970271</td>\n",
       "      <td>-1.065458</td>\n",
       "      <td>2.077879</td>\n",
       "      <td>-1.795373</td>\n",
       "    </tr>\n",
       "  </tbody>\n",
       "</table>\n",
       "</div>"
      ],
      "text/plain": [
       "                   A         B         C         D\n",
       "2021-10-04  0.773623 -0.190251 -1.690923 -0.382938\n",
       "2021-09-28 -0.142189 -1.144978 -1.334426  0.605754\n",
       "2021-10-02  0.314512  0.762867 -1.032447 -1.179826\n",
       "2021-10-05  1.096197 -0.646810 -0.532290 -0.179429\n",
       "2021-09-30 -0.139589  0.199404 -0.468859  0.945935\n",
       "2021-10-07  1.405334 -0.597030 -0.113561  2.191665\n",
       "2021-09-29  1.511579 -1.243686  0.032998  0.138773\n",
       "2021-10-03  0.655680  0.145244  1.195596  1.098136\n",
       "2021-10-06  0.150487  1.442946  1.514626 -0.098387\n",
       "2021-10-01 -0.970271 -1.065458  2.077879 -1.795373"
      ]
     },
     "execution_count": 15,
     "metadata": {},
     "output_type": "execute_result"
    }
   ],
   "source": [
    "df.sort_values(by='C')"
   ]
  },
  {
   "cell_type": "code",
   "execution_count": 16,
   "id": "832931f8",
   "metadata": {},
   "outputs": [
    {
     "data": {
      "text/plain": [
       "2021-09-28   -1.334426\n",
       "2021-09-29    0.032998\n",
       "2021-09-30   -0.468859\n",
       "2021-10-01    2.077879\n",
       "2021-10-02   -1.032447\n",
       "2021-10-03    1.195596\n",
       "2021-10-04   -1.690923\n",
       "2021-10-05   -0.532290\n",
       "2021-10-06    1.514626\n",
       "2021-10-07   -0.113561\n",
       "Freq: D, Name: C, dtype: float64"
      ]
     },
     "execution_count": 16,
     "metadata": {},
     "output_type": "execute_result"
    }
   ],
   "source": [
    "df['C']"
   ]
  },
  {
   "cell_type": "code",
   "execution_count": 17,
   "id": "0211bf11",
   "metadata": {},
   "outputs": [
    {
     "data": {
      "text/html": [
       "<div>\n",
       "<style scoped>\n",
       "    .dataframe tbody tr th:only-of-type {\n",
       "        vertical-align: middle;\n",
       "    }\n",
       "\n",
       "    .dataframe tbody tr th {\n",
       "        vertical-align: top;\n",
       "    }\n",
       "\n",
       "    .dataframe thead th {\n",
       "        text-align: right;\n",
       "    }\n",
       "</style>\n",
       "<table border=\"1\" class=\"dataframe\">\n",
       "  <thead>\n",
       "    <tr style=\"text-align: right;\">\n",
       "      <th></th>\n",
       "      <th>A</th>\n",
       "      <th>B</th>\n",
       "      <th>C</th>\n",
       "      <th>D</th>\n",
       "    </tr>\n",
       "  </thead>\n",
       "  <tbody>\n",
       "    <tr>\n",
       "      <th>2021-09-28</th>\n",
       "      <td>-0.142189</td>\n",
       "      <td>-1.144978</td>\n",
       "      <td>-1.334426</td>\n",
       "      <td>0.605754</td>\n",
       "    </tr>\n",
       "    <tr>\n",
       "      <th>2021-09-29</th>\n",
       "      <td>1.511579</td>\n",
       "      <td>-1.243686</td>\n",
       "      <td>0.032998</td>\n",
       "      <td>0.138773</td>\n",
       "    </tr>\n",
       "    <tr>\n",
       "      <th>2021-09-30</th>\n",
       "      <td>-0.139589</td>\n",
       "      <td>0.199404</td>\n",
       "      <td>-0.468859</td>\n",
       "      <td>0.945935</td>\n",
       "    </tr>\n",
       "  </tbody>\n",
       "</table>\n",
       "</div>"
      ],
      "text/plain": [
       "                   A         B         C         D\n",
       "2021-09-28 -0.142189 -1.144978 -1.334426  0.605754\n",
       "2021-09-29  1.511579 -1.243686  0.032998  0.138773\n",
       "2021-09-30 -0.139589  0.199404 -0.468859  0.945935"
      ]
     },
     "execution_count": 17,
     "metadata": {},
     "output_type": "execute_result"
    }
   ],
   "source": [
    "df[0:3]"
   ]
  },
  {
   "cell_type": "code",
   "execution_count": 18,
   "id": "482c91c4",
   "metadata": {},
   "outputs": [
    {
     "data": {
      "text/plain": [
       "A   -0.142189\n",
       "B   -1.144978\n",
       "C   -1.334426\n",
       "D    0.605754\n",
       "Name: 2021-09-28 00:00:00, dtype: float64"
      ]
     },
     "execution_count": 18,
     "metadata": {},
     "output_type": "execute_result"
    }
   ],
   "source": [
    "df.loc[d[0]]\n",
    "\n",
    "#location ,,,0th location ulla 0th row ulla"
   ]
  },
  {
   "cell_type": "code",
   "execution_count": 19,
   "id": "1232dc6e",
   "metadata": {},
   "outputs": [
    {
     "data": {
      "text/html": [
       "<div>\n",
       "<style scoped>\n",
       "    .dataframe tbody tr th:only-of-type {\n",
       "        vertical-align: middle;\n",
       "    }\n",
       "\n",
       "    .dataframe tbody tr th {\n",
       "        vertical-align: top;\n",
       "    }\n",
       "\n",
       "    .dataframe thead th {\n",
       "        text-align: right;\n",
       "    }\n",
       "</style>\n",
       "<table border=\"1\" class=\"dataframe\">\n",
       "  <thead>\n",
       "    <tr style=\"text-align: right;\">\n",
       "      <th></th>\n",
       "      <th>A</th>\n",
       "      <th>C</th>\n",
       "    </tr>\n",
       "  </thead>\n",
       "  <tbody>\n",
       "    <tr>\n",
       "      <th>2021-09-28</th>\n",
       "      <td>-0.142189</td>\n",
       "      <td>-1.334426</td>\n",
       "    </tr>\n",
       "    <tr>\n",
       "      <th>2021-09-29</th>\n",
       "      <td>1.511579</td>\n",
       "      <td>0.032998</td>\n",
       "    </tr>\n",
       "    <tr>\n",
       "      <th>2021-09-30</th>\n",
       "      <td>-0.139589</td>\n",
       "      <td>-0.468859</td>\n",
       "    </tr>\n",
       "    <tr>\n",
       "      <th>2021-10-01</th>\n",
       "      <td>-0.970271</td>\n",
       "      <td>2.077879</td>\n",
       "    </tr>\n",
       "    <tr>\n",
       "      <th>2021-10-02</th>\n",
       "      <td>0.314512</td>\n",
       "      <td>-1.032447</td>\n",
       "    </tr>\n",
       "    <tr>\n",
       "      <th>2021-10-03</th>\n",
       "      <td>0.655680</td>\n",
       "      <td>1.195596</td>\n",
       "    </tr>\n",
       "    <tr>\n",
       "      <th>2021-10-04</th>\n",
       "      <td>0.773623</td>\n",
       "      <td>-1.690923</td>\n",
       "    </tr>\n",
       "    <tr>\n",
       "      <th>2021-10-05</th>\n",
       "      <td>1.096197</td>\n",
       "      <td>-0.532290</td>\n",
       "    </tr>\n",
       "    <tr>\n",
       "      <th>2021-10-06</th>\n",
       "      <td>0.150487</td>\n",
       "      <td>1.514626</td>\n",
       "    </tr>\n",
       "    <tr>\n",
       "      <th>2021-10-07</th>\n",
       "      <td>1.405334</td>\n",
       "      <td>-0.113561</td>\n",
       "    </tr>\n",
       "  </tbody>\n",
       "</table>\n",
       "</div>"
      ],
      "text/plain": [
       "                   A         C\n",
       "2021-09-28 -0.142189 -1.334426\n",
       "2021-09-29  1.511579  0.032998\n",
       "2021-09-30 -0.139589 -0.468859\n",
       "2021-10-01 -0.970271  2.077879\n",
       "2021-10-02  0.314512 -1.032447\n",
       "2021-10-03  0.655680  1.195596\n",
       "2021-10-04  0.773623 -1.690923\n",
       "2021-10-05  1.096197 -0.532290\n",
       "2021-10-06  0.150487  1.514626\n",
       "2021-10-07  1.405334 -0.113561"
      ]
     },
     "execution_count": 19,
     "metadata": {},
     "output_type": "execute_result"
    }
   ],
   "source": [
    "df.loc[:,['A','C']]"
   ]
  },
  {
   "cell_type": "code",
   "execution_count": 20,
   "id": "4e29c631",
   "metadata": {},
   "outputs": [
    {
     "data": {
      "text/html": [
       "<div>\n",
       "<style scoped>\n",
       "    .dataframe tbody tr th:only-of-type {\n",
       "        vertical-align: middle;\n",
       "    }\n",
       "\n",
       "    .dataframe tbody tr th {\n",
       "        vertical-align: top;\n",
       "    }\n",
       "\n",
       "    .dataframe thead th {\n",
       "        text-align: right;\n",
       "    }\n",
       "</style>\n",
       "<table border=\"1\" class=\"dataframe\">\n",
       "  <thead>\n",
       "    <tr style=\"text-align: right;\">\n",
       "      <th></th>\n",
       "      <th>D</th>\n",
       "      <th>C</th>\n",
       "    </tr>\n",
       "  </thead>\n",
       "  <tbody>\n",
       "    <tr>\n",
       "      <th>2021-09-28</th>\n",
       "      <td>0.605754</td>\n",
       "      <td>-1.334426</td>\n",
       "    </tr>\n",
       "    <tr>\n",
       "      <th>2021-09-29</th>\n",
       "      <td>0.138773</td>\n",
       "      <td>0.032998</td>\n",
       "    </tr>\n",
       "    <tr>\n",
       "      <th>2021-09-30</th>\n",
       "      <td>0.945935</td>\n",
       "      <td>-0.468859</td>\n",
       "    </tr>\n",
       "    <tr>\n",
       "      <th>2021-10-01</th>\n",
       "      <td>-1.795373</td>\n",
       "      <td>2.077879</td>\n",
       "    </tr>\n",
       "    <tr>\n",
       "      <th>2021-10-02</th>\n",
       "      <td>-1.179826</td>\n",
       "      <td>-1.032447</td>\n",
       "    </tr>\n",
       "    <tr>\n",
       "      <th>2021-10-03</th>\n",
       "      <td>1.098136</td>\n",
       "      <td>1.195596</td>\n",
       "    </tr>\n",
       "  </tbody>\n",
       "</table>\n",
       "</div>"
      ],
      "text/plain": [
       "                   D         C\n",
       "2021-09-28  0.605754 -1.334426\n",
       "2021-09-29  0.138773  0.032998\n",
       "2021-09-30  0.945935 -0.468859\n",
       "2021-10-01 -1.795373  2.077879\n",
       "2021-10-02 -1.179826 -1.032447\n",
       "2021-10-03  1.098136  1.195596"
      ]
     },
     "execution_count": 20,
     "metadata": {},
     "output_type": "execute_result"
    }
   ],
   "source": [
    "df.loc['20210928':'20211003',['D','C']]"
   ]
  },
  {
   "cell_type": "code",
   "execution_count": 21,
   "id": "5c33f7c3",
   "metadata": {},
   "outputs": [
    {
     "data": {
      "text/plain": [
       "D    0.605754\n",
       "C   -1.334426\n",
       "Name: 2021-09-28 00:00:00, dtype: float64"
      ]
     },
     "execution_count": 21,
     "metadata": {},
     "output_type": "execute_result"
    }
   ],
   "source": [
    "df.loc['20210928',['D','C']]\n"
   ]
  },
  {
   "cell_type": "code",
   "execution_count": 22,
   "id": "62e0b328",
   "metadata": {},
   "outputs": [
    {
     "data": {
      "text/plain": [
       "D    0.605754\n",
       "C   -1.334426\n",
       "Name: 2021-09-28 00:00:00, dtype: float64"
      ]
     },
     "execution_count": 22,
     "metadata": {},
     "output_type": "execute_result"
    }
   ],
   "source": [
    "\n",
    "df.loc[d[0],['D','C']]"
   ]
  },
  {
   "cell_type": "code",
   "execution_count": 23,
   "id": "2222f853",
   "metadata": {},
   "outputs": [
    {
     "data": {
      "text/plain": [
       "-1.3344263182882565"
      ]
     },
     "execution_count": 23,
     "metadata": {},
     "output_type": "execute_result"
    }
   ],
   "source": [
    "df.at[d[0],'C']"
   ]
  },
  {
   "cell_type": "code",
   "execution_count": 24,
   "id": "75350ab6",
   "metadata": {},
   "outputs": [
    {
     "data": {
      "text/plain": [
       "A   -0.970271\n",
       "B   -1.065458\n",
       "C    2.077879\n",
       "D   -1.795373\n",
       "Name: 2021-10-01 00:00:00, dtype: float64"
      ]
     },
     "execution_count": 24,
     "metadata": {},
     "output_type": "execute_result"
    }
   ],
   "source": [
    "df.iloc[3]"
   ]
  },
  {
   "cell_type": "code",
   "execution_count": 25,
   "id": "4289c362",
   "metadata": {},
   "outputs": [
    {
     "data": {
      "text/html": [
       "<div>\n",
       "<style scoped>\n",
       "    .dataframe tbody tr th:only-of-type {\n",
       "        vertical-align: middle;\n",
       "    }\n",
       "\n",
       "    .dataframe tbody tr th {\n",
       "        vertical-align: top;\n",
       "    }\n",
       "\n",
       "    .dataframe thead th {\n",
       "        text-align: right;\n",
       "    }\n",
       "</style>\n",
       "<table border=\"1\" class=\"dataframe\">\n",
       "  <thead>\n",
       "    <tr style=\"text-align: right;\">\n",
       "      <th></th>\n",
       "      <th>A</th>\n",
       "      <th>B</th>\n",
       "      <th>C</th>\n",
       "      <th>D</th>\n",
       "    </tr>\n",
       "  </thead>\n",
       "  <tbody>\n",
       "    <tr>\n",
       "      <th>2021-10-01</th>\n",
       "      <td>-0.970271</td>\n",
       "      <td>-1.065458</td>\n",
       "      <td>2.077879</td>\n",
       "      <td>-1.795373</td>\n",
       "    </tr>\n",
       "    <tr>\n",
       "      <th>2021-10-02</th>\n",
       "      <td>0.314512</td>\n",
       "      <td>0.762867</td>\n",
       "      <td>-1.032447</td>\n",
       "      <td>-1.179826</td>\n",
       "    </tr>\n",
       "  </tbody>\n",
       "</table>\n",
       "</div>"
      ],
      "text/plain": [
       "                   A         B         C         D\n",
       "2021-10-01 -0.970271 -1.065458  2.077879 -1.795373\n",
       "2021-10-02  0.314512  0.762867 -1.032447 -1.179826"
      ]
     },
     "execution_count": 25,
     "metadata": {},
     "output_type": "execute_result"
    }
   ],
   "source": [
    "df.iloc[3:5]"
   ]
  },
  {
   "cell_type": "code",
   "execution_count": 26,
   "id": "2d875922",
   "metadata": {},
   "outputs": [
    {
     "data": {
      "text/html": [
       "<div>\n",
       "<style scoped>\n",
       "    .dataframe tbody tr th:only-of-type {\n",
       "        vertical-align: middle;\n",
       "    }\n",
       "\n",
       "    .dataframe tbody tr th {\n",
       "        vertical-align: top;\n",
       "    }\n",
       "\n",
       "    .dataframe thead th {\n",
       "        text-align: right;\n",
       "    }\n",
       "</style>\n",
       "<table border=\"1\" class=\"dataframe\">\n",
       "  <thead>\n",
       "    <tr style=\"text-align: right;\">\n",
       "      <th></th>\n",
       "      <th>A</th>\n",
       "      <th>B</th>\n",
       "    </tr>\n",
       "  </thead>\n",
       "  <tbody>\n",
       "    <tr>\n",
       "      <th>2021-10-01</th>\n",
       "      <td>-0.970271</td>\n",
       "      <td>-1.065458</td>\n",
       "    </tr>\n",
       "    <tr>\n",
       "      <th>2021-10-02</th>\n",
       "      <td>0.314512</td>\n",
       "      <td>0.762867</td>\n",
       "    </tr>\n",
       "  </tbody>\n",
       "</table>\n",
       "</div>"
      ],
      "text/plain": [
       "                   A         B\n",
       "2021-10-01 -0.970271 -1.065458\n",
       "2021-10-02  0.314512  0.762867"
      ]
     },
     "execution_count": 26,
     "metadata": {},
     "output_type": "execute_result"
    }
   ],
   "source": [
    "df.iloc[3:5 ,0:2]"
   ]
  },
  {
   "cell_type": "code",
   "execution_count": 27,
   "id": "e6eb6172",
   "metadata": {},
   "outputs": [
    {
     "data": {
      "text/html": [
       "<div>\n",
       "<style scoped>\n",
       "    .dataframe tbody tr th:only-of-type {\n",
       "        vertical-align: middle;\n",
       "    }\n",
       "\n",
       "    .dataframe tbody tr th {\n",
       "        vertical-align: top;\n",
       "    }\n",
       "\n",
       "    .dataframe thead th {\n",
       "        text-align: right;\n",
       "    }\n",
       "</style>\n",
       "<table border=\"1\" class=\"dataframe\">\n",
       "  <thead>\n",
       "    <tr style=\"text-align: right;\">\n",
       "      <th></th>\n",
       "      <th>A</th>\n",
       "      <th>B</th>\n",
       "      <th>C</th>\n",
       "      <th>D</th>\n",
       "    </tr>\n",
       "  </thead>\n",
       "  <tbody>\n",
       "    <tr>\n",
       "      <th>2021-09-29</th>\n",
       "      <td>1.511579</td>\n",
       "      <td>-1.243686</td>\n",
       "      <td>0.032998</td>\n",
       "      <td>0.138773</td>\n",
       "    </tr>\n",
       "    <tr>\n",
       "      <th>2021-10-02</th>\n",
       "      <td>0.314512</td>\n",
       "      <td>0.762867</td>\n",
       "      <td>-1.032447</td>\n",
       "      <td>-1.179826</td>\n",
       "    </tr>\n",
       "    <tr>\n",
       "      <th>2021-10-03</th>\n",
       "      <td>0.655680</td>\n",
       "      <td>0.145244</td>\n",
       "      <td>1.195596</td>\n",
       "      <td>1.098136</td>\n",
       "    </tr>\n",
       "    <tr>\n",
       "      <th>2021-10-04</th>\n",
       "      <td>0.773623</td>\n",
       "      <td>-0.190251</td>\n",
       "      <td>-1.690923</td>\n",
       "      <td>-0.382938</td>\n",
       "    </tr>\n",
       "    <tr>\n",
       "      <th>2021-10-05</th>\n",
       "      <td>1.096197</td>\n",
       "      <td>-0.646810</td>\n",
       "      <td>-0.532290</td>\n",
       "      <td>-0.179429</td>\n",
       "    </tr>\n",
       "    <tr>\n",
       "      <th>2021-10-06</th>\n",
       "      <td>0.150487</td>\n",
       "      <td>1.442946</td>\n",
       "      <td>1.514626</td>\n",
       "      <td>-0.098387</td>\n",
       "    </tr>\n",
       "    <tr>\n",
       "      <th>2021-10-07</th>\n",
       "      <td>1.405334</td>\n",
       "      <td>-0.597030</td>\n",
       "      <td>-0.113561</td>\n",
       "      <td>2.191665</td>\n",
       "    </tr>\n",
       "  </tbody>\n",
       "</table>\n",
       "</div>"
      ],
      "text/plain": [
       "                   A         B         C         D\n",
       "2021-09-29  1.511579 -1.243686  0.032998  0.138773\n",
       "2021-10-02  0.314512  0.762867 -1.032447 -1.179826\n",
       "2021-10-03  0.655680  0.145244  1.195596  1.098136\n",
       "2021-10-04  0.773623 -0.190251 -1.690923 -0.382938\n",
       "2021-10-05  1.096197 -0.646810 -0.532290 -0.179429\n",
       "2021-10-06  0.150487  1.442946  1.514626 -0.098387\n",
       "2021-10-07  1.405334 -0.597030 -0.113561  2.191665"
      ]
     },
     "execution_count": 27,
     "metadata": {},
     "output_type": "execute_result"
    }
   ],
   "source": [
    "df[df['A']>0]"
   ]
  },
  {
   "cell_type": "code",
   "execution_count": 28,
   "id": "74b10d76",
   "metadata": {},
   "outputs": [
    {
     "data": {
      "text/html": [
       "<div>\n",
       "<style scoped>\n",
       "    .dataframe tbody tr th:only-of-type {\n",
       "        vertical-align: middle;\n",
       "    }\n",
       "\n",
       "    .dataframe tbody tr th {\n",
       "        vertical-align: top;\n",
       "    }\n",
       "\n",
       "    .dataframe thead th {\n",
       "        text-align: right;\n",
       "    }\n",
       "</style>\n",
       "<table border=\"1\" class=\"dataframe\">\n",
       "  <thead>\n",
       "    <tr style=\"text-align: right;\">\n",
       "      <th></th>\n",
       "      <th>A</th>\n",
       "      <th>B</th>\n",
       "      <th>C</th>\n",
       "      <th>D</th>\n",
       "    </tr>\n",
       "  </thead>\n",
       "  <tbody>\n",
       "  </tbody>\n",
       "</table>\n",
       "</div>"
      ],
      "text/plain": [
       "Empty DataFrame\n",
       "Columns: [A, B, C, D]\n",
       "Index: []"
      ]
     },
     "execution_count": 28,
     "metadata": {},
     "output_type": "execute_result"
    }
   ],
   "source": [
    "df[df['A']>2]"
   ]
  },
  {
   "cell_type": "code",
   "execution_count": 29,
   "id": "022cd4db",
   "metadata": {},
   "outputs": [
    {
     "data": {
      "text/html": [
       "<div>\n",
       "<style scoped>\n",
       "    .dataframe tbody tr th:only-of-type {\n",
       "        vertical-align: middle;\n",
       "    }\n",
       "\n",
       "    .dataframe tbody tr th {\n",
       "        vertical-align: top;\n",
       "    }\n",
       "\n",
       "    .dataframe thead th {\n",
       "        text-align: right;\n",
       "    }\n",
       "</style>\n",
       "<table border=\"1\" class=\"dataframe\">\n",
       "  <thead>\n",
       "    <tr style=\"text-align: right;\">\n",
       "      <th></th>\n",
       "      <th>A</th>\n",
       "      <th>B</th>\n",
       "      <th>C</th>\n",
       "      <th>D</th>\n",
       "    </tr>\n",
       "  </thead>\n",
       "  <tbody>\n",
       "  </tbody>\n",
       "</table>\n",
       "</div>"
      ],
      "text/plain": [
       "Empty DataFrame\n",
       "Columns: [A, B, C, D]\n",
       "Index: []"
      ]
     },
     "execution_count": 29,
     "metadata": {},
     "output_type": "execute_result"
    }
   ],
   "source": [
    "df[df['A']>3]"
   ]
  },
  {
   "cell_type": "code",
   "execution_count": 30,
   "id": "b98ba733",
   "metadata": {},
   "outputs": [],
   "source": [
    "df2=df.reindex(index=d[0:4],columns=list(df.columns)+['E'])\n",
    "df2.loc[d[0]:d[1],'E']=1"
   ]
  },
  {
   "cell_type": "code",
   "execution_count": 31,
   "id": "ae8d2457",
   "metadata": {},
   "outputs": [
    {
     "data": {
      "text/html": [
       "<div>\n",
       "<style scoped>\n",
       "    .dataframe tbody tr th:only-of-type {\n",
       "        vertical-align: middle;\n",
       "    }\n",
       "\n",
       "    .dataframe tbody tr th {\n",
       "        vertical-align: top;\n",
       "    }\n",
       "\n",
       "    .dataframe thead th {\n",
       "        text-align: right;\n",
       "    }\n",
       "</style>\n",
       "<table border=\"1\" class=\"dataframe\">\n",
       "  <thead>\n",
       "    <tr style=\"text-align: right;\">\n",
       "      <th></th>\n",
       "      <th>A</th>\n",
       "      <th>B</th>\n",
       "      <th>C</th>\n",
       "      <th>D</th>\n",
       "      <th>E</th>\n",
       "    </tr>\n",
       "  </thead>\n",
       "  <tbody>\n",
       "    <tr>\n",
       "      <th>2021-09-28</th>\n",
       "      <td>-0.142189</td>\n",
       "      <td>-1.144978</td>\n",
       "      <td>-1.334426</td>\n",
       "      <td>0.605754</td>\n",
       "      <td>1.0</td>\n",
       "    </tr>\n",
       "    <tr>\n",
       "      <th>2021-09-29</th>\n",
       "      <td>1.511579</td>\n",
       "      <td>-1.243686</td>\n",
       "      <td>0.032998</td>\n",
       "      <td>0.138773</td>\n",
       "      <td>1.0</td>\n",
       "    </tr>\n",
       "    <tr>\n",
       "      <th>2021-09-30</th>\n",
       "      <td>-0.139589</td>\n",
       "      <td>0.199404</td>\n",
       "      <td>-0.468859</td>\n",
       "      <td>0.945935</td>\n",
       "      <td>NaN</td>\n",
       "    </tr>\n",
       "    <tr>\n",
       "      <th>2021-10-01</th>\n",
       "      <td>-0.970271</td>\n",
       "      <td>-1.065458</td>\n",
       "      <td>2.077879</td>\n",
       "      <td>-1.795373</td>\n",
       "      <td>NaN</td>\n",
       "    </tr>\n",
       "  </tbody>\n",
       "</table>\n",
       "</div>"
      ],
      "text/plain": [
       "                   A         B         C         D    E\n",
       "2021-09-28 -0.142189 -1.144978 -1.334426  0.605754  1.0\n",
       "2021-09-29  1.511579 -1.243686  0.032998  0.138773  1.0\n",
       "2021-09-30 -0.139589  0.199404 -0.468859  0.945935  NaN\n",
       "2021-10-01 -0.970271 -1.065458  2.077879 -1.795373  NaN"
      ]
     },
     "execution_count": 31,
     "metadata": {},
     "output_type": "execute_result"
    }
   ],
   "source": [
    "df2"
   ]
  },
  {
   "cell_type": "code",
   "execution_count": 32,
   "id": "3963b615",
   "metadata": {},
   "outputs": [
    {
     "data": {
      "text/html": [
       "<div>\n",
       "<style scoped>\n",
       "    .dataframe tbody tr th:only-of-type {\n",
       "        vertical-align: middle;\n",
       "    }\n",
       "\n",
       "    .dataframe tbody tr th {\n",
       "        vertical-align: top;\n",
       "    }\n",
       "\n",
       "    .dataframe thead th {\n",
       "        text-align: right;\n",
       "    }\n",
       "</style>\n",
       "<table border=\"1\" class=\"dataframe\">\n",
       "  <thead>\n",
       "    <tr style=\"text-align: right;\">\n",
       "      <th></th>\n",
       "      <th>A</th>\n",
       "      <th>B</th>\n",
       "      <th>C</th>\n",
       "      <th>D</th>\n",
       "      <th>E</th>\n",
       "    </tr>\n",
       "  </thead>\n",
       "  <tbody>\n",
       "    <tr>\n",
       "      <th>2021-09-28</th>\n",
       "      <td>-0.142189</td>\n",
       "      <td>-1.144978</td>\n",
       "      <td>-1.334426</td>\n",
       "      <td>0.605754</td>\n",
       "      <td>1.0</td>\n",
       "    </tr>\n",
       "    <tr>\n",
       "      <th>2021-09-29</th>\n",
       "      <td>1.511579</td>\n",
       "      <td>-1.243686</td>\n",
       "      <td>0.032998</td>\n",
       "      <td>0.138773</td>\n",
       "      <td>1.0</td>\n",
       "    </tr>\n",
       "  </tbody>\n",
       "</table>\n",
       "</div>"
      ],
      "text/plain": [
       "                   A         B         C         D    E\n",
       "2021-09-28 -0.142189 -1.144978 -1.334426  0.605754  1.0\n",
       "2021-09-29  1.511579 -1.243686  0.032998  0.138773  1.0"
      ]
     },
     "execution_count": 32,
     "metadata": {},
     "output_type": "execute_result"
    }
   ],
   "source": [
    "df2.dropna()"
   ]
  },
  {
   "cell_type": "code",
   "execution_count": 33,
   "id": "cc2a747b",
   "metadata": {},
   "outputs": [
    {
     "data": {
      "text/html": [
       "<div>\n",
       "<style scoped>\n",
       "    .dataframe tbody tr th:only-of-type {\n",
       "        vertical-align: middle;\n",
       "    }\n",
       "\n",
       "    .dataframe tbody tr th {\n",
       "        vertical-align: top;\n",
       "    }\n",
       "\n",
       "    .dataframe thead th {\n",
       "        text-align: right;\n",
       "    }\n",
       "</style>\n",
       "<table border=\"1\" class=\"dataframe\">\n",
       "  <thead>\n",
       "    <tr style=\"text-align: right;\">\n",
       "      <th></th>\n",
       "      <th>A</th>\n",
       "      <th>B</th>\n",
       "      <th>C</th>\n",
       "      <th>D</th>\n",
       "      <th>E</th>\n",
       "    </tr>\n",
       "  </thead>\n",
       "  <tbody>\n",
       "    <tr>\n",
       "      <th>2021-09-28</th>\n",
       "      <td>-0.142189</td>\n",
       "      <td>-1.144978</td>\n",
       "      <td>-1.334426</td>\n",
       "      <td>0.605754</td>\n",
       "      <td>1.0</td>\n",
       "    </tr>\n",
       "    <tr>\n",
       "      <th>2021-09-29</th>\n",
       "      <td>1.511579</td>\n",
       "      <td>-1.243686</td>\n",
       "      <td>0.032998</td>\n",
       "      <td>0.138773</td>\n",
       "      <td>1.0</td>\n",
       "    </tr>\n",
       "    <tr>\n",
       "      <th>2021-09-30</th>\n",
       "      <td>-0.139589</td>\n",
       "      <td>0.199404</td>\n",
       "      <td>-0.468859</td>\n",
       "      <td>0.945935</td>\n",
       "      <td>2.0</td>\n",
       "    </tr>\n",
       "    <tr>\n",
       "      <th>2021-10-01</th>\n",
       "      <td>-0.970271</td>\n",
       "      <td>-1.065458</td>\n",
       "      <td>2.077879</td>\n",
       "      <td>-1.795373</td>\n",
       "      <td>2.0</td>\n",
       "    </tr>\n",
       "  </tbody>\n",
       "</table>\n",
       "</div>"
      ],
      "text/plain": [
       "                   A         B         C         D    E\n",
       "2021-09-28 -0.142189 -1.144978 -1.334426  0.605754  1.0\n",
       "2021-09-29  1.511579 -1.243686  0.032998  0.138773  1.0\n",
       "2021-09-30 -0.139589  0.199404 -0.468859  0.945935  2.0\n",
       "2021-10-01 -0.970271 -1.065458  2.077879 -1.795373  2.0"
      ]
     },
     "execution_count": 33,
     "metadata": {},
     "output_type": "execute_result"
    }
   ],
   "source": [
    "df2.fillna(value=2)"
   ]
  },
  {
   "cell_type": "code",
   "execution_count": 34,
   "id": "166e2787",
   "metadata": {},
   "outputs": [
    {
     "data": {
      "text/plain": [
       "A    0.465536\n",
       "B   -0.233775\n",
       "C   -0.035141\n",
       "D    0.134431\n",
       "dtype: float64"
      ]
     },
     "execution_count": 34,
     "metadata": {},
     "output_type": "execute_result"
    }
   ],
   "source": [
    "\n",
    "df.mean()"
   ]
  },
  {
   "cell_type": "code",
   "execution_count": 35,
   "id": "7c52ee31",
   "metadata": {},
   "outputs": [
    {
     "data": {
      "text/plain": [
       "2021-09-28    NaN\n",
       "2021-09-29    NaN\n",
       "2021-09-30    1.0\n",
       "2021-10-01    2.0\n",
       "2021-10-02    3.0\n",
       "2021-10-03    NaN\n",
       "2021-10-04    4.0\n",
       "2021-10-05    5.0\n",
       "2021-10-06    6.0\n",
       "2021-10-07    7.0\n",
       "Freq: D, dtype: float64"
      ]
     },
     "execution_count": 35,
     "metadata": {},
     "output_type": "execute_result"
    }
   ],
   "source": [
    "\n",
    "s=pd.Series([1,2,3,np.nan,4,5,6,7,8,9],index=d).shift(2)\n",
    "s\n"
   ]
  },
  {
   "cell_type": "code",
   "execution_count": 36,
   "id": "4cc44893",
   "metadata": {},
   "outputs": [
    {
     "data": {
      "text/html": [
       "<div>\n",
       "<style scoped>\n",
       "    .dataframe tbody tr th:only-of-type {\n",
       "        vertical-align: middle;\n",
       "    }\n",
       "\n",
       "    .dataframe tbody tr th {\n",
       "        vertical-align: top;\n",
       "    }\n",
       "\n",
       "    .dataframe thead th {\n",
       "        text-align: right;\n",
       "    }\n",
       "</style>\n",
       "<table border=\"1\" class=\"dataframe\">\n",
       "  <thead>\n",
       "    <tr style=\"text-align: right;\">\n",
       "      <th></th>\n",
       "      <th>A</th>\n",
       "      <th>B</th>\n",
       "      <th>C</th>\n",
       "      <th>D</th>\n",
       "    </tr>\n",
       "  </thead>\n",
       "  <tbody>\n",
       "    <tr>\n",
       "      <th>2021-09-28</th>\n",
       "      <td>NaN</td>\n",
       "      <td>NaN</td>\n",
       "      <td>NaN</td>\n",
       "      <td>NaN</td>\n",
       "    </tr>\n",
       "    <tr>\n",
       "      <th>2021-09-29</th>\n",
       "      <td>NaN</td>\n",
       "      <td>NaN</td>\n",
       "      <td>NaN</td>\n",
       "      <td>NaN</td>\n",
       "    </tr>\n",
       "    <tr>\n",
       "      <th>2021-09-30</th>\n",
       "      <td>-1.139589</td>\n",
       "      <td>-0.800596</td>\n",
       "      <td>-1.468859</td>\n",
       "      <td>-0.054065</td>\n",
       "    </tr>\n",
       "    <tr>\n",
       "      <th>2021-10-01</th>\n",
       "      <td>-2.970271</td>\n",
       "      <td>-3.065458</td>\n",
       "      <td>0.077879</td>\n",
       "      <td>-3.795373</td>\n",
       "    </tr>\n",
       "    <tr>\n",
       "      <th>2021-10-02</th>\n",
       "      <td>-2.685488</td>\n",
       "      <td>-2.237133</td>\n",
       "      <td>-4.032447</td>\n",
       "      <td>-4.179826</td>\n",
       "    </tr>\n",
       "    <tr>\n",
       "      <th>2021-10-03</th>\n",
       "      <td>NaN</td>\n",
       "      <td>NaN</td>\n",
       "      <td>NaN</td>\n",
       "      <td>NaN</td>\n",
       "    </tr>\n",
       "    <tr>\n",
       "      <th>2021-10-04</th>\n",
       "      <td>-3.226377</td>\n",
       "      <td>-4.190251</td>\n",
       "      <td>-5.690923</td>\n",
       "      <td>-4.382938</td>\n",
       "    </tr>\n",
       "    <tr>\n",
       "      <th>2021-10-05</th>\n",
       "      <td>-3.903803</td>\n",
       "      <td>-5.646810</td>\n",
       "      <td>-5.532290</td>\n",
       "      <td>-5.179429</td>\n",
       "    </tr>\n",
       "    <tr>\n",
       "      <th>2021-10-06</th>\n",
       "      <td>-5.849513</td>\n",
       "      <td>-4.557054</td>\n",
       "      <td>-4.485374</td>\n",
       "      <td>-6.098387</td>\n",
       "    </tr>\n",
       "    <tr>\n",
       "      <th>2021-10-07</th>\n",
       "      <td>-5.594666</td>\n",
       "      <td>-7.597030</td>\n",
       "      <td>-7.113561</td>\n",
       "      <td>-4.808335</td>\n",
       "    </tr>\n",
       "  </tbody>\n",
       "</table>\n",
       "</div>"
      ],
      "text/plain": [
       "                   A         B         C         D\n",
       "2021-09-28       NaN       NaN       NaN       NaN\n",
       "2021-09-29       NaN       NaN       NaN       NaN\n",
       "2021-09-30 -1.139589 -0.800596 -1.468859 -0.054065\n",
       "2021-10-01 -2.970271 -3.065458  0.077879 -3.795373\n",
       "2021-10-02 -2.685488 -2.237133 -4.032447 -4.179826\n",
       "2021-10-03       NaN       NaN       NaN       NaN\n",
       "2021-10-04 -3.226377 -4.190251 -5.690923 -4.382938\n",
       "2021-10-05 -3.903803 -5.646810 -5.532290 -5.179429\n",
       "2021-10-06 -5.849513 -4.557054 -4.485374 -6.098387\n",
       "2021-10-07 -5.594666 -7.597030 -7.113561 -4.808335"
      ]
     },
     "execution_count": 36,
     "metadata": {},
     "output_type": "execute_result"
    }
   ],
   "source": [
    "df.sub(s, axis='index')"
   ]
  },
  {
   "cell_type": "code",
   "execution_count": 37,
   "id": "5693cef6",
   "metadata": {},
   "outputs": [
    {
     "data": {
      "text/html": [
       "<div>\n",
       "<style scoped>\n",
       "    .dataframe tbody tr th:only-of-type {\n",
       "        vertical-align: middle;\n",
       "    }\n",
       "\n",
       "    .dataframe tbody tr th {\n",
       "        vertical-align: top;\n",
       "    }\n",
       "\n",
       "    .dataframe thead th {\n",
       "        text-align: right;\n",
       "    }\n",
       "</style>\n",
       "<table border=\"1\" class=\"dataframe\">\n",
       "  <thead>\n",
       "    <tr style=\"text-align: right;\">\n",
       "      <th></th>\n",
       "      <th>A</th>\n",
       "      <th>B</th>\n",
       "      <th>C</th>\n",
       "      <th>D</th>\n",
       "    </tr>\n",
       "  </thead>\n",
       "  <tbody>\n",
       "    <tr>\n",
       "      <th>2021-09-28</th>\n",
       "      <td>-0.142189</td>\n",
       "      <td>-1.144978</td>\n",
       "      <td>-1.334426</td>\n",
       "      <td>0.605754</td>\n",
       "    </tr>\n",
       "    <tr>\n",
       "      <th>2021-09-29</th>\n",
       "      <td>1.511579</td>\n",
       "      <td>-1.243686</td>\n",
       "      <td>0.032998</td>\n",
       "      <td>0.138773</td>\n",
       "    </tr>\n",
       "    <tr>\n",
       "      <th>2021-09-30</th>\n",
       "      <td>-0.139589</td>\n",
       "      <td>0.199404</td>\n",
       "      <td>-0.468859</td>\n",
       "      <td>0.945935</td>\n",
       "    </tr>\n",
       "    <tr>\n",
       "      <th>2021-10-01</th>\n",
       "      <td>-0.970271</td>\n",
       "      <td>-1.065458</td>\n",
       "      <td>2.077879</td>\n",
       "      <td>-1.795373</td>\n",
       "    </tr>\n",
       "    <tr>\n",
       "      <th>2021-10-02</th>\n",
       "      <td>0.314512</td>\n",
       "      <td>0.762867</td>\n",
       "      <td>-1.032447</td>\n",
       "      <td>-1.179826</td>\n",
       "    </tr>\n",
       "    <tr>\n",
       "      <th>2021-10-03</th>\n",
       "      <td>0.655680</td>\n",
       "      <td>0.145244</td>\n",
       "      <td>1.195596</td>\n",
       "      <td>1.098136</td>\n",
       "    </tr>\n",
       "    <tr>\n",
       "      <th>2021-10-04</th>\n",
       "      <td>0.773623</td>\n",
       "      <td>-0.190251</td>\n",
       "      <td>-1.690923</td>\n",
       "      <td>-0.382938</td>\n",
       "    </tr>\n",
       "    <tr>\n",
       "      <th>2021-10-05</th>\n",
       "      <td>1.096197</td>\n",
       "      <td>-0.646810</td>\n",
       "      <td>-0.532290</td>\n",
       "      <td>-0.179429</td>\n",
       "    </tr>\n",
       "    <tr>\n",
       "      <th>2021-10-06</th>\n",
       "      <td>0.150487</td>\n",
       "      <td>1.442946</td>\n",
       "      <td>1.514626</td>\n",
       "      <td>-0.098387</td>\n",
       "    </tr>\n",
       "    <tr>\n",
       "      <th>2021-10-07</th>\n",
       "      <td>1.405334</td>\n",
       "      <td>-0.597030</td>\n",
       "      <td>-0.113561</td>\n",
       "      <td>2.191665</td>\n",
       "    </tr>\n",
       "  </tbody>\n",
       "</table>\n",
       "</div>"
      ],
      "text/plain": [
       "                   A         B         C         D\n",
       "2021-09-28 -0.142189 -1.144978 -1.334426  0.605754\n",
       "2021-09-29  1.511579 -1.243686  0.032998  0.138773\n",
       "2021-09-30 -0.139589  0.199404 -0.468859  0.945935\n",
       "2021-10-01 -0.970271 -1.065458  2.077879 -1.795373\n",
       "2021-10-02  0.314512  0.762867 -1.032447 -1.179826\n",
       "2021-10-03  0.655680  0.145244  1.195596  1.098136\n",
       "2021-10-04  0.773623 -0.190251 -1.690923 -0.382938\n",
       "2021-10-05  1.096197 -0.646810 -0.532290 -0.179429\n",
       "2021-10-06  0.150487  1.442946  1.514626 -0.098387\n",
       "2021-10-07  1.405334 -0.597030 -0.113561  2.191665"
      ]
     },
     "execution_count": 37,
     "metadata": {},
     "output_type": "execute_result"
    }
   ],
   "source": [
    "df"
   ]
  },
  {
   "cell_type": "code",
   "execution_count": 38,
   "id": "69822f10",
   "metadata": {},
   "outputs": [
    {
     "data": {
      "text/html": [
       "<div>\n",
       "<style scoped>\n",
       "    .dataframe tbody tr th:only-of-type {\n",
       "        vertical-align: middle;\n",
       "    }\n",
       "\n",
       "    .dataframe tbody tr th {\n",
       "        vertical-align: top;\n",
       "    }\n",
       "\n",
       "    .dataframe thead th {\n",
       "        text-align: right;\n",
       "    }\n",
       "</style>\n",
       "<table border=\"1\" class=\"dataframe\">\n",
       "  <thead>\n",
       "    <tr style=\"text-align: right;\">\n",
       "      <th></th>\n",
       "      <th>A</th>\n",
       "      <th>B</th>\n",
       "      <th>C</th>\n",
       "      <th>D</th>\n",
       "    </tr>\n",
       "  </thead>\n",
       "  <tbody>\n",
       "    <tr>\n",
       "      <th>2021-09-28</th>\n",
       "      <td>-0.142189</td>\n",
       "      <td>-1.144978</td>\n",
       "      <td>-1.334426</td>\n",
       "      <td>0.605754</td>\n",
       "    </tr>\n",
       "    <tr>\n",
       "      <th>2021-09-29</th>\n",
       "      <td>1.369390</td>\n",
       "      <td>-2.388665</td>\n",
       "      <td>-1.301428</td>\n",
       "      <td>0.744527</td>\n",
       "    </tr>\n",
       "    <tr>\n",
       "      <th>2021-09-30</th>\n",
       "      <td>1.229801</td>\n",
       "      <td>-2.189261</td>\n",
       "      <td>-1.770287</td>\n",
       "      <td>1.690462</td>\n",
       "    </tr>\n",
       "    <tr>\n",
       "      <th>2021-10-01</th>\n",
       "      <td>0.259530</td>\n",
       "      <td>-3.254719</td>\n",
       "      <td>0.307592</td>\n",
       "      <td>-0.104910</td>\n",
       "    </tr>\n",
       "    <tr>\n",
       "      <th>2021-10-02</th>\n",
       "      <td>0.574042</td>\n",
       "      <td>-2.491852</td>\n",
       "      <td>-0.724855</td>\n",
       "      <td>-1.284737</td>\n",
       "    </tr>\n",
       "    <tr>\n",
       "      <th>2021-10-03</th>\n",
       "      <td>1.229722</td>\n",
       "      <td>-2.346608</td>\n",
       "      <td>0.470741</td>\n",
       "      <td>-0.186601</td>\n",
       "    </tr>\n",
       "    <tr>\n",
       "      <th>2021-10-04</th>\n",
       "      <td>2.003345</td>\n",
       "      <td>-2.536859</td>\n",
       "      <td>-1.220182</td>\n",
       "      <td>-0.569540</td>\n",
       "    </tr>\n",
       "    <tr>\n",
       "      <th>2021-10-05</th>\n",
       "      <td>3.099541</td>\n",
       "      <td>-3.183669</td>\n",
       "      <td>-1.752472</td>\n",
       "      <td>-0.748969</td>\n",
       "    </tr>\n",
       "    <tr>\n",
       "      <th>2021-10-06</th>\n",
       "      <td>3.250028</td>\n",
       "      <td>-1.740723</td>\n",
       "      <td>-0.237846</td>\n",
       "      <td>-0.847356</td>\n",
       "    </tr>\n",
       "    <tr>\n",
       "      <th>2021-10-07</th>\n",
       "      <td>4.655362</td>\n",
       "      <td>-2.337753</td>\n",
       "      <td>-0.351406</td>\n",
       "      <td>1.344308</td>\n",
       "    </tr>\n",
       "  </tbody>\n",
       "</table>\n",
       "</div>"
      ],
      "text/plain": [
       "                   A         B         C         D\n",
       "2021-09-28 -0.142189 -1.144978 -1.334426  0.605754\n",
       "2021-09-29  1.369390 -2.388665 -1.301428  0.744527\n",
       "2021-09-30  1.229801 -2.189261 -1.770287  1.690462\n",
       "2021-10-01  0.259530 -3.254719  0.307592 -0.104910\n",
       "2021-10-02  0.574042 -2.491852 -0.724855 -1.284737\n",
       "2021-10-03  1.229722 -2.346608  0.470741 -0.186601\n",
       "2021-10-04  2.003345 -2.536859 -1.220182 -0.569540\n",
       "2021-10-05  3.099541 -3.183669 -1.752472 -0.748969\n",
       "2021-10-06  3.250028 -1.740723 -0.237846 -0.847356\n",
       "2021-10-07  4.655362 -2.337753 -0.351406  1.344308"
      ]
     },
     "execution_count": 38,
     "metadata": {},
     "output_type": "execute_result"
    }
   ],
   "source": [
    "df.apply(np.cumsum)"
   ]
  },
  {
   "cell_type": "code",
   "execution_count": 39,
   "id": "f4e40662",
   "metadata": {},
   "outputs": [
    {
     "data": {
      "text/plain": [
       "A   -0.970271\n",
       "B   -1.243686\n",
       "C   -1.690923\n",
       "D   -1.795373\n",
       "dtype: float64"
      ]
     },
     "execution_count": 39,
     "metadata": {},
     "output_type": "execute_result"
    }
   ],
   "source": [
    "df.apply(lambda x: x.min())"
   ]
  },
  {
   "cell_type": "code",
   "execution_count": 40,
   "id": "7b163309",
   "metadata": {},
   "outputs": [
    {
     "data": {
      "text/plain": [
       "<bound method IndexOpsMixin.value_counts of 2021-09-28    NaN\n",
       "2021-09-29    NaN\n",
       "2021-09-30    1.0\n",
       "2021-10-01    2.0\n",
       "2021-10-02    3.0\n",
       "2021-10-03    NaN\n",
       "2021-10-04    4.0\n",
       "2021-10-05    5.0\n",
       "2021-10-06    6.0\n",
       "2021-10-07    7.0\n",
       "Freq: D, dtype: float64>"
      ]
     },
     "execution_count": 40,
     "metadata": {},
     "output_type": "execute_result"
    }
   ],
   "source": [
    "s.value_counts"
   ]
  },
  {
   "cell_type": "code",
   "execution_count": 41,
   "id": "26c0990d",
   "metadata": {},
   "outputs": [
    {
     "data": {
      "text/plain": [
       "0     PANDAS\n",
       "1     PYTHON\n",
       "2    JUPITER\n",
       "3        NaN\n",
       "4       JAVA\n",
       "5      COLAB\n",
       "dtype: object"
      ]
     },
     "execution_count": 41,
     "metadata": {},
     "output_type": "execute_result"
    }
   ],
   "source": [
    "s=pd.Series(['pandas','python','jupiter',np.nan,'java','colab'])\n",
    "s.str.upper()"
   ]
  },
  {
   "cell_type": "code",
   "execution_count": 42,
   "id": "1086af27",
   "metadata": {},
   "outputs": [],
   "source": [
    "df=pd.DataFrame(np.random.randn(10,4))"
   ]
  },
  {
   "cell_type": "code",
   "execution_count": 43,
   "id": "582c479d",
   "metadata": {},
   "outputs": [
    {
     "data": {
      "text/html": [
       "<div>\n",
       "<style scoped>\n",
       "    .dataframe tbody tr th:only-of-type {\n",
       "        vertical-align: middle;\n",
       "    }\n",
       "\n",
       "    .dataframe tbody tr th {\n",
       "        vertical-align: top;\n",
       "    }\n",
       "\n",
       "    .dataframe thead th {\n",
       "        text-align: right;\n",
       "    }\n",
       "</style>\n",
       "<table border=\"1\" class=\"dataframe\">\n",
       "  <thead>\n",
       "    <tr style=\"text-align: right;\">\n",
       "      <th></th>\n",
       "      <th>0</th>\n",
       "      <th>1</th>\n",
       "      <th>2</th>\n",
       "      <th>3</th>\n",
       "    </tr>\n",
       "  </thead>\n",
       "  <tbody>\n",
       "    <tr>\n",
       "      <th>0</th>\n",
       "      <td>0.006948</td>\n",
       "      <td>0.898019</td>\n",
       "      <td>-1.670929</td>\n",
       "      <td>1.167987</td>\n",
       "    </tr>\n",
       "    <tr>\n",
       "      <th>1</th>\n",
       "      <td>0.615237</td>\n",
       "      <td>0.862022</td>\n",
       "      <td>0.758871</td>\n",
       "      <td>-0.868956</td>\n",
       "    </tr>\n",
       "    <tr>\n",
       "      <th>2</th>\n",
       "      <td>2.027637</td>\n",
       "      <td>-1.191758</td>\n",
       "      <td>-0.996979</td>\n",
       "      <td>-1.879270</td>\n",
       "    </tr>\n",
       "    <tr>\n",
       "      <th>3</th>\n",
       "      <td>-0.078633</td>\n",
       "      <td>0.848965</td>\n",
       "      <td>-1.744467</td>\n",
       "      <td>-0.712201</td>\n",
       "    </tr>\n",
       "    <tr>\n",
       "      <th>4</th>\n",
       "      <td>-1.548665</td>\n",
       "      <td>0.818901</td>\n",
       "      <td>-1.124137</td>\n",
       "      <td>1.231444</td>\n",
       "    </tr>\n",
       "    <tr>\n",
       "      <th>5</th>\n",
       "      <td>0.825040</td>\n",
       "      <td>0.248813</td>\n",
       "      <td>-0.376709</td>\n",
       "      <td>0.402020</td>\n",
       "    </tr>\n",
       "    <tr>\n",
       "      <th>6</th>\n",
       "      <td>-0.407881</td>\n",
       "      <td>1.764222</td>\n",
       "      <td>1.381600</td>\n",
       "      <td>0.523955</td>\n",
       "    </tr>\n",
       "    <tr>\n",
       "      <th>7</th>\n",
       "      <td>0.346814</td>\n",
       "      <td>0.619904</td>\n",
       "      <td>0.915781</td>\n",
       "      <td>0.291319</td>\n",
       "    </tr>\n",
       "    <tr>\n",
       "      <th>8</th>\n",
       "      <td>1.227742</td>\n",
       "      <td>0.628264</td>\n",
       "      <td>-1.326143</td>\n",
       "      <td>-0.661064</td>\n",
       "    </tr>\n",
       "    <tr>\n",
       "      <th>9</th>\n",
       "      <td>1.239500</td>\n",
       "      <td>0.989572</td>\n",
       "      <td>-1.179789</td>\n",
       "      <td>-0.945737</td>\n",
       "    </tr>\n",
       "  </tbody>\n",
       "</table>\n",
       "</div>"
      ],
      "text/plain": [
       "          0         1         2         3\n",
       "0  0.006948  0.898019 -1.670929  1.167987\n",
       "1  0.615237  0.862022  0.758871 -0.868956\n",
       "2  2.027637 -1.191758 -0.996979 -1.879270\n",
       "3 -0.078633  0.848965 -1.744467 -0.712201\n",
       "4 -1.548665  0.818901 -1.124137  1.231444\n",
       "5  0.825040  0.248813 -0.376709  0.402020\n",
       "6 -0.407881  1.764222  1.381600  0.523955\n",
       "7  0.346814  0.619904  0.915781  0.291319\n",
       "8  1.227742  0.628264 -1.326143 -0.661064\n",
       "9  1.239500  0.989572 -1.179789 -0.945737"
      ]
     },
     "execution_count": 43,
     "metadata": {},
     "output_type": "execute_result"
    }
   ],
   "source": [
    "df"
   ]
  },
  {
   "cell_type": "code",
   "execution_count": 44,
   "id": "e96bb871",
   "metadata": {},
   "outputs": [],
   "source": [
    "df2=[df[:3],df[3:7],df[7:]]"
   ]
  },
  {
   "cell_type": "code",
   "execution_count": 45,
   "id": "28407b12",
   "metadata": {
    "scrolled": true
   },
   "outputs": [
    {
     "data": {
      "text/plain": [
       "[          0         1         2         3\n",
       " 0  0.006948  0.898019 -1.670929  1.167987\n",
       " 1  0.615237  0.862022  0.758871 -0.868956\n",
       " 2  2.027637 -1.191758 -0.996979 -1.879270,\n",
       "           0         1         2         3\n",
       " 3 -0.078633  0.848965 -1.744467 -0.712201\n",
       " 4 -1.548665  0.818901 -1.124137  1.231444\n",
       " 5  0.825040  0.248813 -0.376709  0.402020\n",
       " 6 -0.407881  1.764222  1.381600  0.523955,\n",
       "           0         1         2         3\n",
       " 7  0.346814  0.619904  0.915781  0.291319\n",
       " 8  1.227742  0.628264 -1.326143 -0.661064\n",
       " 9  1.239500  0.989572 -1.179789 -0.945737]"
      ]
     },
     "execution_count": 45,
     "metadata": {},
     "output_type": "execute_result"
    }
   ],
   "source": [
    "df2"
   ]
  },
  {
   "cell_type": "code",
   "execution_count": 46,
   "id": "3d337d29",
   "metadata": {},
   "outputs": [
    {
     "data": {
      "text/html": [
       "<div>\n",
       "<style scoped>\n",
       "    .dataframe tbody tr th:only-of-type {\n",
       "        vertical-align: middle;\n",
       "    }\n",
       "\n",
       "    .dataframe tbody tr th {\n",
       "        vertical-align: top;\n",
       "    }\n",
       "\n",
       "    .dataframe thead th {\n",
       "        text-align: right;\n",
       "    }\n",
       "</style>\n",
       "<table border=\"1\" class=\"dataframe\">\n",
       "  <thead>\n",
       "    <tr style=\"text-align: right;\">\n",
       "      <th></th>\n",
       "      <th>0</th>\n",
       "      <th>1</th>\n",
       "      <th>2</th>\n",
       "      <th>3</th>\n",
       "    </tr>\n",
       "  </thead>\n",
       "  <tbody>\n",
       "    <tr>\n",
       "      <th>0</th>\n",
       "      <td>0.006948</td>\n",
       "      <td>0.898019</td>\n",
       "      <td>-1.670929</td>\n",
       "      <td>1.167987</td>\n",
       "    </tr>\n",
       "    <tr>\n",
       "      <th>1</th>\n",
       "      <td>0.615237</td>\n",
       "      <td>0.862022</td>\n",
       "      <td>0.758871</td>\n",
       "      <td>-0.868956</td>\n",
       "    </tr>\n",
       "    <tr>\n",
       "      <th>2</th>\n",
       "      <td>2.027637</td>\n",
       "      <td>-1.191758</td>\n",
       "      <td>-0.996979</td>\n",
       "      <td>-1.879270</td>\n",
       "    </tr>\n",
       "    <tr>\n",
       "      <th>3</th>\n",
       "      <td>-0.078633</td>\n",
       "      <td>0.848965</td>\n",
       "      <td>-1.744467</td>\n",
       "      <td>-0.712201</td>\n",
       "    </tr>\n",
       "    <tr>\n",
       "      <th>4</th>\n",
       "      <td>-1.548665</td>\n",
       "      <td>0.818901</td>\n",
       "      <td>-1.124137</td>\n",
       "      <td>1.231444</td>\n",
       "    </tr>\n",
       "    <tr>\n",
       "      <th>5</th>\n",
       "      <td>0.825040</td>\n",
       "      <td>0.248813</td>\n",
       "      <td>-0.376709</td>\n",
       "      <td>0.402020</td>\n",
       "    </tr>\n",
       "    <tr>\n",
       "      <th>6</th>\n",
       "      <td>-0.407881</td>\n",
       "      <td>1.764222</td>\n",
       "      <td>1.381600</td>\n",
       "      <td>0.523955</td>\n",
       "    </tr>\n",
       "    <tr>\n",
       "      <th>7</th>\n",
       "      <td>0.346814</td>\n",
       "      <td>0.619904</td>\n",
       "      <td>0.915781</td>\n",
       "      <td>0.291319</td>\n",
       "    </tr>\n",
       "    <tr>\n",
       "      <th>8</th>\n",
       "      <td>1.227742</td>\n",
       "      <td>0.628264</td>\n",
       "      <td>-1.326143</td>\n",
       "      <td>-0.661064</td>\n",
       "    </tr>\n",
       "    <tr>\n",
       "      <th>9</th>\n",
       "      <td>1.239500</td>\n",
       "      <td>0.989572</td>\n",
       "      <td>-1.179789</td>\n",
       "      <td>-0.945737</td>\n",
       "    </tr>\n",
       "  </tbody>\n",
       "</table>\n",
       "</div>"
      ],
      "text/plain": [
       "          0         1         2         3\n",
       "0  0.006948  0.898019 -1.670929  1.167987\n",
       "1  0.615237  0.862022  0.758871 -0.868956\n",
       "2  2.027637 -1.191758 -0.996979 -1.879270\n",
       "3 -0.078633  0.848965 -1.744467 -0.712201\n",
       "4 -1.548665  0.818901 -1.124137  1.231444\n",
       "5  0.825040  0.248813 -0.376709  0.402020\n",
       "6 -0.407881  1.764222  1.381600  0.523955\n",
       "7  0.346814  0.619904  0.915781  0.291319\n",
       "8  1.227742  0.628264 -1.326143 -0.661064\n",
       "9  1.239500  0.989572 -1.179789 -0.945737"
      ]
     },
     "execution_count": 46,
     "metadata": {},
     "output_type": "execute_result"
    }
   ],
   "source": [
    "\n",
    "pd.concat(df2)"
   ]
  },
  {
   "cell_type": "code",
   "execution_count": 47,
   "id": "e7838260",
   "metadata": {},
   "outputs": [],
   "source": [
    "#left joining\n",
    "left=pd.DataFrame({'A':[1,2],'B':[3,4]})"
   ]
  },
  {
   "cell_type": "code",
   "execution_count": 48,
   "id": "24c549da",
   "metadata": {},
   "outputs": [
    {
     "data": {
      "text/html": [
       "<div>\n",
       "<style scoped>\n",
       "    .dataframe tbody tr th:only-of-type {\n",
       "        vertical-align: middle;\n",
       "    }\n",
       "\n",
       "    .dataframe tbody tr th {\n",
       "        vertical-align: top;\n",
       "    }\n",
       "\n",
       "    .dataframe thead th {\n",
       "        text-align: right;\n",
       "    }\n",
       "</style>\n",
       "<table border=\"1\" class=\"dataframe\">\n",
       "  <thead>\n",
       "    <tr style=\"text-align: right;\">\n",
       "      <th></th>\n",
       "      <th>A</th>\n",
       "      <th>B</th>\n",
       "    </tr>\n",
       "  </thead>\n",
       "  <tbody>\n",
       "    <tr>\n",
       "      <th>0</th>\n",
       "      <td>1</td>\n",
       "      <td>3</td>\n",
       "    </tr>\n",
       "    <tr>\n",
       "      <th>1</th>\n",
       "      <td>2</td>\n",
       "      <td>4</td>\n",
       "    </tr>\n",
       "  </tbody>\n",
       "</table>\n",
       "</div>"
      ],
      "text/plain": [
       "   A  B\n",
       "0  1  3\n",
       "1  2  4"
      ]
     },
     "execution_count": 48,
     "metadata": {},
     "output_type": "execute_result"
    }
   ],
   "source": [
    "left"
   ]
  },
  {
   "cell_type": "code",
   "execution_count": 49,
   "id": "b7c7a31e",
   "metadata": {},
   "outputs": [],
   "source": [
    "right=pd.DataFrame({'A':[3,2],'D':[4,5]})"
   ]
  },
  {
   "cell_type": "code",
   "execution_count": 50,
   "id": "646eb3eb",
   "metadata": {},
   "outputs": [
    {
     "data": {
      "text/html": [
       "<div>\n",
       "<style scoped>\n",
       "    .dataframe tbody tr th:only-of-type {\n",
       "        vertical-align: middle;\n",
       "    }\n",
       "\n",
       "    .dataframe tbody tr th {\n",
       "        vertical-align: top;\n",
       "    }\n",
       "\n",
       "    .dataframe thead th {\n",
       "        text-align: right;\n",
       "    }\n",
       "</style>\n",
       "<table border=\"1\" class=\"dataframe\">\n",
       "  <thead>\n",
       "    <tr style=\"text-align: right;\">\n",
       "      <th></th>\n",
       "      <th>A</th>\n",
       "      <th>D</th>\n",
       "    </tr>\n",
       "  </thead>\n",
       "  <tbody>\n",
       "    <tr>\n",
       "      <th>0</th>\n",
       "      <td>3</td>\n",
       "      <td>4</td>\n",
       "    </tr>\n",
       "    <tr>\n",
       "      <th>1</th>\n",
       "      <td>2</td>\n",
       "      <td>5</td>\n",
       "    </tr>\n",
       "  </tbody>\n",
       "</table>\n",
       "</div>"
      ],
      "text/plain": [
       "   A  D\n",
       "0  3  4\n",
       "1  2  5"
      ]
     },
     "execution_count": 50,
     "metadata": {},
     "output_type": "execute_result"
    }
   ],
   "source": [
    "right"
   ]
  },
  {
   "cell_type": "code",
   "execution_count": 51,
   "id": "af5a76f4",
   "metadata": {},
   "outputs": [
    {
     "data": {
      "text/html": [
       "<div>\n",
       "<style scoped>\n",
       "    .dataframe tbody tr th:only-of-type {\n",
       "        vertical-align: middle;\n",
       "    }\n",
       "\n",
       "    .dataframe tbody tr th {\n",
       "        vertical-align: top;\n",
       "    }\n",
       "\n",
       "    .dataframe thead th {\n",
       "        text-align: right;\n",
       "    }\n",
       "</style>\n",
       "<table border=\"1\" class=\"dataframe\">\n",
       "  <thead>\n",
       "    <tr style=\"text-align: right;\">\n",
       "      <th></th>\n",
       "      <th>A</th>\n",
       "      <th>B</th>\n",
       "      <th>D</th>\n",
       "    </tr>\n",
       "  </thead>\n",
       "  <tbody>\n",
       "    <tr>\n",
       "      <th>0</th>\n",
       "      <td>2</td>\n",
       "      <td>4</td>\n",
       "      <td>5</td>\n",
       "    </tr>\n",
       "  </tbody>\n",
       "</table>\n",
       "</div>"
      ],
      "text/plain": [
       "   A  B  D\n",
       "0  2  4  5"
      ]
     },
     "execution_count": 51,
     "metadata": {},
     "output_type": "execute_result"
    }
   ],
   "source": [
    "pd.merge(left,right,on='A')\n"
   ]
  },
  {
   "cell_type": "code",
   "execution_count": 52,
   "id": "edd1ced7",
   "metadata": {},
   "outputs": [
    {
     "data": {
      "text/html": [
       "<div>\n",
       "<style scoped>\n",
       "    .dataframe tbody tr th:only-of-type {\n",
       "        vertical-align: middle;\n",
       "    }\n",
       "\n",
       "    .dataframe tbody tr th {\n",
       "        vertical-align: top;\n",
       "    }\n",
       "\n",
       "    .dataframe thead th {\n",
       "        text-align: right;\n",
       "    }\n",
       "</style>\n",
       "<table border=\"1\" class=\"dataframe\">\n",
       "  <thead>\n",
       "    <tr style=\"text-align: right;\">\n",
       "      <th></th>\n",
       "      <th></th>\n",
       "      <th>0</th>\n",
       "      <th>1</th>\n",
       "    </tr>\n",
       "    <tr>\n",
       "      <th>2</th>\n",
       "      <th>3</th>\n",
       "      <th></th>\n",
       "      <th></th>\n",
       "    </tr>\n",
       "  </thead>\n",
       "  <tbody>\n",
       "    <tr>\n",
       "      <th>-1.744467</th>\n",
       "      <th>-0.712201</th>\n",
       "      <td>-0.078633</td>\n",
       "      <td>0.848965</td>\n",
       "    </tr>\n",
       "    <tr>\n",
       "      <th>-1.670929</th>\n",
       "      <th>1.167987</th>\n",
       "      <td>0.006948</td>\n",
       "      <td>0.898019</td>\n",
       "    </tr>\n",
       "    <tr>\n",
       "      <th>-1.326143</th>\n",
       "      <th>-0.661064</th>\n",
       "      <td>1.227742</td>\n",
       "      <td>0.628264</td>\n",
       "    </tr>\n",
       "    <tr>\n",
       "      <th>-1.179789</th>\n",
       "      <th>-0.945737</th>\n",
       "      <td>1.239500</td>\n",
       "      <td>0.989572</td>\n",
       "    </tr>\n",
       "    <tr>\n",
       "      <th>-1.124137</th>\n",
       "      <th>1.231444</th>\n",
       "      <td>-1.548665</td>\n",
       "      <td>0.818901</td>\n",
       "    </tr>\n",
       "    <tr>\n",
       "      <th>-0.996979</th>\n",
       "      <th>-1.879270</th>\n",
       "      <td>2.027637</td>\n",
       "      <td>-1.191758</td>\n",
       "    </tr>\n",
       "    <tr>\n",
       "      <th>-0.376709</th>\n",
       "      <th>0.402020</th>\n",
       "      <td>0.825040</td>\n",
       "      <td>0.248813</td>\n",
       "    </tr>\n",
       "    <tr>\n",
       "      <th>0.758871</th>\n",
       "      <th>-0.868956</th>\n",
       "      <td>0.615237</td>\n",
       "      <td>0.862022</td>\n",
       "    </tr>\n",
       "    <tr>\n",
       "      <th>0.915781</th>\n",
       "      <th>0.291319</th>\n",
       "      <td>0.346814</td>\n",
       "      <td>0.619904</td>\n",
       "    </tr>\n",
       "    <tr>\n",
       "      <th>1.381600</th>\n",
       "      <th>0.523955</th>\n",
       "      <td>-0.407881</td>\n",
       "      <td>1.764222</td>\n",
       "    </tr>\n",
       "  </tbody>\n",
       "</table>\n",
       "</div>"
      ],
      "text/plain": [
       "                            0         1\n",
       "2         3                            \n",
       "-1.744467 -0.712201 -0.078633  0.848965\n",
       "-1.670929  1.167987  0.006948  0.898019\n",
       "-1.326143 -0.661064  1.227742  0.628264\n",
       "-1.179789 -0.945737  1.239500  0.989572\n",
       "-1.124137  1.231444 -1.548665  0.818901\n",
       "-0.996979 -1.879270  2.027637 -1.191758\n",
       "-0.376709  0.402020  0.825040  0.248813\n",
       " 0.758871 -0.868956  0.615237  0.862022\n",
       " 0.915781  0.291319  0.346814  0.619904\n",
       " 1.381600  0.523955 -0.407881  1.764222"
      ]
     },
     "execution_count": 52,
     "metadata": {},
     "output_type": "execute_result"
    }
   ],
   "source": [
    "df.groupby([2,3]).sum()"
   ]
  },
  {
   "cell_type": "code",
   "execution_count": 53,
   "id": "948da7cc",
   "metadata": {},
   "outputs": [
    {
     "data": {
      "text/html": [
       "<div>\n",
       "<style scoped>\n",
       "    .dataframe tbody tr th:only-of-type {\n",
       "        vertical-align: middle;\n",
       "    }\n",
       "\n",
       "    .dataframe tbody tr th {\n",
       "        vertical-align: top;\n",
       "    }\n",
       "\n",
       "    .dataframe thead th {\n",
       "        text-align: right;\n",
       "    }\n",
       "</style>\n",
       "<table border=\"1\" class=\"dataframe\">\n",
       "  <thead>\n",
       "    <tr style=\"text-align: right;\">\n",
       "      <th></th>\n",
       "      <th></th>\n",
       "      <th>A</th>\n",
       "      <th>B</th>\n",
       "    </tr>\n",
       "    <tr>\n",
       "      <th>first</th>\n",
       "      <th>Second</th>\n",
       "      <th></th>\n",
       "      <th></th>\n",
       "    </tr>\n",
       "  </thead>\n",
       "  <tbody>\n",
       "    <tr>\n",
       "      <th>1</th>\n",
       "      <th>11</th>\n",
       "      <td>-0.549282</td>\n",
       "      <td>1.446457</td>\n",
       "    </tr>\n",
       "    <tr>\n",
       "      <th>2</th>\n",
       "      <th>12</th>\n",
       "      <td>-1.179000</td>\n",
       "      <td>3.071704</td>\n",
       "    </tr>\n",
       "  </tbody>\n",
       "</table>\n",
       "</div>"
      ],
      "text/plain": [
       "                     A         B\n",
       "first Second                    \n",
       "1     11     -0.549282  1.446457\n",
       "2     12     -1.179000  3.071704"
      ]
     },
     "execution_count": 53,
     "metadata": {},
     "output_type": "execute_result"
    }
   ],
   "source": [
    "\n",
    "my_tuple=list(zip(*[[1,2,3,4,5,17,18,19],[11,12,13,6,7,8,9,10]])) #zip function to use the 2 list can concatinate to\n",
    "index=pd.MultiIndex.from_tuples(my_tuple,names=['first','Second']) #multiindex used to 2 index\n",
    "df=pd.DataFrame(np.random.randn(8,2),index=index,columns=['A','B'])\n",
    "df2=df[:2]\n",
    "df2"
   ]
  },
  {
   "cell_type": "code",
   "execution_count": 54,
   "id": "316bb270",
   "metadata": {},
   "outputs": [
    {
     "data": {
      "text/plain": [
       "first  Second   \n",
       "1      11      A   -0.549282\n",
       "               B    1.446457\n",
       "2      12      A   -1.179000\n",
       "               B    3.071704\n",
       "dtype: float64"
      ]
     },
     "execution_count": 54,
     "metadata": {},
     "output_type": "execute_result"
    }
   ],
   "source": [
    "df2.stack()\n",
    "\n",
    "#arrange the datas in a order"
   ]
  },
  {
   "cell_type": "code",
   "execution_count": 55,
   "id": "92bddb14",
   "metadata": {},
   "outputs": [
    {
     "data": {
      "text/html": [
       "<div>\n",
       "<style scoped>\n",
       "    .dataframe tbody tr th:only-of-type {\n",
       "        vertical-align: middle;\n",
       "    }\n",
       "\n",
       "    .dataframe tbody tr th {\n",
       "        vertical-align: top;\n",
       "    }\n",
       "\n",
       "    .dataframe thead tr th {\n",
       "        text-align: left;\n",
       "    }\n",
       "\n",
       "    .dataframe thead tr:last-of-type th {\n",
       "        text-align: right;\n",
       "    }\n",
       "</style>\n",
       "<table border=\"1\" class=\"dataframe\">\n",
       "  <thead>\n",
       "    <tr>\n",
       "      <th></th>\n",
       "      <th colspan=\"2\" halign=\"left\">A</th>\n",
       "      <th colspan=\"2\" halign=\"left\">B</th>\n",
       "    </tr>\n",
       "    <tr>\n",
       "      <th>Second</th>\n",
       "      <th>11</th>\n",
       "      <th>12</th>\n",
       "      <th>11</th>\n",
       "      <th>12</th>\n",
       "    </tr>\n",
       "    <tr>\n",
       "      <th>first</th>\n",
       "      <th></th>\n",
       "      <th></th>\n",
       "      <th></th>\n",
       "      <th></th>\n",
       "    </tr>\n",
       "  </thead>\n",
       "  <tbody>\n",
       "    <tr>\n",
       "      <th>1</th>\n",
       "      <td>-0.549282</td>\n",
       "      <td>NaN</td>\n",
       "      <td>1.446457</td>\n",
       "      <td>NaN</td>\n",
       "    </tr>\n",
       "    <tr>\n",
       "      <th>2</th>\n",
       "      <td>NaN</td>\n",
       "      <td>-1.179</td>\n",
       "      <td>NaN</td>\n",
       "      <td>3.071704</td>\n",
       "    </tr>\n",
       "  </tbody>\n",
       "</table>\n",
       "</div>"
      ],
      "text/plain": [
       "               A                B          \n",
       "Second        11     12        11        12\n",
       "first                                      \n",
       "1      -0.549282    NaN  1.446457       NaN\n",
       "2            NaN -1.179       NaN  3.071704"
      ]
     },
     "execution_count": 55,
     "metadata": {},
     "output_type": "execute_result"
    }
   ],
   "source": [
    "#un arrainge the datas in \n",
    "df2.unstack()"
   ]
  },
  {
   "cell_type": "code",
   "execution_count": 56,
   "id": "9eea6693",
   "metadata": {},
   "outputs": [],
   "source": [
    "df=pd.DataFrame({'A':['a','b','c','d']*3,\n",
    "                'B':['A','B','C']*4,\n",
    "                'C':['P','P','P','Q','Q','Q']*2,\n",
    "                'D':np.random.randn(12),\n",
    "                'E':np.random.randn(12)})"
   ]
  },
  {
   "cell_type": "code",
   "execution_count": 57,
   "id": "240355dd",
   "metadata": {},
   "outputs": [
    {
     "data": {
      "text/html": [
       "<div>\n",
       "<style scoped>\n",
       "    .dataframe tbody tr th:only-of-type {\n",
       "        vertical-align: middle;\n",
       "    }\n",
       "\n",
       "    .dataframe tbody tr th {\n",
       "        vertical-align: top;\n",
       "    }\n",
       "\n",
       "    .dataframe thead th {\n",
       "        text-align: right;\n",
       "    }\n",
       "</style>\n",
       "<table border=\"1\" class=\"dataframe\">\n",
       "  <thead>\n",
       "    <tr style=\"text-align: right;\">\n",
       "      <th></th>\n",
       "      <th>A</th>\n",
       "      <th>B</th>\n",
       "      <th>C</th>\n",
       "      <th>D</th>\n",
       "      <th>E</th>\n",
       "    </tr>\n",
       "  </thead>\n",
       "  <tbody>\n",
       "    <tr>\n",
       "      <th>0</th>\n",
       "      <td>a</td>\n",
       "      <td>A</td>\n",
       "      <td>P</td>\n",
       "      <td>-1.332311</td>\n",
       "      <td>1.353528</td>\n",
       "    </tr>\n",
       "    <tr>\n",
       "      <th>1</th>\n",
       "      <td>b</td>\n",
       "      <td>B</td>\n",
       "      <td>P</td>\n",
       "      <td>1.314444</td>\n",
       "      <td>0.374620</td>\n",
       "    </tr>\n",
       "    <tr>\n",
       "      <th>2</th>\n",
       "      <td>c</td>\n",
       "      <td>C</td>\n",
       "      <td>P</td>\n",
       "      <td>-0.990116</td>\n",
       "      <td>-1.381436</td>\n",
       "    </tr>\n",
       "    <tr>\n",
       "      <th>3</th>\n",
       "      <td>d</td>\n",
       "      <td>A</td>\n",
       "      <td>Q</td>\n",
       "      <td>-2.053025</td>\n",
       "      <td>1.026497</td>\n",
       "    </tr>\n",
       "    <tr>\n",
       "      <th>4</th>\n",
       "      <td>a</td>\n",
       "      <td>B</td>\n",
       "      <td>Q</td>\n",
       "      <td>1.595951</td>\n",
       "      <td>1.911452</td>\n",
       "    </tr>\n",
       "    <tr>\n",
       "      <th>5</th>\n",
       "      <td>b</td>\n",
       "      <td>C</td>\n",
       "      <td>Q</td>\n",
       "      <td>-0.157243</td>\n",
       "      <td>0.251482</td>\n",
       "    </tr>\n",
       "    <tr>\n",
       "      <th>6</th>\n",
       "      <td>c</td>\n",
       "      <td>A</td>\n",
       "      <td>P</td>\n",
       "      <td>0.114572</td>\n",
       "      <td>-0.185861</td>\n",
       "    </tr>\n",
       "    <tr>\n",
       "      <th>7</th>\n",
       "      <td>d</td>\n",
       "      <td>B</td>\n",
       "      <td>P</td>\n",
       "      <td>-0.379716</td>\n",
       "      <td>1.425904</td>\n",
       "    </tr>\n",
       "    <tr>\n",
       "      <th>8</th>\n",
       "      <td>a</td>\n",
       "      <td>C</td>\n",
       "      <td>P</td>\n",
       "      <td>0.490715</td>\n",
       "      <td>0.971821</td>\n",
       "    </tr>\n",
       "    <tr>\n",
       "      <th>9</th>\n",
       "      <td>b</td>\n",
       "      <td>A</td>\n",
       "      <td>Q</td>\n",
       "      <td>-0.727196</td>\n",
       "      <td>-0.560716</td>\n",
       "    </tr>\n",
       "    <tr>\n",
       "      <th>10</th>\n",
       "      <td>c</td>\n",
       "      <td>B</td>\n",
       "      <td>Q</td>\n",
       "      <td>-0.455231</td>\n",
       "      <td>0.735347</td>\n",
       "    </tr>\n",
       "    <tr>\n",
       "      <th>11</th>\n",
       "      <td>d</td>\n",
       "      <td>C</td>\n",
       "      <td>Q</td>\n",
       "      <td>0.338514</td>\n",
       "      <td>0.113870</td>\n",
       "    </tr>\n",
       "  </tbody>\n",
       "</table>\n",
       "</div>"
      ],
      "text/plain": [
       "    A  B  C         D         E\n",
       "0   a  A  P -1.332311  1.353528\n",
       "1   b  B  P  1.314444  0.374620\n",
       "2   c  C  P -0.990116 -1.381436\n",
       "3   d  A  Q -2.053025  1.026497\n",
       "4   a  B  Q  1.595951  1.911452\n",
       "5   b  C  Q -0.157243  0.251482\n",
       "6   c  A  P  0.114572 -0.185861\n",
       "7   d  B  P -0.379716  1.425904\n",
       "8   a  C  P  0.490715  0.971821\n",
       "9   b  A  Q -0.727196 -0.560716\n",
       "10  c  B  Q -0.455231  0.735347\n",
       "11  d  C  Q  0.338514  0.113870"
      ]
     },
     "execution_count": 57,
     "metadata": {},
     "output_type": "execute_result"
    }
   ],
   "source": [
    "df"
   ]
  },
  {
   "cell_type": "code",
   "execution_count": 58,
   "id": "84fdaa9c",
   "metadata": {},
   "outputs": [
    {
     "data": {
      "text/html": [
       "<div>\n",
       "<style scoped>\n",
       "    .dataframe tbody tr th:only-of-type {\n",
       "        vertical-align: middle;\n",
       "    }\n",
       "\n",
       "    .dataframe tbody tr th {\n",
       "        vertical-align: top;\n",
       "    }\n",
       "\n",
       "    .dataframe thead th {\n",
       "        text-align: right;\n",
       "    }\n",
       "</style>\n",
       "<table border=\"1\" class=\"dataframe\">\n",
       "  <thead>\n",
       "    <tr style=\"text-align: right;\">\n",
       "      <th></th>\n",
       "      <th>C</th>\n",
       "      <th>P</th>\n",
       "      <th>Q</th>\n",
       "    </tr>\n",
       "    <tr>\n",
       "      <th>A</th>\n",
       "      <th>B</th>\n",
       "      <th></th>\n",
       "      <th></th>\n",
       "    </tr>\n",
       "  </thead>\n",
       "  <tbody>\n",
       "    <tr>\n",
       "      <th rowspan=\"3\" valign=\"top\">a</th>\n",
       "      <th>A</th>\n",
       "      <td>-1.332311</td>\n",
       "      <td>NaN</td>\n",
       "    </tr>\n",
       "    <tr>\n",
       "      <th>B</th>\n",
       "      <td>NaN</td>\n",
       "      <td>1.595951</td>\n",
       "    </tr>\n",
       "    <tr>\n",
       "      <th>C</th>\n",
       "      <td>0.490715</td>\n",
       "      <td>NaN</td>\n",
       "    </tr>\n",
       "    <tr>\n",
       "      <th rowspan=\"3\" valign=\"top\">b</th>\n",
       "      <th>A</th>\n",
       "      <td>NaN</td>\n",
       "      <td>-0.727196</td>\n",
       "    </tr>\n",
       "    <tr>\n",
       "      <th>B</th>\n",
       "      <td>1.314444</td>\n",
       "      <td>NaN</td>\n",
       "    </tr>\n",
       "    <tr>\n",
       "      <th>C</th>\n",
       "      <td>NaN</td>\n",
       "      <td>-0.157243</td>\n",
       "    </tr>\n",
       "    <tr>\n",
       "      <th rowspan=\"3\" valign=\"top\">c</th>\n",
       "      <th>A</th>\n",
       "      <td>0.114572</td>\n",
       "      <td>NaN</td>\n",
       "    </tr>\n",
       "    <tr>\n",
       "      <th>B</th>\n",
       "      <td>NaN</td>\n",
       "      <td>-0.455231</td>\n",
       "    </tr>\n",
       "    <tr>\n",
       "      <th>C</th>\n",
       "      <td>-0.990116</td>\n",
       "      <td>NaN</td>\n",
       "    </tr>\n",
       "    <tr>\n",
       "      <th rowspan=\"3\" valign=\"top\">d</th>\n",
       "      <th>A</th>\n",
       "      <td>NaN</td>\n",
       "      <td>-2.053025</td>\n",
       "    </tr>\n",
       "    <tr>\n",
       "      <th>B</th>\n",
       "      <td>-0.379716</td>\n",
       "      <td>NaN</td>\n",
       "    </tr>\n",
       "    <tr>\n",
       "      <th>C</th>\n",
       "      <td>NaN</td>\n",
       "      <td>0.338514</td>\n",
       "    </tr>\n",
       "  </tbody>\n",
       "</table>\n",
       "</div>"
      ],
      "text/plain": [
       "C           P         Q\n",
       "A B                    \n",
       "a A -1.332311       NaN\n",
       "  B       NaN  1.595951\n",
       "  C  0.490715       NaN\n",
       "b A       NaN -0.727196\n",
       "  B  1.314444       NaN\n",
       "  C       NaN -0.157243\n",
       "c A  0.114572       NaN\n",
       "  B       NaN -0.455231\n",
       "  C -0.990116       NaN\n",
       "d A       NaN -2.053025\n",
       "  B -0.379716       NaN\n",
       "  C       NaN  0.338514"
      ]
     },
     "execution_count": 58,
     "metadata": {},
     "output_type": "execute_result"
    }
   ],
   "source": [
    "pd.pivot_table(df,values='D',index=['A','B'],columns=['C'])\n",
    "\n",
    "#"
   ]
  },
  {
   "cell_type": "code",
   "execution_count": 59,
   "id": "a77a0ac6",
   "metadata": {},
   "outputs": [
    {
     "data": {
      "text/plain": [
       "DatetimeIndex(['2021-09-30 00:00:00', '2021-09-30 00:00:01',\n",
       "               '2021-09-30 00:00:02', '2021-09-30 00:00:03',\n",
       "               '2021-09-30 00:00:04'],\n",
       "              dtype='datetime64[ns]', freq='S')"
      ]
     },
     "execution_count": 59,
     "metadata": {},
     "output_type": "execute_result"
    }
   ],
   "source": [
    "\n",
    "dates=pd.date_range('30/09/2021, 00:00',periods=5,freq='S')\n",
    "dates\n"
   ]
  },
  {
   "cell_type": "code",
   "execution_count": 60,
   "id": "567c6bdd",
   "metadata": {},
   "outputs": [],
   "source": [
    "ts=pd.Series(np.random.randint(len(dates)),dates)"
   ]
  },
  {
   "cell_type": "code",
   "execution_count": 61,
   "id": "21e2b7ed",
   "metadata": {},
   "outputs": [
    {
     "data": {
      "text/plain": [
       "2021-09-30 00:00:00    3\n",
       "2021-09-30 00:00:01    3\n",
       "2021-09-30 00:00:02    3\n",
       "2021-09-30 00:00:03    3\n",
       "2021-09-30 00:00:04    3\n",
       "Freq: S, dtype: int64"
      ]
     },
     "execution_count": 61,
     "metadata": {},
     "output_type": "execute_result"
    }
   ],
   "source": [
    "ts"
   ]
  },
  {
   "cell_type": "code",
   "execution_count": 62,
   "id": "a7edc637",
   "metadata": {},
   "outputs": [
    {
     "data": {
      "text/plain": [
       "2021-09-30 00:00:00+00:00    3\n",
       "2021-09-30 00:00:01+00:00    3\n",
       "2021-09-30 00:00:02+00:00    3\n",
       "2021-09-30 00:00:03+00:00    3\n",
       "2021-09-30 00:00:04+00:00    3\n",
       "Freq: S, dtype: int64"
      ]
     },
     "execution_count": 62,
     "metadata": {},
     "output_type": "execute_result"
    }
   ],
   "source": [
    "ts_utc=ts.tz_localize('UTC')\n",
    "ts_utc"
   ]
  },
  {
   "cell_type": "code",
   "execution_count": 63,
   "id": "b0aa6173",
   "metadata": {},
   "outputs": [
    {
     "data": {
      "text/plain": [
       "2021-09-29 20:00:00-04:00    3\n",
       "2021-09-29 20:00:01-04:00    3\n",
       "2021-09-29 20:00:02-04:00    3\n",
       "2021-09-29 20:00:03-04:00    3\n",
       "2021-09-29 20:00:04-04:00    3\n",
       "Freq: S, dtype: int64"
      ]
     },
     "execution_count": 63,
     "metadata": {},
     "output_type": "execute_result"
    }
   ],
   "source": [
    "ts_utc.tz_convert('US/Eastern')"
   ]
  },
  {
   "cell_type": "code",
   "execution_count": 64,
   "id": "92eb0c1b",
   "metadata": {},
   "outputs": [
    {
     "name": "stderr",
     "output_type": "stream",
     "text": [
      "C:\\Users\\afsal\\anaconda3\\lib\\site-packages\\IPython\\core\\interactiveshell.py:3369: UserWarning: Parsing '30/09/2021' in DD/MM/YYYY format. Provide format or specify infer_datetime_format=True for consistent parsing.\n",
      "  exec(code_obj, self.user_global_ns, self.user_ns)\n"
     ]
    },
    {
     "data": {
      "text/plain": [
       "DatetimeIndex(['2021-09-30', '2021-10-31', '2021-11-30', '2021-12-31',\n",
       "               '2022-01-31'],\n",
       "              dtype='datetime64[ns]', freq='M')"
      ]
     },
     "execution_count": 64,
     "metadata": {},
     "output_type": "execute_result"
    }
   ],
   "source": [
    "dates=pd.date_range('30/09/2021',periods=5,freq='M')\n",
    "dates"
   ]
  },
  {
   "cell_type": "code",
   "execution_count": 65,
   "id": "1720305c",
   "metadata": {},
   "outputs": [
    {
     "data": {
      "text/plain": [
       "2021-09-30    0\n",
       "2021-10-31    0\n",
       "2021-11-30    0\n",
       "2021-12-31    0\n",
       "2022-01-31    0\n",
       "Freq: M, dtype: int64"
      ]
     },
     "execution_count": 65,
     "metadata": {},
     "output_type": "execute_result"
    }
   ],
   "source": [
    "ts=pd.Series(np.random.randint(len(dates)),dates)\n",
    "ts"
   ]
  },
  {
   "cell_type": "code",
   "execution_count": 66,
   "id": "4063d4ab",
   "metadata": {},
   "outputs": [],
   "source": [
    "ps=ts.to_period()"
   ]
  },
  {
   "cell_type": "code",
   "execution_count": 67,
   "id": "118d5013",
   "metadata": {},
   "outputs": [
    {
     "data": {
      "text/plain": [
       "2021-09    0\n",
       "2021-10    0\n",
       "2021-11    0\n",
       "2021-12    0\n",
       "2022-01    0\n",
       "Freq: M, dtype: int64"
      ]
     },
     "execution_count": 67,
     "metadata": {},
     "output_type": "execute_result"
    }
   ],
   "source": [
    "ps"
   ]
  },
  {
   "cell_type": "code",
   "execution_count": 68,
   "id": "0fc9693f",
   "metadata": {},
   "outputs": [
    {
     "data": {
      "text/plain": [
       "2021-09-01    0\n",
       "2021-10-01    0\n",
       "2021-11-01    0\n",
       "2021-12-01    0\n",
       "2022-01-01    0\n",
       "Freq: MS, dtype: int64"
      ]
     },
     "execution_count": 68,
     "metadata": {},
     "output_type": "execute_result"
    }
   ],
   "source": [
    "ps.to_timestamp()"
   ]
  },
  {
   "cell_type": "code",
   "execution_count": 69,
   "id": "bcde7f2c",
   "metadata": {},
   "outputs": [],
   "source": [
    "df=pd.DataFrame({'id':[1,2,3,4,5,6],\n",
    "                \"grade\":['a','b','c','b','a','e']})\n"
   ]
  },
  {
   "cell_type": "code",
   "execution_count": 70,
   "id": "8e22913a",
   "metadata": {},
   "outputs": [
    {
     "data": {
      "text/html": [
       "<div>\n",
       "<style scoped>\n",
       "    .dataframe tbody tr th:only-of-type {\n",
       "        vertical-align: middle;\n",
       "    }\n",
       "\n",
       "    .dataframe tbody tr th {\n",
       "        vertical-align: top;\n",
       "    }\n",
       "\n",
       "    .dataframe thead th {\n",
       "        text-align: right;\n",
       "    }\n",
       "</style>\n",
       "<table border=\"1\" class=\"dataframe\">\n",
       "  <thead>\n",
       "    <tr style=\"text-align: right;\">\n",
       "      <th></th>\n",
       "      <th>id</th>\n",
       "      <th>grade</th>\n",
       "    </tr>\n",
       "  </thead>\n",
       "  <tbody>\n",
       "    <tr>\n",
       "      <th>0</th>\n",
       "      <td>1</td>\n",
       "      <td>a</td>\n",
       "    </tr>\n",
       "    <tr>\n",
       "      <th>1</th>\n",
       "      <td>2</td>\n",
       "      <td>b</td>\n",
       "    </tr>\n",
       "    <tr>\n",
       "      <th>2</th>\n",
       "      <td>3</td>\n",
       "      <td>c</td>\n",
       "    </tr>\n",
       "    <tr>\n",
       "      <th>3</th>\n",
       "      <td>4</td>\n",
       "      <td>b</td>\n",
       "    </tr>\n",
       "    <tr>\n",
       "      <th>4</th>\n",
       "      <td>5</td>\n",
       "      <td>a</td>\n",
       "    </tr>\n",
       "    <tr>\n",
       "      <th>5</th>\n",
       "      <td>6</td>\n",
       "      <td>e</td>\n",
       "    </tr>\n",
       "  </tbody>\n",
       "</table>\n",
       "</div>"
      ],
      "text/plain": [
       "   id grade\n",
       "0   1     a\n",
       "1   2     b\n",
       "2   3     c\n",
       "3   4     b\n",
       "4   5     a\n",
       "5   6     e"
      ]
     },
     "execution_count": 70,
     "metadata": {},
     "output_type": "execute_result"
    }
   ],
   "source": [
    "df"
   ]
  },
  {
   "cell_type": "code",
   "execution_count": 71,
   "id": "7e20c686",
   "metadata": {},
   "outputs": [
    {
     "data": {
      "text/plain": [
       "0    a\n",
       "1    b\n",
       "2    c\n",
       "3    b\n",
       "4    a\n",
       "5    e\n",
       "Name: Grade, dtype: category\n",
       "Categories (4, object): ['a', 'b', 'c', 'e']"
      ]
     },
     "execution_count": 71,
     "metadata": {},
     "output_type": "execute_result"
    }
   ],
   "source": [
    "df['Grade']=df['grade'].astype('category')\n",
    "df['Grade']\n"
   ]
  },
  {
   "cell_type": "code",
   "execution_count": 72,
   "id": "83e42257",
   "metadata": {},
   "outputs": [
    {
     "data": {
      "text/html": [
       "<div>\n",
       "<style scoped>\n",
       "    .dataframe tbody tr th:only-of-type {\n",
       "        vertical-align: middle;\n",
       "    }\n",
       "\n",
       "    .dataframe tbody tr th {\n",
       "        vertical-align: top;\n",
       "    }\n",
       "\n",
       "    .dataframe thead th {\n",
       "        text-align: right;\n",
       "    }\n",
       "</style>\n",
       "<table border=\"1\" class=\"dataframe\">\n",
       "  <thead>\n",
       "    <tr style=\"text-align: right;\">\n",
       "      <th></th>\n",
       "      <th>id</th>\n",
       "      <th>grade</th>\n",
       "      <th>Grade</th>\n",
       "    </tr>\n",
       "  </thead>\n",
       "  <tbody>\n",
       "    <tr>\n",
       "      <th>0</th>\n",
       "      <td>1</td>\n",
       "      <td>a</td>\n",
       "      <td>a</td>\n",
       "    </tr>\n",
       "    <tr>\n",
       "      <th>1</th>\n",
       "      <td>2</td>\n",
       "      <td>b</td>\n",
       "      <td>b</td>\n",
       "    </tr>\n",
       "    <tr>\n",
       "      <th>2</th>\n",
       "      <td>3</td>\n",
       "      <td>c</td>\n",
       "      <td>c</td>\n",
       "    </tr>\n",
       "    <tr>\n",
       "      <th>3</th>\n",
       "      <td>4</td>\n",
       "      <td>b</td>\n",
       "      <td>b</td>\n",
       "    </tr>\n",
       "    <tr>\n",
       "      <th>4</th>\n",
       "      <td>5</td>\n",
       "      <td>a</td>\n",
       "      <td>a</td>\n",
       "    </tr>\n",
       "    <tr>\n",
       "      <th>5</th>\n",
       "      <td>6</td>\n",
       "      <td>e</td>\n",
       "      <td>e</td>\n",
       "    </tr>\n",
       "  </tbody>\n",
       "</table>\n",
       "</div>"
      ],
      "text/plain": [
       "   id grade Grade\n",
       "0   1     a     a\n",
       "1   2     b     b\n",
       "2   3     c     c\n",
       "3   4     b     b\n",
       "4   5     a     a\n",
       "5   6     e     e"
      ]
     },
     "execution_count": 72,
     "metadata": {},
     "output_type": "execute_result"
    }
   ],
   "source": [
    "df['Grade'].categories=['good','very bad','very good','exelent']\n",
    "df"
   ]
  },
  {
   "cell_type": "code",
   "execution_count": 73,
   "id": "c20d8aa3",
   "metadata": {},
   "outputs": [],
   "source": [
    "df['Grade']=df['Grade'].cat.set_categories(['very good','bad','very bad','good'])"
   ]
  },
  {
   "cell_type": "code",
   "execution_count": 74,
   "id": "f62d4d61",
   "metadata": {},
   "outputs": [
    {
     "data": {
      "text/plain": [
       "0    NaN\n",
       "1    NaN\n",
       "2    NaN\n",
       "3    NaN\n",
       "4    NaN\n",
       "5    NaN\n",
       "Name: Grade, dtype: category\n",
       "Categories (4, object): ['very good', 'bad', 'very bad', 'good']"
      ]
     },
     "execution_count": 74,
     "metadata": {},
     "output_type": "execute_result"
    }
   ],
   "source": [
    "df['Grade']"
   ]
  },
  {
   "cell_type": "code",
   "execution_count": 75,
   "id": "d372469b",
   "metadata": {},
   "outputs": [],
   "source": [
    "ps=ts.to_period()"
   ]
  },
  {
   "cell_type": "code",
   "execution_count": 76,
   "id": "0eb43950",
   "metadata": {},
   "outputs": [
    {
     "data": {
      "text/plain": [
       "2021-09    0\n",
       "2021-10    0\n",
       "2021-11    0\n",
       "2021-12    0\n",
       "2022-01    0\n",
       "Freq: M, dtype: int64"
      ]
     },
     "execution_count": 76,
     "metadata": {},
     "output_type": "execute_result"
    }
   ],
   "source": [
    "ps"
   ]
  },
  {
   "cell_type": "code",
   "execution_count": 77,
   "id": "e94ecc9f",
   "metadata": {},
   "outputs": [
    {
     "data": {
      "text/plain": [
       "2021-09-01    0\n",
       "2021-10-01    0\n",
       "2021-11-01    0\n",
       "2021-12-01    0\n",
       "2022-01-01    0\n",
       "Freq: MS, dtype: int64"
      ]
     },
     "execution_count": 77,
     "metadata": {},
     "output_type": "execute_result"
    }
   ],
   "source": [
    "ps.to_timestamp()"
   ]
  },
  {
   "cell_type": "code",
   "execution_count": 84,
   "id": "6f264d65",
   "metadata": {},
   "outputs": [],
   "source": [
    "df=pd.DataFrame({'id':[1,2,3,4,5,6],\n",
    "                 'Grade':['a','b','c','b','a','e']})"
   ]
  },
  {
   "cell_type": "code",
   "execution_count": 85,
   "id": "20d9dacb",
   "metadata": {},
   "outputs": [
    {
     "data": {
      "text/html": [
       "<div>\n",
       "<style scoped>\n",
       "    .dataframe tbody tr th:only-of-type {\n",
       "        vertical-align: middle;\n",
       "    }\n",
       "\n",
       "    .dataframe tbody tr th {\n",
       "        vertical-align: top;\n",
       "    }\n",
       "\n",
       "    .dataframe thead th {\n",
       "        text-align: right;\n",
       "    }\n",
       "</style>\n",
       "<table border=\"1\" class=\"dataframe\">\n",
       "  <thead>\n",
       "    <tr style=\"text-align: right;\">\n",
       "      <th></th>\n",
       "      <th>id</th>\n",
       "      <th>Grade</th>\n",
       "    </tr>\n",
       "  </thead>\n",
       "  <tbody>\n",
       "    <tr>\n",
       "      <th>0</th>\n",
       "      <td>1</td>\n",
       "      <td>a</td>\n",
       "    </tr>\n",
       "    <tr>\n",
       "      <th>1</th>\n",
       "      <td>2</td>\n",
       "      <td>b</td>\n",
       "    </tr>\n",
       "    <tr>\n",
       "      <th>2</th>\n",
       "      <td>3</td>\n",
       "      <td>c</td>\n",
       "    </tr>\n",
       "    <tr>\n",
       "      <th>3</th>\n",
       "      <td>4</td>\n",
       "      <td>b</td>\n",
       "    </tr>\n",
       "    <tr>\n",
       "      <th>4</th>\n",
       "      <td>5</td>\n",
       "      <td>a</td>\n",
       "    </tr>\n",
       "    <tr>\n",
       "      <th>5</th>\n",
       "      <td>6</td>\n",
       "      <td>e</td>\n",
       "    </tr>\n",
       "  </tbody>\n",
       "</table>\n",
       "</div>"
      ],
      "text/plain": [
       "   id Grade\n",
       "0   1     a\n",
       "1   2     b\n",
       "2   3     c\n",
       "3   4     b\n",
       "4   5     a\n",
       "5   6     e"
      ]
     },
     "execution_count": 85,
     "metadata": {},
     "output_type": "execute_result"
    }
   ],
   "source": [
    "df"
   ]
  },
  {
   "cell_type": "code",
   "execution_count": 86,
   "id": "0bc12ac7",
   "metadata": {},
   "outputs": [
    {
     "data": {
      "text/plain": [
       "0    a\n",
       "1    b\n",
       "2    c\n",
       "3    b\n",
       "4    a\n",
       "5    e\n",
       "Name: grade, dtype: category\n",
       "Categories (4, object): ['a', 'b', 'c', 'e']"
      ]
     },
     "execution_count": 86,
     "metadata": {},
     "output_type": "execute_result"
    }
   ],
   "source": [
    "df['grade']=df['Grade'].astype('category')\n",
    "df['grade']"
   ]
  },
  {
   "cell_type": "code",
   "execution_count": 87,
   "id": "ed719f7f",
   "metadata": {},
   "outputs": [],
   "source": [
    "df['grade'].cat.categories=['good','very bad','very good','exelent']\n"
   ]
  },
  {
   "cell_type": "code",
   "execution_count": 88,
   "id": "0d521a1c",
   "metadata": {},
   "outputs": [
    {
     "data": {
      "text/plain": [
       "0         good\n",
       "1     very bad\n",
       "2    very good\n",
       "3     very bad\n",
       "4         good\n",
       "5          NaN\n",
       "Name: grade, dtype: category\n",
       "Categories (5, object): ['very good', 'bad', 'very bad', 'good', 'medium']"
      ]
     },
     "execution_count": 88,
     "metadata": {},
     "output_type": "execute_result"
    }
   ],
   "source": [
    "df['grade']=df['grade'].cat.set_categories(['very good','bad','very bad','good','medium'])\n",
    "df['grade']\n"
   ]
  },
  {
   "cell_type": "code",
   "execution_count": 89,
   "id": "e5d10a62",
   "metadata": {},
   "outputs": [
    {
     "data": {
      "text/html": [
       "<div>\n",
       "<style scoped>\n",
       "    .dataframe tbody tr th:only-of-type {\n",
       "        vertical-align: middle;\n",
       "    }\n",
       "\n",
       "    .dataframe tbody tr th {\n",
       "        vertical-align: top;\n",
       "    }\n",
       "\n",
       "    .dataframe thead th {\n",
       "        text-align: right;\n",
       "    }\n",
       "</style>\n",
       "<table border=\"1\" class=\"dataframe\">\n",
       "  <thead>\n",
       "    <tr style=\"text-align: right;\">\n",
       "      <th></th>\n",
       "      <th>id</th>\n",
       "      <th>Grade</th>\n",
       "      <th>grade</th>\n",
       "    </tr>\n",
       "  </thead>\n",
       "  <tbody>\n",
       "    <tr>\n",
       "      <th>0</th>\n",
       "      <td>1</td>\n",
       "      <td>a</td>\n",
       "      <td>good</td>\n",
       "    </tr>\n",
       "    <tr>\n",
       "      <th>1</th>\n",
       "      <td>2</td>\n",
       "      <td>b</td>\n",
       "      <td>very bad</td>\n",
       "    </tr>\n",
       "    <tr>\n",
       "      <th>2</th>\n",
       "      <td>3</td>\n",
       "      <td>c</td>\n",
       "      <td>very good</td>\n",
       "    </tr>\n",
       "    <tr>\n",
       "      <th>3</th>\n",
       "      <td>4</td>\n",
       "      <td>b</td>\n",
       "      <td>very bad</td>\n",
       "    </tr>\n",
       "    <tr>\n",
       "      <th>4</th>\n",
       "      <td>5</td>\n",
       "      <td>a</td>\n",
       "      <td>good</td>\n",
       "    </tr>\n",
       "    <tr>\n",
       "      <th>5</th>\n",
       "      <td>6</td>\n",
       "      <td>e</td>\n",
       "      <td>NaN</td>\n",
       "    </tr>\n",
       "  </tbody>\n",
       "</table>\n",
       "</div>"
      ],
      "text/plain": [
       "   id Grade      grade\n",
       "0   1     a       good\n",
       "1   2     b   very bad\n",
       "2   3     c  very good\n",
       "3   4     b   very bad\n",
       "4   5     a       good\n",
       "5   6     e        NaN"
      ]
     },
     "execution_count": 89,
     "metadata": {},
     "output_type": "execute_result"
    }
   ],
   "source": [
    "df"
   ]
  },
  {
   "cell_type": "code",
   "execution_count": null,
   "id": "7601e608",
   "metadata": {},
   "outputs": [],
   "source": []
  },
  {
   "cell_type": "code",
   "execution_count": null,
   "id": "dfbbbc35",
   "metadata": {},
   "outputs": [],
   "source": []
  }
 ],
 "metadata": {
  "kernelspec": {
   "display_name": "Python 3 (ipykernel)",
   "language": "python",
   "name": "python3"
  },
  "language_info": {
   "codemirror_mode": {
    "name": "ipython",
    "version": 3
   },
   "file_extension": ".py",
   "mimetype": "text/x-python",
   "name": "python",
   "nbconvert_exporter": "python",
   "pygments_lexer": "ipython3",
   "version": "3.9.12"
  }
 },
 "nbformat": 4,
 "nbformat_minor": 5
}
